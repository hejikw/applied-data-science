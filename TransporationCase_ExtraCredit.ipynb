{
  "cells": [
    {
      "cell_type": "markdown",
      "metadata": {
        "id": "grdwwDeJE1Ve"
      },
      "source": [
        "**Transporation mode choice modeling**"
      ]
    },
    {
      "cell_type": "code",
      "execution_count": 38,
      "metadata": {
        "id": "zoQn09OCMkCV"
      },
      "outputs": [],
      "source": [
        "import pandas as pd\n",
        "import numpy as np\n",
        "from numpy import inf\n",
        "import seaborn as sns\n",
        "from scipy.stats import norm\n",
        "import itertools\n",
        "import theano\n",
        "from theano import tensor as tt\n",
        "import pymc3 as pm\n",
        "import arviz\n",
        "from matplotlib import pyplot as plt\n",
        "%matplotlib inline"
      ]
    },
    {
      "cell_type": "code",
      "execution_count": 34,
      "metadata": {
        "colab": {
          "base_uri": "https://localhost:8080/",
          "height": 206
        },
        "id": "j7fZdk3k73BI",
        "outputId": "681faad4-4df5-4c9e-f17c-f2d3c2b6cf83"
      },
      "outputs": [
        {
          "output_type": "execute_result",
          "data": {
            "text/plain": [
              "   pulocationid  dolocationid  tmode  duration      price  ridership\n",
              "0             3             7      8  0.653356  12.721600        736\n",
              "1             3             7      3  0.798016  43.157143          0\n",
              "2             3            18      3  0.254000  12.900000       1748\n",
              "3             3            18      5  1.084444   0.000000       3174\n",
              "4             3            18      8  0.268923   7.432000      10879"
            ],
            "text/html": [
              "\n",
              "  <div id=\"df-a77cc577-e70c-432c-ad8e-0c85e43a1da6\">\n",
              "    <div class=\"colab-df-container\">\n",
              "      <div>\n",
              "<style scoped>\n",
              "    .dataframe tbody tr th:only-of-type {\n",
              "        vertical-align: middle;\n",
              "    }\n",
              "\n",
              "    .dataframe tbody tr th {\n",
              "        vertical-align: top;\n",
              "    }\n",
              "\n",
              "    .dataframe thead th {\n",
              "        text-align: right;\n",
              "    }\n",
              "</style>\n",
              "<table border=\"1\" class=\"dataframe\">\n",
              "  <thead>\n",
              "    <tr style=\"text-align: right;\">\n",
              "      <th></th>\n",
              "      <th>pulocationid</th>\n",
              "      <th>dolocationid</th>\n",
              "      <th>tmode</th>\n",
              "      <th>duration</th>\n",
              "      <th>price</th>\n",
              "      <th>ridership</th>\n",
              "    </tr>\n",
              "  </thead>\n",
              "  <tbody>\n",
              "    <tr>\n",
              "      <th>0</th>\n",
              "      <td>3</td>\n",
              "      <td>7</td>\n",
              "      <td>8</td>\n",
              "      <td>0.653356</td>\n",
              "      <td>12.721600</td>\n",
              "      <td>736</td>\n",
              "    </tr>\n",
              "    <tr>\n",
              "      <th>1</th>\n",
              "      <td>3</td>\n",
              "      <td>7</td>\n",
              "      <td>3</td>\n",
              "      <td>0.798016</td>\n",
              "      <td>43.157143</td>\n",
              "      <td>0</td>\n",
              "    </tr>\n",
              "    <tr>\n",
              "      <th>2</th>\n",
              "      <td>3</td>\n",
              "      <td>18</td>\n",
              "      <td>3</td>\n",
              "      <td>0.254000</td>\n",
              "      <td>12.900000</td>\n",
              "      <td>1748</td>\n",
              "    </tr>\n",
              "    <tr>\n",
              "      <th>3</th>\n",
              "      <td>3</td>\n",
              "      <td>18</td>\n",
              "      <td>5</td>\n",
              "      <td>1.084444</td>\n",
              "      <td>0.000000</td>\n",
              "      <td>3174</td>\n",
              "    </tr>\n",
              "    <tr>\n",
              "      <th>4</th>\n",
              "      <td>3</td>\n",
              "      <td>18</td>\n",
              "      <td>8</td>\n",
              "      <td>0.268923</td>\n",
              "      <td>7.432000</td>\n",
              "      <td>10879</td>\n",
              "    </tr>\n",
              "  </tbody>\n",
              "</table>\n",
              "</div>\n",
              "      <button class=\"colab-df-convert\" onclick=\"convertToInteractive('df-a77cc577-e70c-432c-ad8e-0c85e43a1da6')\"\n",
              "              title=\"Convert this dataframe to an interactive table.\"\n",
              "              style=\"display:none;\">\n",
              "        \n",
              "  <svg xmlns=\"http://www.w3.org/2000/svg\" height=\"24px\"viewBox=\"0 0 24 24\"\n",
              "       width=\"24px\">\n",
              "    <path d=\"M0 0h24v24H0V0z\" fill=\"none\"/>\n",
              "    <path d=\"M18.56 5.44l.94 2.06.94-2.06 2.06-.94-2.06-.94-.94-2.06-.94 2.06-2.06.94zm-11 1L8.5 8.5l.94-2.06 2.06-.94-2.06-.94L8.5 2.5l-.94 2.06-2.06.94zm10 10l.94 2.06.94-2.06 2.06-.94-2.06-.94-.94-2.06-.94 2.06-2.06.94z\"/><path d=\"M17.41 7.96l-1.37-1.37c-.4-.4-.92-.59-1.43-.59-.52 0-1.04.2-1.43.59L10.3 9.45l-7.72 7.72c-.78.78-.78 2.05 0 2.83L4 21.41c.39.39.9.59 1.41.59.51 0 1.02-.2 1.41-.59l7.78-7.78 2.81-2.81c.8-.78.8-2.07 0-2.86zM5.41 20L4 18.59l7.72-7.72 1.47 1.35L5.41 20z\"/>\n",
              "  </svg>\n",
              "      </button>\n",
              "      \n",
              "  <style>\n",
              "    .colab-df-container {\n",
              "      display:flex;\n",
              "      flex-wrap:wrap;\n",
              "      gap: 12px;\n",
              "    }\n",
              "\n",
              "    .colab-df-convert {\n",
              "      background-color: #E8F0FE;\n",
              "      border: none;\n",
              "      border-radius: 50%;\n",
              "      cursor: pointer;\n",
              "      display: none;\n",
              "      fill: #1967D2;\n",
              "      height: 32px;\n",
              "      padding: 0 0 0 0;\n",
              "      width: 32px;\n",
              "    }\n",
              "\n",
              "    .colab-df-convert:hover {\n",
              "      background-color: #E2EBFA;\n",
              "      box-shadow: 0px 1px 2px rgba(60, 64, 67, 0.3), 0px 1px 3px 1px rgba(60, 64, 67, 0.15);\n",
              "      fill: #174EA6;\n",
              "    }\n",
              "\n",
              "    [theme=dark] .colab-df-convert {\n",
              "      background-color: #3B4455;\n",
              "      fill: #D2E3FC;\n",
              "    }\n",
              "\n",
              "    [theme=dark] .colab-df-convert:hover {\n",
              "      background-color: #434B5C;\n",
              "      box-shadow: 0px 1px 3px 1px rgba(0, 0, 0, 0.15);\n",
              "      filter: drop-shadow(0px 1px 2px rgba(0, 0, 0, 0.3));\n",
              "      fill: #FFFFFF;\n",
              "    }\n",
              "  </style>\n",
              "\n",
              "      <script>\n",
              "        const buttonEl =\n",
              "          document.querySelector('#df-a77cc577-e70c-432c-ad8e-0c85e43a1da6 button.colab-df-convert');\n",
              "        buttonEl.style.display =\n",
              "          google.colab.kernel.accessAllowed ? 'block' : 'none';\n",
              "\n",
              "        async function convertToInteractive(key) {\n",
              "          const element = document.querySelector('#df-a77cc577-e70c-432c-ad8e-0c85e43a1da6');\n",
              "          const dataTable =\n",
              "            await google.colab.kernel.invokeFunction('convertToInteractive',\n",
              "                                                     [key], {});\n",
              "          if (!dataTable) return;\n",
              "\n",
              "          const docLinkHtml = 'Like what you see? Visit the ' +\n",
              "            '<a target=\"_blank\" href=https://colab.research.google.com/notebooks/data_table.ipynb>data table notebook</a>'\n",
              "            + ' to learn more about interactive tables.';\n",
              "          element.innerHTML = '';\n",
              "          dataTable['output_type'] = 'display_data';\n",
              "          await google.colab.output.renderOutput(dataTable, element);\n",
              "          const docLink = document.createElement('div');\n",
              "          docLink.innerHTML = docLinkHtml;\n",
              "          element.appendChild(docLink);\n",
              "        }\n",
              "      </script>\n",
              "    </div>\n",
              "  </div>\n",
              "  "
            ]
          },
          "metadata": {},
          "execution_count": 34
        }
      ],
      "source": [
        "# read the data\n",
        "\n",
        "data = pd.read_csv('https://raw.githubusercontent.com/CUSP2022ADS/Labs/main/LEHD_commute.csv?token=GHSAT0AAAAAABQ5DFDNKMEBVKSNMCNJF5N6YSV7QEA')\n",
        "data['duration'] = data['duration']/60  # convert time to hours\n",
        "data['ridership'] = data.iloc[:, 5:].sum(axis=1)  ## aggregate the ridership across income groups\n",
        "data = data[['pulocationid', 'dolocationid', 'tmode', 'duration', 'price', 'ridership']]\n",
        "data.head()"
      ]
    },
    {
      "cell_type": "code",
      "execution_count": null,
      "metadata": {
        "colab": {
          "base_uri": "https://localhost:8080/"
        },
        "id": "R1eyIA5D9hxg",
        "outputId": "6e1eb0f6-b618-4fb8-9eb7-501e026463e5"
      },
      "outputs": [
        {
          "data": {
            "text/plain": [
              "191552556"
            ]
          },
          "execution_count": 12,
          "metadata": {},
          "output_type": "execute_result"
        }
      ],
      "source": [
        "data.ridership.sum()"
      ]
    },
    {
      "cell_type": "code",
      "execution_count": null,
      "metadata": {
        "colab": {
          "base_uri": "https://localhost:8080/"
        },
        "id": "Y89aPRuI_38L",
        "outputId": "0fec0b2f-9499-4045-f317-98d0f89fb33a"
      },
      "outputs": [
        {
          "data": {
            "text/plain": [
              "19152"
            ]
          },
          "execution_count": 13,
          "metadata": {},
          "output_type": "execute_result"
        }
      ],
      "source": [
        "# number of unique O-D pairs\n",
        "\n",
        "len(data[['pulocationid', 'dolocationid']].drop_duplicates())"
      ]
    },
    {
      "cell_type": "code",
      "execution_count": null,
      "metadata": {
        "colab": {
          "base_uri": "https://localhost:8080/"
        },
        "id": "L_CWVpJN_6Ge",
        "outputId": "07d906d4-4790-49b7-944b-16a267da372b"
      },
      "outputs": [
        {
          "data": {
            "text/plain": [
              "array([8, 3, 5, 2])"
            ]
          },
          "execution_count": 14,
          "metadata": {},
          "output_type": "execute_result"
        }
      ],
      "source": [
        "# unique modes\n",
        "\n",
        "data.tmode.unique()"
      ]
    },
    {
      "cell_type": "code",
      "execution_count": null,
      "metadata": {
        "colab": {
          "base_uri": "https://localhost:8080/",
          "height": 418
        },
        "id": "atJ48y0v_9E4",
        "outputId": "c6ba7bb3-56a9-45a5-bbd1-e3e6b74f7b9d"
      },
      "outputs": [
        {
          "data": {
            "text/plain": [
              "([<matplotlib.axis.XTick at 0x7f8ac1059f10>,\n",
              "  <matplotlib.axis.XTick at 0x7f8ac1059ed0>,\n",
              "  <matplotlib.axis.XTick at 0x7f8ac1059ad0>,\n",
              "  <matplotlib.axis.XTick at 0x7f8ac11c6390>],\n",
              " [Text(0, 0, 'Transit'),\n",
              "  Text(0, 0, 'Taxi'),\n",
              "  Text(0, 0, 'Walking'),\n",
              "  Text(0, 0, 'Driving')])"
            ]
          },
          "execution_count": 15,
          "metadata": {},
          "output_type": "execute_result"
        },
        {
          "data": {
            "image/png": "[encoded data removed]",
            "text/plain": [
              "<Figure size 432x288 with 1 Axes>"
            ]
          },
          "metadata": {},
          "output_type": "display_data"
        }
      ],
      "source": [
        "## ridership by mode\n",
        "byMode = data.groupby(by='tmode', as_index=False).sum()[['tmode', 'ridership']]\n",
        "plt.bar(np.arange(len(byMode)), list(byMode.ridership), edgecolor = 'black')\n",
        "plt.xticks([r  for r in range(len(byMode))], ['Transit', 'Taxi',\n",
        "                                                      'Walking', 'Driving'], fontsize=12)"
      ]
    },
    {
      "cell_type": "markdown",
      "metadata": {
        "id": "tb_CFWN1E7s_"
      },
      "source": [
        "*Likelihood estimation*"
      ]
    },
    {
      "cell_type": "code",
      "execution_count": null,
      "metadata": {
        "colab": {
          "base_uri": "https://localhost:8080/"
        },
        "id": "W15jq8Y9__pD",
        "outputId": "ac119b2e-de2f-4528-d877-fa870816e989"
      },
      "outputs": [
        {
          "data": {
            "text/plain": [
              "3.8449074074074074"
            ]
          },
          "execution_count": 16,
          "metadata": {},
          "output_type": "execute_result"
        }
      ],
      "source": [
        "# choice for constant C - put as median hourly NYC income\n",
        "# NYC median income is ~ $33,220 per year\n",
        "# we count the total hours rather than business hours to get a somewhat lower bound estimate as people tend to undervalue the price of the time spend outside of work\n",
        "# ideally C could be another parameter of the model, but here we go with a fixed estimate\n",
        "\n",
        "C = 33220/(12*30*24)\n",
        "C"
      ]
    },
    {
      "cell_type": "code",
      "execution_count": null,
      "metadata": {
        "colab": {
          "base_uri": "https://localhost:8080/",
          "height": 265
        },
        "id": "l2oWT8d1ABLj",
        "outputId": "4f465fda-9338-479f-bd3d-5e6e2056e158"
      },
      "outputs": [
        {
          "data": {
            "image/png": "[encoded data removed]",
            "text/plain": [
              "<Figure size 432x288 with 1 Axes>"
            ]
          },
          "metadata": {},
          "output_type": "display_data"
        }
      ],
      "source": [
        "# prior for lambda \n",
        "\n",
        "fig, ax = plt.subplots()\n",
        "x= np.arange(-1,3,0.001)\n",
        "ax.plot(x, norm.pdf(x, loc=1, scale=0.5))\n",
        "\n",
        "plt.show()"
      ]
    },
    {
      "cell_type": "code",
      "execution_count": 3,
      "metadata": {
        "id": "XvIVx1I-ADLP"
      },
      "outputs": [],
      "source": [
        "def MNL(lambda_, data):  # multinomial logit probabilities\n",
        "\n",
        "    # compute probabilities from utility defined above\n",
        "    prob_n = np.exp(lambda_*(-(np.random.normal(loc=data['duration'].values, scale=np.sqrt(data['duration'].values))*3.84 + \n",
        "                               np.random.normal(loc=data['price'].values, scale=np.sqrt(data['price'].values))) + np.random.normal(loc=0, scale=10)))\n",
        "    prob_d = np.sum(prob_n)\n",
        "    pred =  prob_n/prob_d\n",
        "    return pred\n",
        "    \n",
        "def like(lambda_, obs=data['ridership'], return_prob=False):   # compute likelihood\n",
        "\n",
        "    pred = []\n",
        "    # scale = 10000**2\n",
        "\n",
        "    # get MNL probabilities for each o-d travel modes\n",
        "    for o, d in zip(data[['pulocationid', 'dolocationid']].drop_duplicates()['pulocationid'], \n",
        "      data[['pulocationid', 'dolocationid']].drop_duplicates()['dolocationid']):   # iterate each o-d\n",
        "        odLoc = data[(data.pulocationid == o) & (data.dolocationid == d)]\n",
        "        pred.append(MNL(lambda_, odLoc))\n",
        "\n",
        "    pred = np.array(list(itertools.chain(*pred)))\n",
        "\n",
        "    pred = pred.astype(float)\n",
        "    pred[pred == 0] = 0.0001\n",
        "\n",
        "    # return_prob argument is for getting numpy array vs tensor (required for MCMC sampling)\n",
        "    if return_prob == True:\n",
        "        return np.sum(np.log(pred)*obs)\n",
        "    else:\n",
        "        return tt.sum(tt.log(pred)*obs)"
      ]
    },
    {
      "cell_type": "code",
      "execution_count": 4,
      "metadata": {
        "colab": {
          "base_uri": "https://localhost:8080/",
          "height": 236
        },
        "id": "Wh7-n7Z1AFqi",
        "outputId": "44f26784-edcc-4683-e597-eb5afe2bfdfc"
      },
      "outputs": [
        {
          "output_type": "display_data",
          "data": {
            "text/plain": [
              "<IPython.core.display.HTML object>"
            ],
            "text/html": [
              "\n",
              "<style>\n",
              "    /* Turns off some styling */\n",
              "    progress {\n",
              "        /* gets rid of default border in Firefox and Opera. */\n",
              "        border: none;\n",
              "        /* Needs to be in here for Safari polyfill so background images work as expected. */\n",
              "        background-size: auto;\n",
              "    }\n",
              "    .progress-bar-interrupted, .progress-bar-interrupted::-webkit-progress-bar {\n",
              "        background: #F44336;\n",
              "    }\n",
              "</style>\n"
            ]
          },
          "metadata": {}
        },
        {
          "output_type": "display_data",
          "data": {
            "text/plain": [
              "<IPython.core.display.HTML object>"
            ],
            "text/html": [
              "\n",
              "    <div>\n",
              "      <progress value='1' class='' max='1' style='width:300px; height:20px; vertical-align: middle;'></progress>\n",
              "      100.00% [1/1 00:00<00:00 logp = -1.1094e+09, ||grad|| = 0]\n",
              "    </div>\n",
              "    "
            ]
          },
          "metadata": {}
        },
        {
          "output_type": "stream",
          "name": "stdout",
          "text": [
            "\n"
          ]
        },
        {
          "output_type": "stream",
          "name": "stderr",
          "text": [
            "/usr/local/lib/python3.7/dist-packages/ipykernel_launcher.py:6: FutureWarning: In v4.0, pm.sample will return an `arviz.InferenceData` object instead of a `MultiTrace` by default. You can pass return_inferencedata=True or return_inferencedata=False to be safe and silence this warning.\n",
            "  \n",
            "Auto-assigning NUTS sampler...\n",
            "Initializing NUTS using jitter+adapt_diag...\n",
            "Sequential sampling (2 chains in 1 job)\n",
            "NUTS: [lambda]\n"
          ]
        },
        {
          "output_type": "display_data",
          "data": {
            "text/plain": [
              "<IPython.core.display.HTML object>"
            ],
            "text/html": [
              "\n",
              "<style>\n",
              "    /* Turns off some styling */\n",
              "    progress {\n",
              "        /* gets rid of default border in Firefox and Opera. */\n",
              "        border: none;\n",
              "        /* Needs to be in here for Safari polyfill so background images work as expected. */\n",
              "        background-size: auto;\n",
              "    }\n",
              "    .progress-bar-interrupted, .progress-bar-interrupted::-webkit-progress-bar {\n",
              "        background: #F44336;\n",
              "    }\n",
              "</style>\n"
            ]
          },
          "metadata": {}
        },
        {
          "output_type": "display_data",
          "data": {
            "text/plain": [
              "<IPython.core.display.HTML object>"
            ],
            "text/html": [
              "\n",
              "    <div>\n",
              "      <progress value='2000' class='' max='2000' style='width:300px; height:20px; vertical-align: middle;'></progress>\n",
              "      100.00% [2000/2000 00:01<00:00 Sampling chain 0, 0 divergences]\n",
              "    </div>\n",
              "    "
            ]
          },
          "metadata": {}
        },
        {
          "output_type": "display_data",
          "data": {
            "text/plain": [
              "<IPython.core.display.HTML object>"
            ],
            "text/html": [
              "\n",
              "<style>\n",
              "    /* Turns off some styling */\n",
              "    progress {\n",
              "        /* gets rid of default border in Firefox and Opera. */\n",
              "        border: none;\n",
              "        /* Needs to be in here for Safari polyfill so background images work as expected. */\n",
              "        background-size: auto;\n",
              "    }\n",
              "    .progress-bar-interrupted, .progress-bar-interrupted::-webkit-progress-bar {\n",
              "        background: #F44336;\n",
              "    }\n",
              "</style>\n"
            ]
          },
          "metadata": {}
        },
        {
          "output_type": "display_data",
          "data": {
            "text/plain": [
              "<IPython.core.display.HTML object>"
            ],
            "text/html": [
              "\n",
              "    <div>\n",
              "      <progress value='2000' class='' max='2000' style='width:300px; height:20px; vertical-align: middle;'></progress>\n",
              "      100.00% [2000/2000 00:01<00:00 Sampling chain 1, 0 divergences]\n",
              "    </div>\n",
              "    "
            ]
          },
          "metadata": {}
        },
        {
          "output_type": "stream",
          "name": "stderr",
          "text": [
            "Sampling 2 chains for 1_000 tune and 1_000 draw iterations (2_000 + 2_000 draws total) took 3 seconds.\n"
          ]
        }
      ],
      "source": [
        "with pm.Model() as transport_model:\n",
        "    lambda1 = pm.Normal('lambda', mu=1, sd=0.5) # lambda prior\n",
        "\n",
        "    likelihood = pm.Potential('likelihood', like(lambda1.random(), data['ridership'])) ## likelihood, we call above likelihood function with 'Potential' in pymc3\n",
        "    start = pm.find_MAP()  # find max likelihood\n",
        "    trace = pm.sample(1000, start=start, progressbar=True) # estimate posterior from MCMC sampling"
      ]
    },
    {
      "cell_type": "code",
      "execution_count": null,
      "metadata": {
        "colab": {
          "base_uri": "https://localhost:8080/",
          "height": 295
        },
        "id": "ZqDX1TqIAHf1",
        "outputId": "a77b6e34-9cb8-4af8-b753-aa54a4e53457"
      },
      "outputs": [
        {
          "name": "stderr",
          "output_type": "stream",
          "text": [
            "Got error No model on context stack. trying to find log_likelihood in translation.\n",
            "/usr/local/lib/python3.7/dist-packages/arviz/data/io_pymc3_3x.py:102: FutureWarning: Using `from_pymc3` without the model will be deprecated in a future release. Not using the model will return less accurate and less useful results. Make sure you use the model argument or call from_pymc3 within a model context.\n",
            "  FutureWarning,\n",
            "Got error No model on context stack. trying to find log_likelihood in translation.\n"
          ]
        },
        {
          "data": {
            "text/plain": [
              "<Figure size 720x720 with 0 Axes>"
            ]
          },
          "execution_count": 20,
          "metadata": {},
          "output_type": "execute_result"
        },
        {
          "data": {
            "image/png": "[encoded data removed]",
            "text/plain": [
              "<Figure size 864x144 with 2 Axes>"
            ]
          },
          "metadata": {},
          "output_type": "display_data"
        },
        {
          "data": {
            "text/plain": [
              "<Figure size 720x720 with 0 Axes>"
            ]
          },
          "metadata": {},
          "output_type": "display_data"
        }
      ],
      "source": [
        "fig = arviz.plot_trace(trace[199:1000])\n",
        "plt.figure(figsize = (10, 10))"
      ]
    },
    {
      "cell_type": "code",
      "execution_count": null,
      "metadata": {
        "colab": {
          "base_uri": "https://localhost:8080/",
          "height": 479
        },
        "id": "wrw-8ygJAJxy",
        "outputId": "7f7ea7c4-8100-403e-ea0b-ae09df623bb8"
      },
      "outputs": [
        {
          "name": "stderr",
          "output_type": "stream",
          "text": [
            "Got error No model on context stack. trying to find log_likelihood in translation.\n",
            "/usr/local/lib/python3.7/dist-packages/arviz/data/io_pymc3_3x.py:102: FutureWarning: Using `from_pymc3` without the model will be deprecated in a future release. Not using the model will return less accurate and less useful results. Make sure you use the model argument or call from_pymc3 within a model context.\n",
            "  FutureWarning,\n"
          ]
        },
        {
          "data": {
            "image/png": "[encoded data removed]",
            "text/plain": [
              "<Figure size 576x432 with 1 Axes>"
            ]
          },
          "metadata": {},
          "output_type": "display_data"
        }
      ],
      "source": [
        "arviz.plot_posterior(trace, figsize = (8, 6));"
      ]
    },
    {
      "cell_type": "code",
      "execution_count": null,
      "metadata": {
        "colab": {
          "base_uri": "https://localhost:8080/"
        },
        "id": "ywGjP4XqAM4_",
        "outputId": "9b111bb8-9664-408b-c70b-bc7825d8eaf2"
      },
      "outputs": [
        {
          "name": "stdout",
          "output_type": "stream",
          "text": [
            "1.0\n"
          ]
        }
      ],
      "source": [
        "# print max-likelihood lambda\n",
        "\n",
        "print(start['lambda'])"
      ]
    },
    {
      "cell_type": "markdown",
      "metadata": {
        "id": "ax4IGNB4FCsh"
      },
      "source": [
        "***Assessing mode-shift in an intervention scenario***"
      ]
    },
    {
      "cell_type": "code",
      "execution_count": null,
      "metadata": {
        "colab": {
          "base_uri": "https://localhost:8080/",
          "height": 206
        },
        "id": "BmLUY546AOnL",
        "outputId": "610e9a9c-9d5d-4a0f-e5bf-636d98dba011"
      },
      "outputs": [
        {
          "data": {
            "text/html": [
              "\n",
              "  <div id=\"df-c4cb2f34-50af-4bed-a279-6bbf4d2225ea\">\n",
              "    <div class=\"colab-df-container\">\n",
              "      <div>\n",
              "<style scoped>\n",
              "    .dataframe tbody tr th:only-of-type {\n",
              "        vertical-align: middle;\n",
              "    }\n",
              "\n",
              "    .dataframe tbody tr th {\n",
              "        vertical-align: top;\n",
              "    }\n",
              "\n",
              "    .dataframe thead th {\n",
              "        text-align: right;\n",
              "    }\n",
              "</style>\n",
              "<table border=\"1\" class=\"dataframe\">\n",
              "  <thead>\n",
              "    <tr style=\"text-align: right;\">\n",
              "      <th></th>\n",
              "      <th>pulocationid</th>\n",
              "      <th>dolocationid</th>\n",
              "      <th>tmode</th>\n",
              "      <th>duration</th>\n",
              "      <th>price</th>\n",
              "      <th>ridership</th>\n",
              "    </tr>\n",
              "  </thead>\n",
              "  <tbody>\n",
              "    <tr>\n",
              "      <th>0</th>\n",
              "      <td>3</td>\n",
              "      <td>7</td>\n",
              "      <td>8</td>\n",
              "      <td>0.653356</td>\n",
              "      <td>12.721600</td>\n",
              "      <td>736</td>\n",
              "    </tr>\n",
              "    <tr>\n",
              "      <th>1</th>\n",
              "      <td>3</td>\n",
              "      <td>7</td>\n",
              "      <td>3</td>\n",
              "      <td>0.798016</td>\n",
              "      <td>46.157143</td>\n",
              "      <td>0</td>\n",
              "    </tr>\n",
              "    <tr>\n",
              "      <th>2</th>\n",
              "      <td>3</td>\n",
              "      <td>18</td>\n",
              "      <td>3</td>\n",
              "      <td>0.254000</td>\n",
              "      <td>15.900000</td>\n",
              "      <td>1748</td>\n",
              "    </tr>\n",
              "    <tr>\n",
              "      <th>3</th>\n",
              "      <td>3</td>\n",
              "      <td>18</td>\n",
              "      <td>5</td>\n",
              "      <td>1.084444</td>\n",
              "      <td>0.000000</td>\n",
              "      <td>3174</td>\n",
              "    </tr>\n",
              "    <tr>\n",
              "      <th>4</th>\n",
              "      <td>3</td>\n",
              "      <td>18</td>\n",
              "      <td>8</td>\n",
              "      <td>0.268923</td>\n",
              "      <td>7.432000</td>\n",
              "      <td>10879</td>\n",
              "    </tr>\n",
              "  </tbody>\n",
              "</table>\n",
              "</div>\n",
              "      <button class=\"colab-df-convert\" onclick=\"convertToInteractive('df-c4cb2f34-50af-4bed-a279-6bbf4d2225ea')\"\n",
              "              title=\"Convert this dataframe to an interactive table.\"\n",
              "              style=\"display:none;\">\n",
              "        \n",
              "  <svg xmlns=\"http://www.w3.org/2000/svg\" height=\"24px\"viewBox=\"0 0 24 24\"\n",
              "       width=\"24px\">\n",
              "    <path d=\"M0 0h24v24H0V0z\" fill=\"none\"/>\n",
              "    <path d=\"M18.56 5.44l.94 2.06.94-2.06 2.06-.94-2.06-.94-.94-2.06-.94 2.06-2.06.94zm-11 1L8.5 8.5l.94-2.06 2.06-.94-2.06-.94L8.5 2.5l-.94 2.06-2.06.94zm10 10l.94 2.06.94-2.06 2.06-.94-2.06-.94-.94-2.06-.94 2.06-2.06.94z\"/><path d=\"M17.41 7.96l-1.37-1.37c-.4-.4-.92-.59-1.43-.59-.52 0-1.04.2-1.43.59L10.3 9.45l-7.72 7.72c-.78.78-.78 2.05 0 2.83L4 21.41c.39.39.9.59 1.41.59.51 0 1.02-.2 1.41-.59l7.78-7.78 2.81-2.81c.8-.78.8-2.07 0-2.86zM5.41 20L4 18.59l7.72-7.72 1.47 1.35L5.41 20z\"/>\n",
              "  </svg>\n",
              "      </button>\n",
              "      \n",
              "  <style>\n",
              "    .colab-df-container {\n",
              "      display:flex;\n",
              "      flex-wrap:wrap;\n",
              "      gap: 12px;\n",
              "    }\n",
              "\n",
              "    .colab-df-convert {\n",
              "      background-color: #E8F0FE;\n",
              "      border: none;\n",
              "      border-radius: 50%;\n",
              "      cursor: pointer;\n",
              "      display: none;\n",
              "      fill: #1967D2;\n",
              "      height: 32px;\n",
              "      padding: 0 0 0 0;\n",
              "      width: 32px;\n",
              "    }\n",
              "\n",
              "    .colab-df-convert:hover {\n",
              "      background-color: #E2EBFA;\n",
              "      box-shadow: 0px 1px 2px rgba(60, 64, 67, 0.3), 0px 1px 3px 1px rgba(60, 64, 67, 0.15);\n",
              "      fill: #174EA6;\n",
              "    }\n",
              "\n",
              "    [theme=dark] .colab-df-convert {\n",
              "      background-color: #3B4455;\n",
              "      fill: #D2E3FC;\n",
              "    }\n",
              "\n",
              "    [theme=dark] .colab-df-convert:hover {\n",
              "      background-color: #434B5C;\n",
              "      box-shadow: 0px 1px 3px 1px rgba(0, 0, 0, 0.15);\n",
              "      filter: drop-shadow(0px 1px 2px rgba(0, 0, 0, 0.3));\n",
              "      fill: #FFFFFF;\n",
              "    }\n",
              "  </style>\n",
              "\n",
              "      <script>\n",
              "        const buttonEl =\n",
              "          document.querySelector('#df-c4cb2f34-50af-4bed-a279-6bbf4d2225ea button.colab-df-convert');\n",
              "        buttonEl.style.display =\n",
              "          google.colab.kernel.accessAllowed ? 'block' : 'none';\n",
              "\n",
              "        async function convertToInteractive(key) {\n",
              "          const element = document.querySelector('#df-c4cb2f34-50af-4bed-a279-6bbf4d2225ea');\n",
              "          const dataTable =\n",
              "            await google.colab.kernel.invokeFunction('convertToInteractive',\n",
              "                                                     [key], {});\n",
              "          if (!dataTable) return;\n",
              "\n",
              "          const docLinkHtml = 'Like what you see? Visit the ' +\n",
              "            '<a target=\"_blank\" href=https://colab.research.google.com/notebooks/data_table.ipynb>data table notebook</a>'\n",
              "            + ' to learn more about interactive tables.';\n",
              "          element.innerHTML = '';\n",
              "          dataTable['output_type'] = 'display_data';\n",
              "          await google.colab.output.renderOutput(dataTable, element);\n",
              "          const docLink = document.createElement('div');\n",
              "          docLink.innerHTML = docLinkHtml;\n",
              "          element.appendChild(docLink);\n",
              "        }\n",
              "      </script>\n",
              "    </div>\n",
              "  </div>\n",
              "  "
            ],
            "text/plain": [
              "   pulocationid  dolocationid  tmode  duration      price  ridership\n",
              "0             3             7      8  0.653356  12.721600        736\n",
              "1             3             7      3  0.798016  46.157143          0\n",
              "2             3            18      3  0.254000  15.900000       1748\n",
              "3             3            18      5  1.084444   0.000000       3174\n",
              "4             3            18      8  0.268923   7.432000      10879"
            ]
          },
          "execution_count": 7,
          "metadata": {},
          "output_type": "execute_result"
        }
      ],
      "source": [
        "data1 = data.copy()  # make new df\n",
        "data1.loc[data1.tmode == 3, 'price'] = data1.loc[data1.tmode == 3, 'price'] + 3\n",
        "data1.head()"
      ]
    },
    {
      "cell_type": "code",
      "execution_count": null,
      "metadata": {
        "colab": {
          "base_uri": "https://localhost:8080/"
        },
        "id": "ebDyotJmARsD",
        "outputId": "526ab7d8-77d8-4cc0-e2b5-a5cc334cec17"
      },
      "outputs": [
        {
          "name": "stderr",
          "output_type": "stream",
          "text": [
            "/usr/local/lib/python3.7/dist-packages/ipykernel_launcher.py:7: RuntimeWarning: invalid value encountered in true_divide\n",
            "  import sys\n"
          ]
        }
      ],
      "source": [
        "lambdas = np.random.choice(trace['lambda'], 100)  # draw samples from lambda posterior\n",
        "# this step could take ~15 mins for 100 samples, reduce the number of samples for faster\n",
        "\n",
        "likes = []   # likelihood values\n",
        "mobDiff = {2:[], 3:[], 5:[], 8:[]}   # mode-shift numbers\n",
        "\n",
        "# estimate trips for lambdas and corresponding likelihoods\n",
        "for l in lambdas:\n",
        "    tempMob_noInter = {2:0, 3:0, 5:0, 8:0}   \n",
        "    tempMob_Inter = {2:0, 3:0, 5:0, 8:0}\n",
        "    for o, d in zip(data[['pulocationid', 'dolocationid']].drop_duplicates()['pulocationid'], \n",
        "        data[['pulocationid', 'dolocationid']].drop_duplicates()['dolocationid']):\n",
        "    \n",
        "        odLoc_noInter = data[(data.pulocationid == o) & (data.dolocationid == d)]\n",
        "        odLoc_Inter = data1[(data1.pulocationid == o) & (data1.dolocationid == d)]  \n",
        "        modes = odLoc_Inter.tmode.values\n",
        "\n",
        "        # probabilities for pre-intervention and post-intervention\n",
        "        prob_noInter = MNL(l, odLoc_noInter)  \n",
        "        prob_Inter = MNL(l, odLoc_Inter)    \n",
        "\n",
        "        for index, mode in enumerate(modes):\n",
        "            tempMob_Inter[mode] = tempMob_Inter[mode] + prob_Inter[index]*np.sum(odLoc_noInter['ridership'])\n",
        "            tempMob_noInter[mode] = tempMob_noInter[mode] + prob_noInter[index]*np.sum(odLoc_Inter['ridership'])\n",
        "        \n",
        "    lhood = np.exp(like(l, return_prob=True))   # likelihood\n",
        "    for it in mobDiff.keys():\n",
        "        mobDiff[it].append(100.0 * tempMob_Inter[it] / tempMob_noInter[it] - 100.0)\n",
        "    likes.append(lhood)\n",
        "            # tempMob.update((x , y*l)for x, y in tempMob.items())"
      ]
    },
    {
      "cell_type": "code",
      "execution_count": null,
      "metadata": {
        "colab": {
          "base_uri": "https://localhost:8080/"
        },
        "id": "LugdX9TTA-VO",
        "outputId": "909334f5-472e-48f8-ccdc-75d5565b7fd5"
      },
      "outputs": [
        {
          "name": "stdout",
          "output_type": "stream",
          "text": [
            "average change for mode 2 : 2.0042188004282053 , std: 2.0211513602486733\n",
            "average change for mode 3 : -45.448822056952395 , std: 13.911545625117917\n",
            "average change for mode 5 : nan , std: nan\n",
            "average change for mode 8 : 3.811794893214037 , std: 4.3659682011603245\n"
          ]
        }
      ],
      "source": [
        "# calculate average and std of mode-shift percentages (relative drop or increase in each mode usage after the intervention)\n",
        "\n",
        "for mode in mobDiff.keys():\n",
        "\n",
        "    mean = np.average(mobDiff[mode])\n",
        "    std = abs(np.average((mobDiff[mode] - np.mean(mobDiff[mode]))**2))\n",
        "    print('average change for mode', mode, ':', mean, ', std:', np.sqrt(std))"
      ]
    },
    {
      "cell_type": "markdown",
      "metadata": {
        "id": "WUvcPozjFH3n"
      },
      "source": [
        "*Surcharge of $1 imposed on private car trips (tmode=8)*"
      ]
    },
    {
      "cell_type": "code",
      "execution_count": null,
      "metadata": {
        "colab": {
          "base_uri": "https://localhost:8080/",
          "height": 206
        },
        "id": "wna2bLl2BAQT",
        "outputId": "8b67c199-279a-4063-aec2-29fb75ce105e"
      },
      "outputs": [
        {
          "data": {
            "text/html": [
              "\n",
              "  <div id=\"df-06d258ba-35e1-4205-bdf8-2de3a3ebd0a3\">\n",
              "    <div class=\"colab-df-container\">\n",
              "      <div>\n",
              "<style scoped>\n",
              "    .dataframe tbody tr th:only-of-type {\n",
              "        vertical-align: middle;\n",
              "    }\n",
              "\n",
              "    .dataframe tbody tr th {\n",
              "        vertical-align: top;\n",
              "    }\n",
              "\n",
              "    .dataframe thead th {\n",
              "        text-align: right;\n",
              "    }\n",
              "</style>\n",
              "<table border=\"1\" class=\"dataframe\">\n",
              "  <thead>\n",
              "    <tr style=\"text-align: right;\">\n",
              "      <th></th>\n",
              "      <th>pulocationid</th>\n",
              "      <th>dolocationid</th>\n",
              "      <th>tmode</th>\n",
              "      <th>duration</th>\n",
              "      <th>price</th>\n",
              "      <th>ridership</th>\n",
              "    </tr>\n",
              "  </thead>\n",
              "  <tbody>\n",
              "    <tr>\n",
              "      <th>0</th>\n",
              "      <td>3</td>\n",
              "      <td>7</td>\n",
              "      <td>8</td>\n",
              "      <td>0.653356</td>\n",
              "      <td>13.721600</td>\n",
              "      <td>736</td>\n",
              "    </tr>\n",
              "    <tr>\n",
              "      <th>1</th>\n",
              "      <td>3</td>\n",
              "      <td>7</td>\n",
              "      <td>3</td>\n",
              "      <td>0.798016</td>\n",
              "      <td>43.157143</td>\n",
              "      <td>0</td>\n",
              "    </tr>\n",
              "    <tr>\n",
              "      <th>2</th>\n",
              "      <td>3</td>\n",
              "      <td>18</td>\n",
              "      <td>3</td>\n",
              "      <td>0.254000</td>\n",
              "      <td>12.900000</td>\n",
              "      <td>1748</td>\n",
              "    </tr>\n",
              "    <tr>\n",
              "      <th>3</th>\n",
              "      <td>3</td>\n",
              "      <td>18</td>\n",
              "      <td>5</td>\n",
              "      <td>1.084444</td>\n",
              "      <td>0.000000</td>\n",
              "      <td>3174</td>\n",
              "    </tr>\n",
              "    <tr>\n",
              "      <th>4</th>\n",
              "      <td>3</td>\n",
              "      <td>18</td>\n",
              "      <td>8</td>\n",
              "      <td>0.268923</td>\n",
              "      <td>8.432000</td>\n",
              "      <td>10879</td>\n",
              "    </tr>\n",
              "  </tbody>\n",
              "</table>\n",
              "</div>\n",
              "      <button class=\"colab-df-convert\" onclick=\"convertToInteractive('df-06d258ba-35e1-4205-bdf8-2de3a3ebd0a3')\"\n",
              "              title=\"Convert this dataframe to an interactive table.\"\n",
              "              style=\"display:none;\">\n",
              "        \n",
              "  <svg xmlns=\"http://www.w3.org/2000/svg\" height=\"24px\"viewBox=\"0 0 24 24\"\n",
              "       width=\"24px\">\n",
              "    <path d=\"M0 0h24v24H0V0z\" fill=\"none\"/>\n",
              "    <path d=\"M18.56 5.44l.94 2.06.94-2.06 2.06-.94-2.06-.94-.94-2.06-.94 2.06-2.06.94zm-11 1L8.5 8.5l.94-2.06 2.06-.94-2.06-.94L8.5 2.5l-.94 2.06-2.06.94zm10 10l.94 2.06.94-2.06 2.06-.94-2.06-.94-.94-2.06-.94 2.06-2.06.94z\"/><path d=\"M17.41 7.96l-1.37-1.37c-.4-.4-.92-.59-1.43-.59-.52 0-1.04.2-1.43.59L10.3 9.45l-7.72 7.72c-.78.78-.78 2.05 0 2.83L4 21.41c.39.39.9.59 1.41.59.51 0 1.02-.2 1.41-.59l7.78-7.78 2.81-2.81c.8-.78.8-2.07 0-2.86zM5.41 20L4 18.59l7.72-7.72 1.47 1.35L5.41 20z\"/>\n",
              "  </svg>\n",
              "      </button>\n",
              "      \n",
              "  <style>\n",
              "    .colab-df-container {\n",
              "      display:flex;\n",
              "      flex-wrap:wrap;\n",
              "      gap: 12px;\n",
              "    }\n",
              "\n",
              "    .colab-df-convert {\n",
              "      background-color: #E8F0FE;\n",
              "      border: none;\n",
              "      border-radius: 50%;\n",
              "      cursor: pointer;\n",
              "      display: none;\n",
              "      fill: #1967D2;\n",
              "      height: 32px;\n",
              "      padding: 0 0 0 0;\n",
              "      width: 32px;\n",
              "    }\n",
              "\n",
              "    .colab-df-convert:hover {\n",
              "      background-color: #E2EBFA;\n",
              "      box-shadow: 0px 1px 2px rgba(60, 64, 67, 0.3), 0px 1px 3px 1px rgba(60, 64, 67, 0.15);\n",
              "      fill: #174EA6;\n",
              "    }\n",
              "\n",
              "    [theme=dark] .colab-df-convert {\n",
              "      background-color: #3B4455;\n",
              "      fill: #D2E3FC;\n",
              "    }\n",
              "\n",
              "    [theme=dark] .colab-df-convert:hover {\n",
              "      background-color: #434B5C;\n",
              "      box-shadow: 0px 1px 3px 1px rgba(0, 0, 0, 0.15);\n",
              "      filter: drop-shadow(0px 1px 2px rgba(0, 0, 0, 0.3));\n",
              "      fill: #FFFFFF;\n",
              "    }\n",
              "  </style>\n",
              "\n",
              "      <script>\n",
              "        const buttonEl =\n",
              "          document.querySelector('#df-06d258ba-35e1-4205-bdf8-2de3a3ebd0a3 button.colab-df-convert');\n",
              "        buttonEl.style.display =\n",
              "          google.colab.kernel.accessAllowed ? 'block' : 'none';\n",
              "\n",
              "        async function convertToInteractive(key) {\n",
              "          const element = document.querySelector('#df-06d258ba-35e1-4205-bdf8-2de3a3ebd0a3');\n",
              "          const dataTable =\n",
              "            await google.colab.kernel.invokeFunction('convertToInteractive',\n",
              "                                                     [key], {});\n",
              "          if (!dataTable) return;\n",
              "\n",
              "          const docLinkHtml = 'Like what you see? Visit the ' +\n",
              "            '<a target=\"_blank\" href=https://colab.research.google.com/notebooks/data_table.ipynb>data table notebook</a>'\n",
              "            + ' to learn more about interactive tables.';\n",
              "          element.innerHTML = '';\n",
              "          dataTable['output_type'] = 'display_data';\n",
              "          await google.colab.output.renderOutput(dataTable, element);\n",
              "          const docLink = document.createElement('div');\n",
              "          docLink.innerHTML = docLinkHtml;\n",
              "          element.appendChild(docLink);\n",
              "        }\n",
              "      </script>\n",
              "    </div>\n",
              "  </div>\n",
              "  "
            ],
            "text/plain": [
              "   pulocationid  dolocationid  tmode  duration      price  ridership\n",
              "0             3             7      8  0.653356  13.721600        736\n",
              "1             3             7      3  0.798016  43.157143          0\n",
              "2             3            18      3  0.254000  12.900000       1748\n",
              "3             3            18      5  1.084444   0.000000       3174\n",
              "4             3            18      8  0.268923   8.432000      10879"
            ]
          },
          "execution_count": 10,
          "metadata": {},
          "output_type": "execute_result"
        }
      ],
      "source": [
        "data11 = data.copy()  # make new df\n",
        "data11.loc[data11.tmode == 8, 'price'] = data11.loc[data11.tmode == 8, 'price'] + 1\n",
        "data11.head()"
      ]
    },
    {
      "cell_type": "code",
      "execution_count": null,
      "metadata": {
        "colab": {
          "base_uri": "https://localhost:8080/"
        },
        "id": "dgqLKRZrFdLn",
        "outputId": "841242b6-0b9a-47a8-cb76-1c4d20cde716"
      },
      "outputs": [
        {
          "name": "stderr",
          "output_type": "stream",
          "text": [
            "/usr/local/lib/python3.7/dist-packages/ipykernel_launcher.py:7: RuntimeWarning: invalid value encountered in true_divide\n",
            "  import sys\n"
          ]
        }
      ],
      "source": [
        "lambdas = np.random.choice(trace['lambda'], 100)  # draw samples from lambda posterior\n",
        "# this step could take ~15 mins for 100 samples, reduce the number of samples for faster\n",
        "\n",
        "likes = []   # likelihood values\n",
        "mobDiff = {2:[], 3:[], 5:[], 8:[]}   # mode-shift numbers\n",
        "\n",
        "# estimate trips for lambdas and corresponding likelihoods\n",
        "for l in lambdas:\n",
        "    tempMob_noInter = {2:0, 3:0, 5:0, 8:0}   \n",
        "    tempMob_Inter = {2:0, 3:0, 5:0, 8:0}\n",
        "    for o, d in zip(data[['pulocationid', 'dolocationid']].drop_duplicates()['pulocationid'], \n",
        "        data[['pulocationid', 'dolocationid']].drop_duplicates()['dolocationid']):\n",
        "    \n",
        "        odLoc_noInter = data[(data.pulocationid == o) & (data.dolocationid == d)]\n",
        "        odLoc_Inter = data11[(data11.pulocationid == o) & (data11.dolocationid == d)]  \n",
        "        modes = odLoc_Inter.tmode.values\n",
        "\n",
        "        # probabilities for pre-intervention and post-intervention\n",
        "        prob_noInter = MNL(l, odLoc_noInter)  \n",
        "        prob_Inter = MNL(l, odLoc_Inter)    \n",
        "\n",
        "        for index, mode in enumerate(modes):\n",
        "            tempMob_Inter[mode] = tempMob_Inter[mode] + prob_Inter[index]*np.sum(odLoc_noInter['ridership'])\n",
        "            tempMob_noInter[mode] = tempMob_noInter[mode] + prob_noInter[index]*np.sum(odLoc_Inter['ridership'])\n",
        "        \n",
        "    lhood = np.exp(like(l, return_prob=True))   # likelihood\n",
        "    for it in mobDiff.keys():\n",
        "        mobDiff[it].append(100.0 * tempMob_Inter[it] / tempMob_noInter[it] - 100.0)\n",
        "    likes.append(lhood)\n",
        "            # tempMob.update((x , y*l)for x, y in tempMob.items())"
      ]
    },
    {
      "cell_type": "code",
      "execution_count": null,
      "metadata": {
        "colab": {
          "base_uri": "https://localhost:8080/"
        },
        "id": "s1iVKX78Fv7m",
        "outputId": "dc55c809-3afd-4e6e-ffd3-7d814ea93a4f"
      },
      "outputs": [
        {
          "name": "stdout",
          "output_type": "stream",
          "text": [
            "average change for mode 2 : 3.433362057635598 , std: 1.879572235990291\n",
            "average change for mode 3 : 9.663983099349121 , std: 10.962332402007155\n",
            "average change for mode 5 : nan , std: nan\n",
            "average change for mode 8 : -14.38351291915381 , std: 4.538999877825491\n"
          ]
        }
      ],
      "source": [
        "# calculate average and std of mode-shift percentages (relative drop or increase in each mode usage after the intervention)\n",
        "\n",
        "for mode in mobDiff.keys():\n",
        "\n",
        "    mean = np.average(mobDiff[mode])\n",
        "    std = abs(np.average((mobDiff[mode] - np.mean(mobDiff[mode]))**2))\n",
        "    print('average change for mode', mode, ':', mean, ', std:', np.sqrt(std))"
      ]
    },
    {
      "cell_type": "markdown",
      "metadata": {
        "id": "PmjxhcwzFwiY"
      },
      "source": [
        "*Surcharge of $5 imposed on private car trips (tmode=8)*"
      ]
    },
    {
      "cell_type": "code",
      "execution_count": null,
      "metadata": {
        "colab": {
          "base_uri": "https://localhost:8080/",
          "height": 206
        },
        "id": "IGh7t0PXFzES",
        "outputId": "7831f073-49bb-480c-bb23-56d2e09c3f39"
      },
      "outputs": [
        {
          "data": {
            "text/html": [
              "\n",
              "  <div id=\"df-9a2b0a9e-2506-4eb1-a626-6cf5104e7699\">\n",
              "    <div class=\"colab-df-container\">\n",
              "      <div>\n",
              "<style scoped>\n",
              "    .dataframe tbody tr th:only-of-type {\n",
              "        vertical-align: middle;\n",
              "    }\n",
              "\n",
              "    .dataframe tbody tr th {\n",
              "        vertical-align: top;\n",
              "    }\n",
              "\n",
              "    .dataframe thead th {\n",
              "        text-align: right;\n",
              "    }\n",
              "</style>\n",
              "<table border=\"1\" class=\"dataframe\">\n",
              "  <thead>\n",
              "    <tr style=\"text-align: right;\">\n",
              "      <th></th>\n",
              "      <th>pulocationid</th>\n",
              "      <th>dolocationid</th>\n",
              "      <th>tmode</th>\n",
              "      <th>duration</th>\n",
              "      <th>price</th>\n",
              "      <th>ridership</th>\n",
              "    </tr>\n",
              "  </thead>\n",
              "  <tbody>\n",
              "    <tr>\n",
              "      <th>0</th>\n",
              "      <td>3</td>\n",
              "      <td>7</td>\n",
              "      <td>8</td>\n",
              "      <td>0.653356</td>\n",
              "      <td>17.721600</td>\n",
              "      <td>736</td>\n",
              "    </tr>\n",
              "    <tr>\n",
              "      <th>1</th>\n",
              "      <td>3</td>\n",
              "      <td>7</td>\n",
              "      <td>3</td>\n",
              "      <td>0.798016</td>\n",
              "      <td>43.157143</td>\n",
              "      <td>0</td>\n",
              "    </tr>\n",
              "    <tr>\n",
              "      <th>2</th>\n",
              "      <td>3</td>\n",
              "      <td>18</td>\n",
              "      <td>3</td>\n",
              "      <td>0.254000</td>\n",
              "      <td>12.900000</td>\n",
              "      <td>1748</td>\n",
              "    </tr>\n",
              "    <tr>\n",
              "      <th>3</th>\n",
              "      <td>3</td>\n",
              "      <td>18</td>\n",
              "      <td>5</td>\n",
              "      <td>1.084444</td>\n",
              "      <td>0.000000</td>\n",
              "      <td>3174</td>\n",
              "    </tr>\n",
              "    <tr>\n",
              "      <th>4</th>\n",
              "      <td>3</td>\n",
              "      <td>18</td>\n",
              "      <td>8</td>\n",
              "      <td>0.268923</td>\n",
              "      <td>12.432000</td>\n",
              "      <td>10879</td>\n",
              "    </tr>\n",
              "  </tbody>\n",
              "</table>\n",
              "</div>\n",
              "      <button class=\"colab-df-convert\" onclick=\"convertToInteractive('df-9a2b0a9e-2506-4eb1-a626-6cf5104e7699')\"\n",
              "              title=\"Convert this dataframe to an interactive table.\"\n",
              "              style=\"display:none;\">\n",
              "        \n",
              "  <svg xmlns=\"http://www.w3.org/2000/svg\" height=\"24px\"viewBox=\"0 0 24 24\"\n",
              "       width=\"24px\">\n",
              "    <path d=\"M0 0h24v24H0V0z\" fill=\"none\"/>\n",
              "    <path d=\"M18.56 5.44l.94 2.06.94-2.06 2.06-.94-2.06-.94-.94-2.06-.94 2.06-2.06.94zm-11 1L8.5 8.5l.94-2.06 2.06-.94-2.06-.94L8.5 2.5l-.94 2.06-2.06.94zm10 10l.94 2.06.94-2.06 2.06-.94-2.06-.94-.94-2.06-.94 2.06-2.06.94z\"/><path d=\"M17.41 7.96l-1.37-1.37c-.4-.4-.92-.59-1.43-.59-.52 0-1.04.2-1.43.59L10.3 9.45l-7.72 7.72c-.78.78-.78 2.05 0 2.83L4 21.41c.39.39.9.59 1.41.59.51 0 1.02-.2 1.41-.59l7.78-7.78 2.81-2.81c.8-.78.8-2.07 0-2.86zM5.41 20L4 18.59l7.72-7.72 1.47 1.35L5.41 20z\"/>\n",
              "  </svg>\n",
              "      </button>\n",
              "      \n",
              "  <style>\n",
              "    .colab-df-container {\n",
              "      display:flex;\n",
              "      flex-wrap:wrap;\n",
              "      gap: 12px;\n",
              "    }\n",
              "\n",
              "    .colab-df-convert {\n",
              "      background-color: #E8F0FE;\n",
              "      border: none;\n",
              "      border-radius: 50%;\n",
              "      cursor: pointer;\n",
              "      display: none;\n",
              "      fill: #1967D2;\n",
              "      height: 32px;\n",
              "      padding: 0 0 0 0;\n",
              "      width: 32px;\n",
              "    }\n",
              "\n",
              "    .colab-df-convert:hover {\n",
              "      background-color: #E2EBFA;\n",
              "      box-shadow: 0px 1px 2px rgba(60, 64, 67, 0.3), 0px 1px 3px 1px rgba(60, 64, 67, 0.15);\n",
              "      fill: #174EA6;\n",
              "    }\n",
              "\n",
              "    [theme=dark] .colab-df-convert {\n",
              "      background-color: #3B4455;\n",
              "      fill: #D2E3FC;\n",
              "    }\n",
              "\n",
              "    [theme=dark] .colab-df-convert:hover {\n",
              "      background-color: #434B5C;\n",
              "      box-shadow: 0px 1px 3px 1px rgba(0, 0, 0, 0.15);\n",
              "      filter: drop-shadow(0px 1px 2px rgba(0, 0, 0, 0.3));\n",
              "      fill: #FFFFFF;\n",
              "    }\n",
              "  </style>\n",
              "\n",
              "      <script>\n",
              "        const buttonEl =\n",
              "          document.querySelector('#df-9a2b0a9e-2506-4eb1-a626-6cf5104e7699 button.colab-df-convert');\n",
              "        buttonEl.style.display =\n",
              "          google.colab.kernel.accessAllowed ? 'block' : 'none';\n",
              "\n",
              "        async function convertToInteractive(key) {\n",
              "          const element = document.querySelector('#df-9a2b0a9e-2506-4eb1-a626-6cf5104e7699');\n",
              "          const dataTable =\n",
              "            await google.colab.kernel.invokeFunction('convertToInteractive',\n",
              "                                                     [key], {});\n",
              "          if (!dataTable) return;\n",
              "\n",
              "          const docLinkHtml = 'Like what you see? Visit the ' +\n",
              "            '<a target=\"_blank\" href=https://colab.research.google.com/notebooks/data_table.ipynb>data table notebook</a>'\n",
              "            + ' to learn more about interactive tables.';\n",
              "          element.innerHTML = '';\n",
              "          dataTable['output_type'] = 'display_data';\n",
              "          await google.colab.output.renderOutput(dataTable, element);\n",
              "          const docLink = document.createElement('div');\n",
              "          docLink.innerHTML = docLinkHtml;\n",
              "          element.appendChild(docLink);\n",
              "        }\n",
              "      </script>\n",
              "    </div>\n",
              "  </div>\n",
              "  "
            ],
            "text/plain": [
              "   pulocationid  dolocationid  tmode  duration      price  ridership\n",
              "0             3             7      8  0.653356  17.721600        736\n",
              "1             3             7      3  0.798016  43.157143          0\n",
              "2             3            18      3  0.254000  12.900000       1748\n",
              "3             3            18      5  1.084444   0.000000       3174\n",
              "4             3            18      8  0.268923  12.432000      10879"
            ]
          },
          "execution_count": 13,
          "metadata": {},
          "output_type": "execute_result"
        }
      ],
      "source": [
        "data15 = data.copy()  # make new df\n",
        "data15.loc[data15.tmode == 8, 'price'] = data15.loc[data15.tmode == 8, 'price'] + 5\n",
        "data15.head()"
      ]
    },
    {
      "cell_type": "code",
      "execution_count": null,
      "metadata": {
        "colab": {
          "base_uri": "https://localhost:8080/"
        },
        "id": "Wu9q7kXXF6_i",
        "outputId": "9890cbad-d26f-457a-f60d-93a7c72b12d1"
      },
      "outputs": [
        {
          "name": "stderr",
          "output_type": "stream",
          "text": [
            "/usr/local/lib/python3.7/dist-packages/ipykernel_launcher.py:7: RuntimeWarning: invalid value encountered in true_divide\n",
            "  import sys\n"
          ]
        }
      ],
      "source": [
        "lambdas = np.random.choice(trace['lambda'], 100)  # draw samples from lambda posterior\n",
        "# this step could take ~15 mins for 100 samples, reduce the number of samples for faster\n",
        "\n",
        "likes = []   # likelihood values\n",
        "mobDiff = {2:[], 3:[], 5:[], 8:[]}   # mode-shift numbers\n",
        "\n",
        "# estimate trips for lambdas and corresponding likelihoods\n",
        "for l in lambdas:\n",
        "    tempMob_noInter = {2:0, 3:0, 5:0, 8:0}   \n",
        "    tempMob_Inter = {2:0, 3:0, 5:0, 8:0}\n",
        "    for o, d in zip(data[['pulocationid', 'dolocationid']].drop_duplicates()['pulocationid'], \n",
        "        data[['pulocationid', 'dolocationid']].drop_duplicates()['dolocationid']):\n",
        "    \n",
        "        odLoc_noInter = data[(data.pulocationid == o) & (data.dolocationid == d)]\n",
        "        odLoc_Inter = data15[(data15.pulocationid == o) & (data15.dolocationid == d)]  \n",
        "        modes = odLoc_Inter.tmode.values\n",
        "\n",
        "        # probabilities for pre-intervention and post-intervention\n",
        "        prob_noInter = MNL(l, odLoc_noInter)  \n",
        "        prob_Inter = MNL(l, odLoc_Inter)    \n",
        "\n",
        "        for index, mode in enumerate(modes):\n",
        "            tempMob_Inter[mode] = tempMob_Inter[mode] + prob_Inter[index]*np.sum(odLoc_noInter['ridership'])\n",
        "            tempMob_noInter[mode] = tempMob_noInter[mode] + prob_noInter[index]*np.sum(odLoc_Inter['ridership'])\n",
        "        \n",
        "    lhood = np.exp(like(l, return_prob=True))   # likelihood\n",
        "    for it in mobDiff.keys():\n",
        "        mobDiff[it].append(100.0 * tempMob_Inter[it] / tempMob_noInter[it] - 100.0)\n",
        "    likes.append(lhood)\n",
        "            # tempMob.update((x , y*l)for x, y in tempMob.items())"
      ]
    },
    {
      "cell_type": "code",
      "execution_count": null,
      "metadata": {
        "colab": {
          "base_uri": "https://localhost:8080/"
        },
        "id": "h3L7aVmTF-NI",
        "outputId": "939f8c1d-c770-448a-bac6-5248984ded97"
      },
      "outputs": [
        {
          "name": "stdout",
          "output_type": "stream",
          "text": [
            "average change for mode 2 : 12.019605969835313 , std: 4.839335100122702\n",
            "average change for mode 3 : 30.792097324857693 , std: 13.958756047631312\n",
            "average change for mode 5 : nan , std: nan\n",
            "average change for mode 8 : -51.21676135177254 , std: 13.147282586879538\n"
          ]
        }
      ],
      "source": [
        "# calculate average and std of mode-shift percentages (relative drop or increase in each mode usage after the intervention)\n",
        "\n",
        "for mode in mobDiff.keys():\n",
        "\n",
        "    mean = np.average(mobDiff[mode])\n",
        "    std = abs(np.average((mobDiff[mode] - np.mean(mobDiff[mode]))**2))\n",
        "    print('average change for mode', mode, ':', mean, ', std:', np.sqrt(std))"
      ]
    },
    {
      "cell_type": "markdown",
      "metadata": {
        "id": "T_xrcSf3GAOQ"
      },
      "source": [
        "*Surcharge of $10 imposed on private car trips (tmode=8)*"
      ]
    },
    {
      "cell_type": "code",
      "execution_count": null,
      "metadata": {
        "colab": {
          "base_uri": "https://localhost:8080/",
          "height": 206
        },
        "id": "grsVSl_pF_-q",
        "outputId": "c03abe55-3dd4-45b4-82c1-9b01bd89fcc3"
      },
      "outputs": [
        {
          "data": {
            "text/html": [
              "\n",
              "  <div id=\"df-97960b22-0a93-4794-849d-9b64c082472f\">\n",
              "    <div class=\"colab-df-container\">\n",
              "      <div>\n",
              "<style scoped>\n",
              "    .dataframe tbody tr th:only-of-type {\n",
              "        vertical-align: middle;\n",
              "    }\n",
              "\n",
              "    .dataframe tbody tr th {\n",
              "        vertical-align: top;\n",
              "    }\n",
              "\n",
              "    .dataframe thead th {\n",
              "        text-align: right;\n",
              "    }\n",
              "</style>\n",
              "<table border=\"1\" class=\"dataframe\">\n",
              "  <thead>\n",
              "    <tr style=\"text-align: right;\">\n",
              "      <th></th>\n",
              "      <th>pulocationid</th>\n",
              "      <th>dolocationid</th>\n",
              "      <th>tmode</th>\n",
              "      <th>duration</th>\n",
              "      <th>price</th>\n",
              "      <th>ridership</th>\n",
              "    </tr>\n",
              "  </thead>\n",
              "  <tbody>\n",
              "    <tr>\n",
              "      <th>0</th>\n",
              "      <td>3</td>\n",
              "      <td>7</td>\n",
              "      <td>8</td>\n",
              "      <td>0.653356</td>\n",
              "      <td>22.721600</td>\n",
              "      <td>736</td>\n",
              "    </tr>\n",
              "    <tr>\n",
              "      <th>1</th>\n",
              "      <td>3</td>\n",
              "      <td>7</td>\n",
              "      <td>3</td>\n",
              "      <td>0.798016</td>\n",
              "      <td>43.157143</td>\n",
              "      <td>0</td>\n",
              "    </tr>\n",
              "    <tr>\n",
              "      <th>2</th>\n",
              "      <td>3</td>\n",
              "      <td>18</td>\n",
              "      <td>3</td>\n",
              "      <td>0.254000</td>\n",
              "      <td>12.900000</td>\n",
              "      <td>1748</td>\n",
              "    </tr>\n",
              "    <tr>\n",
              "      <th>3</th>\n",
              "      <td>3</td>\n",
              "      <td>18</td>\n",
              "      <td>5</td>\n",
              "      <td>1.084444</td>\n",
              "      <td>0.000000</td>\n",
              "      <td>3174</td>\n",
              "    </tr>\n",
              "    <tr>\n",
              "      <th>4</th>\n",
              "      <td>3</td>\n",
              "      <td>18</td>\n",
              "      <td>8</td>\n",
              "      <td>0.268923</td>\n",
              "      <td>17.432000</td>\n",
              "      <td>10879</td>\n",
              "    </tr>\n",
              "  </tbody>\n",
              "</table>\n",
              "</div>\n",
              "      <button class=\"colab-df-convert\" onclick=\"convertToInteractive('df-97960b22-0a93-4794-849d-9b64c082472f')\"\n",
              "              title=\"Convert this dataframe to an interactive table.\"\n",
              "              style=\"display:none;\">\n",
              "        \n",
              "  <svg xmlns=\"http://www.w3.org/2000/svg\" height=\"24px\"viewBox=\"0 0 24 24\"\n",
              "       width=\"24px\">\n",
              "    <path d=\"M0 0h24v24H0V0z\" fill=\"none\"/>\n",
              "    <path d=\"M18.56 5.44l.94 2.06.94-2.06 2.06-.94-2.06-.94-.94-2.06-.94 2.06-2.06.94zm-11 1L8.5 8.5l.94-2.06 2.06-.94-2.06-.94L8.5 2.5l-.94 2.06-2.06.94zm10 10l.94 2.06.94-2.06 2.06-.94-2.06-.94-.94-2.06-.94 2.06-2.06.94z\"/><path d=\"M17.41 7.96l-1.37-1.37c-.4-.4-.92-.59-1.43-.59-.52 0-1.04.2-1.43.59L10.3 9.45l-7.72 7.72c-.78.78-.78 2.05 0 2.83L4 21.41c.39.39.9.59 1.41.59.51 0 1.02-.2 1.41-.59l7.78-7.78 2.81-2.81c.8-.78.8-2.07 0-2.86zM5.41 20L4 18.59l7.72-7.72 1.47 1.35L5.41 20z\"/>\n",
              "  </svg>\n",
              "      </button>\n",
              "      \n",
              "  <style>\n",
              "    .colab-df-container {\n",
              "      display:flex;\n",
              "      flex-wrap:wrap;\n",
              "      gap: 12px;\n",
              "    }\n",
              "\n",
              "    .colab-df-convert {\n",
              "      background-color: #E8F0FE;\n",
              "      border: none;\n",
              "      border-radius: 50%;\n",
              "      cursor: pointer;\n",
              "      display: none;\n",
              "      fill: #1967D2;\n",
              "      height: 32px;\n",
              "      padding: 0 0 0 0;\n",
              "      width: 32px;\n",
              "    }\n",
              "\n",
              "    .colab-df-convert:hover {\n",
              "      background-color: #E2EBFA;\n",
              "      box-shadow: 0px 1px 2px rgba(60, 64, 67, 0.3), 0px 1px 3px 1px rgba(60, 64, 67, 0.15);\n",
              "      fill: #174EA6;\n",
              "    }\n",
              "\n",
              "    [theme=dark] .colab-df-convert {\n",
              "      background-color: #3B4455;\n",
              "      fill: #D2E3FC;\n",
              "    }\n",
              "\n",
              "    [theme=dark] .colab-df-convert:hover {\n",
              "      background-color: #434B5C;\n",
              "      box-shadow: 0px 1px 3px 1px rgba(0, 0, 0, 0.15);\n",
              "      filter: drop-shadow(0px 1px 2px rgba(0, 0, 0, 0.3));\n",
              "      fill: #FFFFFF;\n",
              "    }\n",
              "  </style>\n",
              "\n",
              "      <script>\n",
              "        const buttonEl =\n",
              "          document.querySelector('#df-97960b22-0a93-4794-849d-9b64c082472f button.colab-df-convert');\n",
              "        buttonEl.style.display =\n",
              "          google.colab.kernel.accessAllowed ? 'block' : 'none';\n",
              "\n",
              "        async function convertToInteractive(key) {\n",
              "          const element = document.querySelector('#df-97960b22-0a93-4794-849d-9b64c082472f');\n",
              "          const dataTable =\n",
              "            await google.colab.kernel.invokeFunction('convertToInteractive',\n",
              "                                                     [key], {});\n",
              "          if (!dataTable) return;\n",
              "\n",
              "          const docLinkHtml = 'Like what you see? Visit the ' +\n",
              "            '<a target=\"_blank\" href=https://colab.research.google.com/notebooks/data_table.ipynb>data table notebook</a>'\n",
              "            + ' to learn more about interactive tables.';\n",
              "          element.innerHTML = '';\n",
              "          dataTable['output_type'] = 'display_data';\n",
              "          await google.colab.output.renderOutput(dataTable, element);\n",
              "          const docLink = document.createElement('div');\n",
              "          docLink.innerHTML = docLinkHtml;\n",
              "          element.appendChild(docLink);\n",
              "        }\n",
              "      </script>\n",
              "    </div>\n",
              "  </div>\n",
              "  "
            ],
            "text/plain": [
              "   pulocationid  dolocationid  tmode  duration      price  ridership\n",
              "0             3             7      8  0.653356  22.721600        736\n",
              "1             3             7      3  0.798016  43.157143          0\n",
              "2             3            18      3  0.254000  12.900000       1748\n",
              "3             3            18      5  1.084444   0.000000       3174\n",
              "4             3            18      8  0.268923  17.432000      10879"
            ]
          },
          "execution_count": 16,
          "metadata": {},
          "output_type": "execute_result"
        }
      ],
      "source": [
        "data110 = data.copy()  # make new df\n",
        "data110.loc[data110.tmode == 8, 'price'] = data110.loc[data110.tmode == 8, 'price'] + 10\n",
        "data110.head()"
      ]
    },
    {
      "cell_type": "code",
      "execution_count": null,
      "metadata": {
        "id": "q0Qv0jM-GbWP"
      },
      "outputs": [],
      "source": [
        "lambdas = np.random.choice(trace['lambda'], 100)  # draw samples from lambda posterior\n",
        "# this step could take ~15 mins for 100 samples, reduce the number of samples for faster\n",
        "\n",
        "likes = []   # likelihood values\n",
        "mobDiff = {2:[], 3:[], 5:[], 8:[]}   # mode-shift numbers\n",
        "\n",
        "# estimate trips for lambdas and corresponding likelihoods\n",
        "for l in lambdas:\n",
        "    tempMob_noInter = {2:0, 3:0, 5:0, 8:0}   \n",
        "    tempMob_Inter = {2:0, 3:0, 5:0, 8:0}\n",
        "    for o, d in zip(data[['pulocationid', 'dolocationid']].drop_duplicates()['pulocationid'], \n",
        "        data[['pulocationid', 'dolocationid']].drop_duplicates()['dolocationid']):\n",
        "    \n",
        "        odLoc_noInter = data[(data.pulocationid == o) & (data.dolocationid == d)]\n",
        "        odLoc_Inter = data110[(data110.pulocationid == o) & (data110.dolocationid == d)]  \n",
        "        modes = odLoc_Inter.tmode.values\n",
        "\n",
        "        # probabilities for pre-intervention and post-intervention\n",
        "        prob_noInter = MNL(l, odLoc_noInter)  \n",
        "        prob_Inter = MNL(l, odLoc_Inter)    \n",
        "\n",
        "        for index, mode in enumerate(modes):\n",
        "            tempMob_Inter[mode] = tempMob_Inter[mode] + prob_Inter[index]*np.sum(odLoc_noInter['ridership'])\n",
        "            tempMob_noInter[mode] = tempMob_noInter[mode] + prob_noInter[index]*np.sum(odLoc_Inter['ridership'])\n",
        "        \n",
        "    lhood = np.exp(like(l, return_prob=True))   # likelihood\n",
        "    for it in mobDiff.keys():\n",
        "        mobDiff[it].append(100.0 * tempMob_Inter[it] / tempMob_noInter[it] - 100.0)\n",
        "    likes.append(lhood)\n",
        "            # tempMob.update((x , y*l)for x, y in tempMob.items())"
      ]
    },
    {
      "cell_type": "code",
      "execution_count": null,
      "metadata": {
        "colab": {
          "base_uri": "https://localhost:8080/"
        },
        "id": "qfLREMwLGjM0",
        "outputId": "b95c50d0-9f09-4502-ffce-6570b9ade9ce"
      },
      "outputs": [
        {
          "name": "stdout",
          "output_type": "stream",
          "text": [
            "average change for mode 2 : 15.370800615000842 , std: 8.573633392479541\n",
            "average change for mode 3 : 47.581405492007335 , std: 20.23267021002479\n",
            "average change for mode 5 : 12.507062018247375 , std: 7.914671121032594\n",
            "average change for mode 8 : -68.81824866578779 , std: 24.391578327778277\n"
          ]
        }
      ],
      "source": [
        "# calculate average and std of mode-shift percentages (relative drop or increase in each mode usage after the intervention)\n",
        "\n",
        "for mode in mobDiff.keys():\n",
        "\n",
        "    mean = np.average(mobDiff[mode])\n",
        "    std = abs(np.average((mobDiff[mode] - np.mean(mobDiff[mode]))**2))\n",
        "    print('average change for mode', mode, ':', mean, ', std:', np.sqrt(std))"
      ]
    },
    {
      "cell_type": "markdown",
      "metadata": {
        "id": "Yra20LHUGlz9"
      },
      "source": [
        "*Surcharge of $3 surcharge to taxi trips, but added only to trips originating from Manhattan*"
      ]
    },
    {
      "cell_type": "code",
      "execution_count": 5,
      "metadata": {
        "colab": {
          "base_uri": "https://localhost:8080/",
          "height": 206
        },
        "id": "wxfWjv4EG4bv",
        "outputId": "05586395-4687-4339-9624-b75af47a6775"
      },
      "outputs": [
        {
          "output_type": "execute_result",
          "data": {
            "text/plain": [
              "   location_id        borough                     zone\n",
              "0            1            EWR           Newark Airport\n",
              "1            2         Queens              Jamaica Bay\n",
              "2            3          Bronx  Allerton/Pelham Gardens\n",
              "3            4      Manhattan            Alphabet City\n",
              "4            5  Staten Island            Arden Heights"
            ],
            "text/html": [
              "\n",
              "  <div id=\"df-2da74195-0399-44f0-8526-b0e3d4b2b310\">\n",
              "    <div class=\"colab-df-container\">\n",
              "      <div>\n",
              "<style scoped>\n",
              "    .dataframe tbody tr th:only-of-type {\n",
              "        vertical-align: middle;\n",
              "    }\n",
              "\n",
              "    .dataframe tbody tr th {\n",
              "        vertical-align: top;\n",
              "    }\n",
              "\n",
              "    .dataframe thead th {\n",
              "        text-align: right;\n",
              "    }\n",
              "</style>\n",
              "<table border=\"1\" class=\"dataframe\">\n",
              "  <thead>\n",
              "    <tr style=\"text-align: right;\">\n",
              "      <th></th>\n",
              "      <th>location_id</th>\n",
              "      <th>borough</th>\n",
              "      <th>zone</th>\n",
              "    </tr>\n",
              "  </thead>\n",
              "  <tbody>\n",
              "    <tr>\n",
              "      <th>0</th>\n",
              "      <td>1</td>\n",
              "      <td>EWR</td>\n",
              "      <td>Newark Airport</td>\n",
              "    </tr>\n",
              "    <tr>\n",
              "      <th>1</th>\n",
              "      <td>2</td>\n",
              "      <td>Queens</td>\n",
              "      <td>Jamaica Bay</td>\n",
              "    </tr>\n",
              "    <tr>\n",
              "      <th>2</th>\n",
              "      <td>3</td>\n",
              "      <td>Bronx</td>\n",
              "      <td>Allerton/Pelham Gardens</td>\n",
              "    </tr>\n",
              "    <tr>\n",
              "      <th>3</th>\n",
              "      <td>4</td>\n",
              "      <td>Manhattan</td>\n",
              "      <td>Alphabet City</td>\n",
              "    </tr>\n",
              "    <tr>\n",
              "      <th>4</th>\n",
              "      <td>5</td>\n",
              "      <td>Staten Island</td>\n",
              "      <td>Arden Heights</td>\n",
              "    </tr>\n",
              "  </tbody>\n",
              "</table>\n",
              "</div>\n",
              "      <button class=\"colab-df-convert\" onclick=\"convertToInteractive('df-2da74195-0399-44f0-8526-b0e3d4b2b310')\"\n",
              "              title=\"Convert this dataframe to an interactive table.\"\n",
              "              style=\"display:none;\">\n",
              "        \n",
              "  <svg xmlns=\"http://www.w3.org/2000/svg\" height=\"24px\"viewBox=\"0 0 24 24\"\n",
              "       width=\"24px\">\n",
              "    <path d=\"M0 0h24v24H0V0z\" fill=\"none\"/>\n",
              "    <path d=\"M18.56 5.44l.94 2.06.94-2.06 2.06-.94-2.06-.94-.94-2.06-.94 2.06-2.06.94zm-11 1L8.5 8.5l.94-2.06 2.06-.94-2.06-.94L8.5 2.5l-.94 2.06-2.06.94zm10 10l.94 2.06.94-2.06 2.06-.94-2.06-.94-.94-2.06-.94 2.06-2.06.94z\"/><path d=\"M17.41 7.96l-1.37-1.37c-.4-.4-.92-.59-1.43-.59-.52 0-1.04.2-1.43.59L10.3 9.45l-7.72 7.72c-.78.78-.78 2.05 0 2.83L4 21.41c.39.39.9.59 1.41.59.51 0 1.02-.2 1.41-.59l7.78-7.78 2.81-2.81c.8-.78.8-2.07 0-2.86zM5.41 20L4 18.59l7.72-7.72 1.47 1.35L5.41 20z\"/>\n",
              "  </svg>\n",
              "      </button>\n",
              "      \n",
              "  <style>\n",
              "    .colab-df-container {\n",
              "      display:flex;\n",
              "      flex-wrap:wrap;\n",
              "      gap: 12px;\n",
              "    }\n",
              "\n",
              "    .colab-df-convert {\n",
              "      background-color: #E8F0FE;\n",
              "      border: none;\n",
              "      border-radius: 50%;\n",
              "      cursor: pointer;\n",
              "      display: none;\n",
              "      fill: #1967D2;\n",
              "      height: 32px;\n",
              "      padding: 0 0 0 0;\n",
              "      width: 32px;\n",
              "    }\n",
              "\n",
              "    .colab-df-convert:hover {\n",
              "      background-color: #E2EBFA;\n",
              "      box-shadow: 0px 1px 2px rgba(60, 64, 67, 0.3), 0px 1px 3px 1px rgba(60, 64, 67, 0.15);\n",
              "      fill: #174EA6;\n",
              "    }\n",
              "\n",
              "    [theme=dark] .colab-df-convert {\n",
              "      background-color: #3B4455;\n",
              "      fill: #D2E3FC;\n",
              "    }\n",
              "\n",
              "    [theme=dark] .colab-df-convert:hover {\n",
              "      background-color: #434B5C;\n",
              "      box-shadow: 0px 1px 3px 1px rgba(0, 0, 0, 0.15);\n",
              "      filter: drop-shadow(0px 1px 2px rgba(0, 0, 0, 0.3));\n",
              "      fill: #FFFFFF;\n",
              "    }\n",
              "  </style>\n",
              "\n",
              "      <script>\n",
              "        const buttonEl =\n",
              "          document.querySelector('#df-2da74195-0399-44f0-8526-b0e3d4b2b310 button.colab-df-convert');\n",
              "        buttonEl.style.display =\n",
              "          google.colab.kernel.accessAllowed ? 'block' : 'none';\n",
              "\n",
              "        async function convertToInteractive(key) {\n",
              "          const element = document.querySelector('#df-2da74195-0399-44f0-8526-b0e3d4b2b310');\n",
              "          const dataTable =\n",
              "            await google.colab.kernel.invokeFunction('convertToInteractive',\n",
              "                                                     [key], {});\n",
              "          if (!dataTable) return;\n",
              "\n",
              "          const docLinkHtml = 'Like what you see? Visit the ' +\n",
              "            '<a target=\"_blank\" href=https://colab.research.google.com/notebooks/data_table.ipynb>data table notebook</a>'\n",
              "            + ' to learn more about interactive tables.';\n",
              "          element.innerHTML = '';\n",
              "          dataTable['output_type'] = 'display_data';\n",
              "          await google.colab.output.renderOutput(dataTable, element);\n",
              "          const docLink = document.createElement('div');\n",
              "          docLink.innerHTML = docLinkHtml;\n",
              "          element.appendChild(docLink);\n",
              "        }\n",
              "      </script>\n",
              "    </div>\n",
              "  </div>\n",
              "  "
            ]
          },
          "metadata": {},
          "execution_count": 5
        }
      ],
      "source": [
        "#!pip install geopandas\n",
        "import geopandas as gpd\n",
        "\n",
        "# taxi zone data\n",
        "zip = gpd.read_file('https://github.com/CUSP2022ADS/Data/raw/main/taxizone.geojson')\n",
        "zip = zip[['location_id', 'borough', 'zone']]\n",
        "zip['location_id'] = pd.to_numeric(zip['location_id'])\n",
        "zip.head()"
      ]
    },
    {
      "cell_type": "code",
      "execution_count": 6,
      "metadata": {
        "colab": {
          "base_uri": "https://localhost:8080/",
          "height": 206
        },
        "id": "arZREzviuszq",
        "outputId": "823e0fdf-7b83-4879-fe68-946f65f9bde5"
      },
      "outputs": [
        {
          "output_type": "execute_result",
          "data": {
            "text/plain": [
              "       pulocationid  dolocationid  tmode  duration      price  ridership  \\\n",
              "38344           263           261      8  0.423988  24.843939         46   \n",
              "38345           263           262      3  0.109960   5.100715       1840   \n",
              "38346           263           262      2  0.133333   2.750000       7705   \n",
              "38347           263           262      8  0.109435  15.386033       7981   \n",
              "38348           263           262      5  0.142500   0.000000      93679   \n",
              "\n",
              "       location_id    borough            zone  \n",
              "38344          263  Manhattan  Yorkville West  \n",
              "38345          263  Manhattan  Yorkville West  \n",
              "38346          263  Manhattan  Yorkville West  \n",
              "38347          263  Manhattan  Yorkville West  \n",
              "38348          263  Manhattan  Yorkville West  "
            ],
            "text/html": [
              "\n",
              "  <div id=\"df-b6381c09-22bd-4a95-a735-f96c7245b06d\">\n",
              "    <div class=\"colab-df-container\">\n",
              "      <div>\n",
              "<style scoped>\n",
              "    .dataframe tbody tr th:only-of-type {\n",
              "        vertical-align: middle;\n",
              "    }\n",
              "\n",
              "    .dataframe tbody tr th {\n",
              "        vertical-align: top;\n",
              "    }\n",
              "\n",
              "    .dataframe thead th {\n",
              "        text-align: right;\n",
              "    }\n",
              "</style>\n",
              "<table border=\"1\" class=\"dataframe\">\n",
              "  <thead>\n",
              "    <tr style=\"text-align: right;\">\n",
              "      <th></th>\n",
              "      <th>pulocationid</th>\n",
              "      <th>dolocationid</th>\n",
              "      <th>tmode</th>\n",
              "      <th>duration</th>\n",
              "      <th>price</th>\n",
              "      <th>ridership</th>\n",
              "      <th>location_id</th>\n",
              "      <th>borough</th>\n",
              "      <th>zone</th>\n",
              "    </tr>\n",
              "  </thead>\n",
              "  <tbody>\n",
              "    <tr>\n",
              "      <th>38344</th>\n",
              "      <td>263</td>\n",
              "      <td>261</td>\n",
              "      <td>8</td>\n",
              "      <td>0.423988</td>\n",
              "      <td>24.843939</td>\n",
              "      <td>46</td>\n",
              "      <td>263</td>\n",
              "      <td>Manhattan</td>\n",
              "      <td>Yorkville West</td>\n",
              "    </tr>\n",
              "    <tr>\n",
              "      <th>38345</th>\n",
              "      <td>263</td>\n",
              "      <td>262</td>\n",
              "      <td>3</td>\n",
              "      <td>0.109960</td>\n",
              "      <td>5.100715</td>\n",
              "      <td>1840</td>\n",
              "      <td>263</td>\n",
              "      <td>Manhattan</td>\n",
              "      <td>Yorkville West</td>\n",
              "    </tr>\n",
              "    <tr>\n",
              "      <th>38346</th>\n",
              "      <td>263</td>\n",
              "      <td>262</td>\n",
              "      <td>2</td>\n",
              "      <td>0.133333</td>\n",
              "      <td>2.750000</td>\n",
              "      <td>7705</td>\n",
              "      <td>263</td>\n",
              "      <td>Manhattan</td>\n",
              "      <td>Yorkville West</td>\n",
              "    </tr>\n",
              "    <tr>\n",
              "      <th>38347</th>\n",
              "      <td>263</td>\n",
              "      <td>262</td>\n",
              "      <td>8</td>\n",
              "      <td>0.109435</td>\n",
              "      <td>15.386033</td>\n",
              "      <td>7981</td>\n",
              "      <td>263</td>\n",
              "      <td>Manhattan</td>\n",
              "      <td>Yorkville West</td>\n",
              "    </tr>\n",
              "    <tr>\n",
              "      <th>38348</th>\n",
              "      <td>263</td>\n",
              "      <td>262</td>\n",
              "      <td>5</td>\n",
              "      <td>0.142500</td>\n",
              "      <td>0.000000</td>\n",
              "      <td>93679</td>\n",
              "      <td>263</td>\n",
              "      <td>Manhattan</td>\n",
              "      <td>Yorkville West</td>\n",
              "    </tr>\n",
              "  </tbody>\n",
              "</table>\n",
              "</div>\n",
              "      <button class=\"colab-df-convert\" onclick=\"convertToInteractive('df-b6381c09-22bd-4a95-a735-f96c7245b06d')\"\n",
              "              title=\"Convert this dataframe to an interactive table.\"\n",
              "              style=\"display:none;\">\n",
              "        \n",
              "  <svg xmlns=\"http://www.w3.org/2000/svg\" height=\"24px\"viewBox=\"0 0 24 24\"\n",
              "       width=\"24px\">\n",
              "    <path d=\"M0 0h24v24H0V0z\" fill=\"none\"/>\n",
              "    <path d=\"M18.56 5.44l.94 2.06.94-2.06 2.06-.94-2.06-.94-.94-2.06-.94 2.06-2.06.94zm-11 1L8.5 8.5l.94-2.06 2.06-.94-2.06-.94L8.5 2.5l-.94 2.06-2.06.94zm10 10l.94 2.06.94-2.06 2.06-.94-2.06-.94-.94-2.06-.94 2.06-2.06.94z\"/><path d=\"M17.41 7.96l-1.37-1.37c-.4-.4-.92-.59-1.43-.59-.52 0-1.04.2-1.43.59L10.3 9.45l-7.72 7.72c-.78.78-.78 2.05 0 2.83L4 21.41c.39.39.9.59 1.41.59.51 0 1.02-.2 1.41-.59l7.78-7.78 2.81-2.81c.8-.78.8-2.07 0-2.86zM5.41 20L4 18.59l7.72-7.72 1.47 1.35L5.41 20z\"/>\n",
              "  </svg>\n",
              "      </button>\n",
              "      \n",
              "  <style>\n",
              "    .colab-df-container {\n",
              "      display:flex;\n",
              "      flex-wrap:wrap;\n",
              "      gap: 12px;\n",
              "    }\n",
              "\n",
              "    .colab-df-convert {\n",
              "      background-color: #E8F0FE;\n",
              "      border: none;\n",
              "      border-radius: 50%;\n",
              "      cursor: pointer;\n",
              "      display: none;\n",
              "      fill: #1967D2;\n",
              "      height: 32px;\n",
              "      padding: 0 0 0 0;\n",
              "      width: 32px;\n",
              "    }\n",
              "\n",
              "    .colab-df-convert:hover {\n",
              "      background-color: #E2EBFA;\n",
              "      box-shadow: 0px 1px 2px rgba(60, 64, 67, 0.3), 0px 1px 3px 1px rgba(60, 64, 67, 0.15);\n",
              "      fill: #174EA6;\n",
              "    }\n",
              "\n",
              "    [theme=dark] .colab-df-convert {\n",
              "      background-color: #3B4455;\n",
              "      fill: #D2E3FC;\n",
              "    }\n",
              "\n",
              "    [theme=dark] .colab-df-convert:hover {\n",
              "      background-color: #434B5C;\n",
              "      box-shadow: 0px 1px 3px 1px rgba(0, 0, 0, 0.15);\n",
              "      filter: drop-shadow(0px 1px 2px rgba(0, 0, 0, 0.3));\n",
              "      fill: #FFFFFF;\n",
              "    }\n",
              "  </style>\n",
              "\n",
              "      <script>\n",
              "        const buttonEl =\n",
              "          document.querySelector('#df-b6381c09-22bd-4a95-a735-f96c7245b06d button.colab-df-convert');\n",
              "        buttonEl.style.display =\n",
              "          google.colab.kernel.accessAllowed ? 'block' : 'none';\n",
              "\n",
              "        async function convertToInteractive(key) {\n",
              "          const element = document.querySelector('#df-b6381c09-22bd-4a95-a735-f96c7245b06d');\n",
              "          const dataTable =\n",
              "            await google.colab.kernel.invokeFunction('convertToInteractive',\n",
              "                                                     [key], {});\n",
              "          if (!dataTable) return;\n",
              "\n",
              "          const docLinkHtml = 'Like what you see? Visit the ' +\n",
              "            '<a target=\"_blank\" href=https://colab.research.google.com/notebooks/data_table.ipynb>data table notebook</a>'\n",
              "            + ' to learn more about interactive tables.';\n",
              "          element.innerHTML = '';\n",
              "          dataTable['output_type'] = 'display_data';\n",
              "          await google.colab.output.renderOutput(dataTable, element);\n",
              "          const docLink = document.createElement('div');\n",
              "          docLink.innerHTML = docLinkHtml;\n",
              "          element.appendChild(docLink);\n",
              "        }\n",
              "      </script>\n",
              "    </div>\n",
              "  </div>\n",
              "  "
            ]
          },
          "metadata": {},
          "execution_count": 6
        }
      ],
      "source": [
        "data2 = data.copy()  # make new df\n",
        "data2 = data2.merge(zip, how='left', left_on='pulocationid', right_on='location_id') # merge df with zip file\n",
        "data2.tail()"
      ]
    },
    {
      "cell_type": "code",
      "execution_count": 7,
      "metadata": {
        "colab": {
          "base_uri": "https://localhost:8080/",
          "height": 206
        },
        "id": "OhHnrgyIuoLn",
        "outputId": "69d4e13c-faba-4b06-d340-f21ceffe943a"
      },
      "outputs": [
        {
          "output_type": "execute_result",
          "data": {
            "text/plain": [
              "       pulocationid  dolocationid  tmode  duration      price  ridership  \\\n",
              "38344           263           261      8  0.423988  24.843939         46   \n",
              "38345           263           262      3  0.109960   8.100715       1840   \n",
              "38346           263           262      2  0.133333   2.750000       7705   \n",
              "38347           263           262      8  0.109435  15.386033       7981   \n",
              "38348           263           262      5  0.142500   0.000000      93679   \n",
              "\n",
              "       location_id    borough            zone  \n",
              "38344          263  Manhattan  Yorkville West  \n",
              "38345          263  Manhattan  Yorkville West  \n",
              "38346          263  Manhattan  Yorkville West  \n",
              "38347          263  Manhattan  Yorkville West  \n",
              "38348          263  Manhattan  Yorkville West  "
            ],
            "text/html": [
              "\n",
              "  <div id=\"df-b9855558-97ec-47f9-95c7-01e8532be46a\">\n",
              "    <div class=\"colab-df-container\">\n",
              "      <div>\n",
              "<style scoped>\n",
              "    .dataframe tbody tr th:only-of-type {\n",
              "        vertical-align: middle;\n",
              "    }\n",
              "\n",
              "    .dataframe tbody tr th {\n",
              "        vertical-align: top;\n",
              "    }\n",
              "\n",
              "    .dataframe thead th {\n",
              "        text-align: right;\n",
              "    }\n",
              "</style>\n",
              "<table border=\"1\" class=\"dataframe\">\n",
              "  <thead>\n",
              "    <tr style=\"text-align: right;\">\n",
              "      <th></th>\n",
              "      <th>pulocationid</th>\n",
              "      <th>dolocationid</th>\n",
              "      <th>tmode</th>\n",
              "      <th>duration</th>\n",
              "      <th>price</th>\n",
              "      <th>ridership</th>\n",
              "      <th>location_id</th>\n",
              "      <th>borough</th>\n",
              "      <th>zone</th>\n",
              "    </tr>\n",
              "  </thead>\n",
              "  <tbody>\n",
              "    <tr>\n",
              "      <th>38344</th>\n",
              "      <td>263</td>\n",
              "      <td>261</td>\n",
              "      <td>8</td>\n",
              "      <td>0.423988</td>\n",
              "      <td>24.843939</td>\n",
              "      <td>46</td>\n",
              "      <td>263</td>\n",
              "      <td>Manhattan</td>\n",
              "      <td>Yorkville West</td>\n",
              "    </tr>\n",
              "    <tr>\n",
              "      <th>38345</th>\n",
              "      <td>263</td>\n",
              "      <td>262</td>\n",
              "      <td>3</td>\n",
              "      <td>0.109960</td>\n",
              "      <td>8.100715</td>\n",
              "      <td>1840</td>\n",
              "      <td>263</td>\n",
              "      <td>Manhattan</td>\n",
              "      <td>Yorkville West</td>\n",
              "    </tr>\n",
              "    <tr>\n",
              "      <th>38346</th>\n",
              "      <td>263</td>\n",
              "      <td>262</td>\n",
              "      <td>2</td>\n",
              "      <td>0.133333</td>\n",
              "      <td>2.750000</td>\n",
              "      <td>7705</td>\n",
              "      <td>263</td>\n",
              "      <td>Manhattan</td>\n",
              "      <td>Yorkville West</td>\n",
              "    </tr>\n",
              "    <tr>\n",
              "      <th>38347</th>\n",
              "      <td>263</td>\n",
              "      <td>262</td>\n",
              "      <td>8</td>\n",
              "      <td>0.109435</td>\n",
              "      <td>15.386033</td>\n",
              "      <td>7981</td>\n",
              "      <td>263</td>\n",
              "      <td>Manhattan</td>\n",
              "      <td>Yorkville West</td>\n",
              "    </tr>\n",
              "    <tr>\n",
              "      <th>38348</th>\n",
              "      <td>263</td>\n",
              "      <td>262</td>\n",
              "      <td>5</td>\n",
              "      <td>0.142500</td>\n",
              "      <td>0.000000</td>\n",
              "      <td>93679</td>\n",
              "      <td>263</td>\n",
              "      <td>Manhattan</td>\n",
              "      <td>Yorkville West</td>\n",
              "    </tr>\n",
              "  </tbody>\n",
              "</table>\n",
              "</div>\n",
              "      <button class=\"colab-df-convert\" onclick=\"convertToInteractive('df-b9855558-97ec-47f9-95c7-01e8532be46a')\"\n",
              "              title=\"Convert this dataframe to an interactive table.\"\n",
              "              style=\"display:none;\">\n",
              "        \n",
              "  <svg xmlns=\"http://www.w3.org/2000/svg\" height=\"24px\"viewBox=\"0 0 24 24\"\n",
              "       width=\"24px\">\n",
              "    <path d=\"M0 0h24v24H0V0z\" fill=\"none\"/>\n",
              "    <path d=\"M18.56 5.44l.94 2.06.94-2.06 2.06-.94-2.06-.94-.94-2.06-.94 2.06-2.06.94zm-11 1L8.5 8.5l.94-2.06 2.06-.94-2.06-.94L8.5 2.5l-.94 2.06-2.06.94zm10 10l.94 2.06.94-2.06 2.06-.94-2.06-.94-.94-2.06-.94 2.06-2.06.94z\"/><path d=\"M17.41 7.96l-1.37-1.37c-.4-.4-.92-.59-1.43-.59-.52 0-1.04.2-1.43.59L10.3 9.45l-7.72 7.72c-.78.78-.78 2.05 0 2.83L4 21.41c.39.39.9.59 1.41.59.51 0 1.02-.2 1.41-.59l7.78-7.78 2.81-2.81c.8-.78.8-2.07 0-2.86zM5.41 20L4 18.59l7.72-7.72 1.47 1.35L5.41 20z\"/>\n",
              "  </svg>\n",
              "      </button>\n",
              "      \n",
              "  <style>\n",
              "    .colab-df-container {\n",
              "      display:flex;\n",
              "      flex-wrap:wrap;\n",
              "      gap: 12px;\n",
              "    }\n",
              "\n",
              "    .colab-df-convert {\n",
              "      background-color: #E8F0FE;\n",
              "      border: none;\n",
              "      border-radius: 50%;\n",
              "      cursor: pointer;\n",
              "      display: none;\n",
              "      fill: #1967D2;\n",
              "      height: 32px;\n",
              "      padding: 0 0 0 0;\n",
              "      width: 32px;\n",
              "    }\n",
              "\n",
              "    .colab-df-convert:hover {\n",
              "      background-color: #E2EBFA;\n",
              "      box-shadow: 0px 1px 2px rgba(60, 64, 67, 0.3), 0px 1px 3px 1px rgba(60, 64, 67, 0.15);\n",
              "      fill: #174EA6;\n",
              "    }\n",
              "\n",
              "    [theme=dark] .colab-df-convert {\n",
              "      background-color: #3B4455;\n",
              "      fill: #D2E3FC;\n",
              "    }\n",
              "\n",
              "    [theme=dark] .colab-df-convert:hover {\n",
              "      background-color: #434B5C;\n",
              "      box-shadow: 0px 1px 3px 1px rgba(0, 0, 0, 0.15);\n",
              "      filter: drop-shadow(0px 1px 2px rgba(0, 0, 0, 0.3));\n",
              "      fill: #FFFFFF;\n",
              "    }\n",
              "  </style>\n",
              "\n",
              "      <script>\n",
              "        const buttonEl =\n",
              "          document.querySelector('#df-b9855558-97ec-47f9-95c7-01e8532be46a button.colab-df-convert');\n",
              "        buttonEl.style.display =\n",
              "          google.colab.kernel.accessAllowed ? 'block' : 'none';\n",
              "\n",
              "        async function convertToInteractive(key) {\n",
              "          const element = document.querySelector('#df-b9855558-97ec-47f9-95c7-01e8532be46a');\n",
              "          const dataTable =\n",
              "            await google.colab.kernel.invokeFunction('convertToInteractive',\n",
              "                                                     [key], {});\n",
              "          if (!dataTable) return;\n",
              "\n",
              "          const docLinkHtml = 'Like what you see? Visit the ' +\n",
              "            '<a target=\"_blank\" href=https://colab.research.google.com/notebooks/data_table.ipynb>data table notebook</a>'\n",
              "            + ' to learn more about interactive tables.';\n",
              "          element.innerHTML = '';\n",
              "          dataTable['output_type'] = 'display_data';\n",
              "          await google.colab.output.renderOutput(dataTable, element);\n",
              "          const docLink = document.createElement('div');\n",
              "          docLink.innerHTML = docLinkHtml;\n",
              "          element.appendChild(docLink);\n",
              "        }\n",
              "      </script>\n",
              "    </div>\n",
              "  </div>\n",
              "  "
            ]
          },
          "metadata": {},
          "execution_count": 7
        }
      ],
      "source": [
        "data2.loc[(data2.tmode == 3) & (data2.borough == 'Manhattan'), 'price'] = data2.loc[(data2.tmode == 3) & (data2.borough == 'Manhattan'), 'price'] + 3\n",
        "data2.tail()"
      ]
    },
    {
      "cell_type": "code",
      "execution_count": 24,
      "metadata": {
        "colab": {
          "base_uri": "https://localhost:8080/",
          "height": 206
        },
        "id": "g2ltKRO-Cs4R",
        "outputId": "0bb4c089-e178-4fa1-995d-7f67af10fe2f"
      },
      "outputs": [
        {
          "output_type": "execute_result",
          "data": {
            "text/plain": [
              "       pulocationid  dolocationid  tmode  duration      price  ridership\n",
              "38344           263           261      8  0.423988  24.843939         46\n",
              "38345           263           262      3  0.109960   8.100715       1840\n",
              "38346           263           262      2  0.133333   2.750000       7705\n",
              "38347           263           262      8  0.109435  15.386033       7981\n",
              "38348           263           262      5  0.142500   0.000000      93679"
            ],
            "text/html": [
              "\n",
              "  <div id=\"df-830c0228-f7af-4bcb-aca2-fcbfa1b0c98a\">\n",
              "    <div class=\"colab-df-container\">\n",
              "      <div>\n",
              "<style scoped>\n",
              "    .dataframe tbody tr th:only-of-type {\n",
              "        vertical-align: middle;\n",
              "    }\n",
              "\n",
              "    .dataframe tbody tr th {\n",
              "        vertical-align: top;\n",
              "    }\n",
              "\n",
              "    .dataframe thead th {\n",
              "        text-align: right;\n",
              "    }\n",
              "</style>\n",
              "<table border=\"1\" class=\"dataframe\">\n",
              "  <thead>\n",
              "    <tr style=\"text-align: right;\">\n",
              "      <th></th>\n",
              "      <th>pulocationid</th>\n",
              "      <th>dolocationid</th>\n",
              "      <th>tmode</th>\n",
              "      <th>duration</th>\n",
              "      <th>price</th>\n",
              "      <th>ridership</th>\n",
              "    </tr>\n",
              "  </thead>\n",
              "  <tbody>\n",
              "    <tr>\n",
              "      <th>38344</th>\n",
              "      <td>263</td>\n",
              "      <td>261</td>\n",
              "      <td>8</td>\n",
              "      <td>0.423988</td>\n",
              "      <td>24.843939</td>\n",
              "      <td>46</td>\n",
              "    </tr>\n",
              "    <tr>\n",
              "      <th>38345</th>\n",
              "      <td>263</td>\n",
              "      <td>262</td>\n",
              "      <td>3</td>\n",
              "      <td>0.109960</td>\n",
              "      <td>8.100715</td>\n",
              "      <td>1840</td>\n",
              "    </tr>\n",
              "    <tr>\n",
              "      <th>38346</th>\n",
              "      <td>263</td>\n",
              "      <td>262</td>\n",
              "      <td>2</td>\n",
              "      <td>0.133333</td>\n",
              "      <td>2.750000</td>\n",
              "      <td>7705</td>\n",
              "    </tr>\n",
              "    <tr>\n",
              "      <th>38347</th>\n",
              "      <td>263</td>\n",
              "      <td>262</td>\n",
              "      <td>8</td>\n",
              "      <td>0.109435</td>\n",
              "      <td>15.386033</td>\n",
              "      <td>7981</td>\n",
              "    </tr>\n",
              "    <tr>\n",
              "      <th>38348</th>\n",
              "      <td>263</td>\n",
              "      <td>262</td>\n",
              "      <td>5</td>\n",
              "      <td>0.142500</td>\n",
              "      <td>0.000000</td>\n",
              "      <td>93679</td>\n",
              "    </tr>\n",
              "  </tbody>\n",
              "</table>\n",
              "</div>\n",
              "      <button class=\"colab-df-convert\" onclick=\"convertToInteractive('df-830c0228-f7af-4bcb-aca2-fcbfa1b0c98a')\"\n",
              "              title=\"Convert this dataframe to an interactive table.\"\n",
              "              style=\"display:none;\">\n",
              "        \n",
              "  <svg xmlns=\"http://www.w3.org/2000/svg\" height=\"24px\"viewBox=\"0 0 24 24\"\n",
              "       width=\"24px\">\n",
              "    <path d=\"M0 0h24v24H0V0z\" fill=\"none\"/>\n",
              "    <path d=\"M18.56 5.44l.94 2.06.94-2.06 2.06-.94-2.06-.94-.94-2.06-.94 2.06-2.06.94zm-11 1L8.5 8.5l.94-2.06 2.06-.94-2.06-.94L8.5 2.5l-.94 2.06-2.06.94zm10 10l.94 2.06.94-2.06 2.06-.94-2.06-.94-.94-2.06-.94 2.06-2.06.94z\"/><path d=\"M17.41 7.96l-1.37-1.37c-.4-.4-.92-.59-1.43-.59-.52 0-1.04.2-1.43.59L10.3 9.45l-7.72 7.72c-.78.78-.78 2.05 0 2.83L4 21.41c.39.39.9.59 1.41.59.51 0 1.02-.2 1.41-.59l7.78-7.78 2.81-2.81c.8-.78.8-2.07 0-2.86zM5.41 20L4 18.59l7.72-7.72 1.47 1.35L5.41 20z\"/>\n",
              "  </svg>\n",
              "      </button>\n",
              "      \n",
              "  <style>\n",
              "    .colab-df-container {\n",
              "      display:flex;\n",
              "      flex-wrap:wrap;\n",
              "      gap: 12px;\n",
              "    }\n",
              "\n",
              "    .colab-df-convert {\n",
              "      background-color: #E8F0FE;\n",
              "      border: none;\n",
              "      border-radius: 50%;\n",
              "      cursor: pointer;\n",
              "      display: none;\n",
              "      fill: #1967D2;\n",
              "      height: 32px;\n",
              "      padding: 0 0 0 0;\n",
              "      width: 32px;\n",
              "    }\n",
              "\n",
              "    .colab-df-convert:hover {\n",
              "      background-color: #E2EBFA;\n",
              "      box-shadow: 0px 1px 2px rgba(60, 64, 67, 0.3), 0px 1px 3px 1px rgba(60, 64, 67, 0.15);\n",
              "      fill: #174EA6;\n",
              "    }\n",
              "\n",
              "    [theme=dark] .colab-df-convert {\n",
              "      background-color: #3B4455;\n",
              "      fill: #D2E3FC;\n",
              "    }\n",
              "\n",
              "    [theme=dark] .colab-df-convert:hover {\n",
              "      background-color: #434B5C;\n",
              "      box-shadow: 0px 1px 3px 1px rgba(0, 0, 0, 0.15);\n",
              "      filter: drop-shadow(0px 1px 2px rgba(0, 0, 0, 0.3));\n",
              "      fill: #FFFFFF;\n",
              "    }\n",
              "  </style>\n",
              "\n",
              "      <script>\n",
              "        const buttonEl =\n",
              "          document.querySelector('#df-830c0228-f7af-4bcb-aca2-fcbfa1b0c98a button.colab-df-convert');\n",
              "        buttonEl.style.display =\n",
              "          google.colab.kernel.accessAllowed ? 'block' : 'none';\n",
              "\n",
              "        async function convertToInteractive(key) {\n",
              "          const element = document.querySelector('#df-830c0228-f7af-4bcb-aca2-fcbfa1b0c98a');\n",
              "          const dataTable =\n",
              "            await google.colab.kernel.invokeFunction('convertToInteractive',\n",
              "                                                     [key], {});\n",
              "          if (!dataTable) return;\n",
              "\n",
              "          const docLinkHtml = 'Like what you see? Visit the ' +\n",
              "            '<a target=\"_blank\" href=https://colab.research.google.com/notebooks/data_table.ipynb>data table notebook</a>'\n",
              "            + ' to learn more about interactive tables.';\n",
              "          element.innerHTML = '';\n",
              "          dataTable['output_type'] = 'display_data';\n",
              "          await google.colab.output.renderOutput(dataTable, element);\n",
              "          const docLink = document.createElement('div');\n",
              "          docLink.innerHTML = docLinkHtml;\n",
              "          element.appendChild(docLink);\n",
              "        }\n",
              "      </script>\n",
              "    </div>\n",
              "  </div>\n",
              "  "
            ]
          },
          "metadata": {},
          "execution_count": 24
        }
      ],
      "source": [
        "ndata = data2.drop(columns=['location_id','borough','zone'])\n",
        "ndata.tail()"
      ]
    },
    {
      "cell_type": "code",
      "execution_count": null,
      "metadata": {
        "id": "Dg2Q0BsOASVH"
      },
      "outputs": [],
      "source": [
        "lambdas = np.random.choice(trace['lambda'], 100)  # draw samples from lambda posterior\n",
        "# this step could take ~15 mins for 100 samples, reduce the number of samples for faster\n",
        "\n",
        "likes = []   # likelihood values\n",
        "mobDiff = {2:[], 3:[], 5:[], 8:[]}   # mode-shift numbers\n",
        "\n",
        "# estimate trips for lambdas and corresponding likelihoods\n",
        "for l in lambdas:\n",
        "    tempMob_noInter = {2:0, 3:0, 5:0, 8:0}   \n",
        "    tempMob_Inter = {2:0, 3:0, 5:0, 8:0}\n",
        "    for o, d in zip(data[['pulocationid', 'dolocationid']].drop_duplicates()['pulocationid'], \n",
        "        data[['pulocationid', 'dolocationid']].drop_duplicates()['dolocationid']):\n",
        "    \n",
        "        odLoc_noInter = data[(data.pulocationid == o) & (data.dolocationid == d)]\n",
        "        odLoc_Inter = data2[(data2.pulocationid == o) & (data2.dolocationid == d)]  \n",
        "        modes = odLoc_Inter.tmode.values\n",
        "\n",
        "        # probabilities for pre-intervention and post-intervention\n",
        "        prob_noInter = MNL(l, odLoc_noInter)  \n",
        "        prob_Inter = MNL(l, odLoc_Inter)    \n",
        "\n",
        "        for index, mode in enumerate(modes):\n",
        "            tempMob_Inter[mode] = tempMob_Inter[mode] + prob_Inter[index]*np.sum(odLoc_noInter['ridership'])\n",
        "            tempMob_noInter[mode] = tempMob_noInter[mode] + prob_noInter[index]*np.sum(odLoc_Inter['ridership'])\n",
        "        \n",
        "    lhood = np.exp(like(l, return_prob=True))   # likelihood\n",
        "    for it in mobDiff.keys():\n",
        "        mobDiff[it].append(100.0 * tempMob_Inter[it] / tempMob_noInter[it] - 100.0)\n",
        "    likes.append(lhood)\n",
        "            # tempMob.update((x , y*l)for x, y in tempMob.items())"
      ]
    },
    {
      "cell_type": "code",
      "source": [
        "# calculate average and std of mode-shift percentages (relative drop or increase in each mode usage after the intervention)\n",
        "\n",
        "for mode in mobDiff.keys():\n",
        "\n",
        "    mean = np.average(mobDiff[mode])\n",
        "    std = abs(np.average((mobDiff[mode] - np.mean(mobDiff[mode]))**2))\n",
        "    print('average change for mode', mode, ':', mean, ', std:', np.sqrt(std))"
      ],
      "metadata": {
        "id": "OZINz4NGGYTC"
      },
      "execution_count": null,
      "outputs": []
    }
  ],
  "metadata": {
    "colab": {
      "name": "ADS2022_Assignment7-ExtraCredit.ipynb",
      "provenance": []
    },
    "kernelspec": {
      "display_name": "Python 3",
      "name": "python3"
    },
    "language_info": {
      "name": "python"
    }
  },
  "nbformat": 4,
  "nbformat_minor": 0
}
