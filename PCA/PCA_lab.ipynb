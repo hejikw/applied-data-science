{
  "nbformat": 4,
  "nbformat_minor": 0,
  "metadata": {
    "colab": {
      "name": "PCA_lab.ipynb",
      "provenance": []
    },
    "kernelspec": {
      "name": "python3",
      "display_name": "Python 3"
    },
    "language_info": {
      "name": "python"
    }
  },
  "cells": [
    {
      "cell_type": "markdown",
      "source": [
        "***1: Classification of Hand-Written Digits***"
      ],
      "metadata": {
        "id": "MgUSOWqYQ34E"
      }
    },
    {
      "cell_type": "markdown",
      "source": [
        "Sklearn provides a dataset of handwritten digits as one of the examples. This data includes impages of 1787 digits. For each digit, we have 64 variables x1,x2,...x64, each one representing a pixel (grayscale from 0 to 16) on the 8x8 image. The label (y) for each image is the actual digit it represents from 0 to 9."
      ],
      "metadata": {
        "id": "ohQqXQi5Q8MY"
      }
    },
    {
      "cell_type": "code",
      "execution_count": 1,
      "metadata": {
        "colab": {
          "base_uri": "https://localhost:8080/"
        },
        "id": "p8DfX1y-Q1Vf",
        "outputId": "4f12a1be-6da2-4bbe-9e42-08f71bf0ef9b"
      },
      "outputs": [
        {
          "output_type": "stream",
          "name": "stderr",
          "text": [
            "/usr/local/lib/python3.7/dist-packages/statsmodels/tools/_testing.py:19: FutureWarning: pandas.util.testing is deprecated. Use the functions in the public API at pandas.testing instead.\n",
            "  import pandas.util.testing as tm\n"
          ]
        }
      ],
      "source": [
        "import numpy as np\n",
        "import matplotlib.pyplot as plt\n",
        "import pandas as pd\n",
        "import matplotlib.pyplot as plt\n",
        "%matplotlib inline\n",
        "import statsmodels.formula.api as smf\n",
        "import statsmodels.api as sm\n",
        "from scipy.stats import t\n",
        "\n",
        "import warnings\n",
        "warnings.filterwarnings('ignore')"
      ]
    },
    {
      "cell_type": "code",
      "source": [
        "#Load the data\n",
        "from sklearn.datasets import load_digits\n",
        "digits = load_digits()\n",
        "X = digits.data # the digits data\n",
        "y = digits.target # the labels for the digits. This label is only used for coloring the points.\n",
        "#Make a dataframe\n",
        "data=pd.DataFrame(np.concatenate((y.reshape(len(y),1),X),axis=1))\n",
        "data.columns=[\"y\"]+[\"x{}\".format(i) for i in range(1,65)]\n",
        "data.head()"
      ],
      "metadata": {
        "colab": {
          "base_uri": "https://localhost:8080/",
          "height": 235
        },
        "id": "HW8fthrAQ-tH",
        "outputId": "2ec214ee-196e-4f16-d73b-ec34eaa1df84"
      },
      "execution_count": 2,
      "outputs": [
        {
          "output_type": "execute_result",
          "data": {
            "text/plain": [
              "     y   x1   x2   x3    x4    x5    x6   x7   x8   x9  ...  x55  x56  x57  \\\n",
              "0  0.0  0.0  0.0  5.0  13.0   9.0   1.0  0.0  0.0  0.0  ...  0.0  0.0  0.0   \n",
              "1  1.0  0.0  0.0  0.0  12.0  13.0   5.0  0.0  0.0  0.0  ...  0.0  0.0  0.0   \n",
              "2  2.0  0.0  0.0  0.0   4.0  15.0  12.0  0.0  0.0  0.0  ...  5.0  0.0  0.0   \n",
              "3  3.0  0.0  0.0  7.0  15.0  13.0   1.0  0.0  0.0  0.0  ...  9.0  0.0  0.0   \n",
              "4  4.0  0.0  0.0  0.0   1.0  11.0   0.0  0.0  0.0  0.0  ...  0.0  0.0  0.0   \n",
              "\n",
              "   x58  x59   x60   x61   x62  x63  x64  \n",
              "0  0.0  6.0  13.0  10.0   0.0  0.0  0.0  \n",
              "1  0.0  0.0  11.0  16.0  10.0  0.0  0.0  \n",
              "2  0.0  0.0   3.0  11.0  16.0  9.0  0.0  \n",
              "3  0.0  7.0  13.0  13.0   9.0  0.0  0.0  \n",
              "4  0.0  0.0   2.0  16.0   4.0  0.0  0.0  \n",
              "\n",
              "[5 rows x 65 columns]"
            ],
            "text/html": [
              "\n",
              "  <div id=\"df-ac634da0-57ae-4e30-881a-446847e1772a\">\n",
              "    <div class=\"colab-df-container\">\n",
              "      <div>\n",
              "<style scoped>\n",
              "    .dataframe tbody tr th:only-of-type {\n",
              "        vertical-align: middle;\n",
              "    }\n",
              "\n",
              "    .dataframe tbody tr th {\n",
              "        vertical-align: top;\n",
              "    }\n",
              "\n",
              "    .dataframe thead th {\n",
              "        text-align: right;\n",
              "    }\n",
              "</style>\n",
              "<table border=\"1\" class=\"dataframe\">\n",
              "  <thead>\n",
              "    <tr style=\"text-align: right;\">\n",
              "      <th></th>\n",
              "      <th>y</th>\n",
              "      <th>x1</th>\n",
              "      <th>x2</th>\n",
              "      <th>x3</th>\n",
              "      <th>x4</th>\n",
              "      <th>x5</th>\n",
              "      <th>x6</th>\n",
              "      <th>x7</th>\n",
              "      <th>x8</th>\n",
              "      <th>x9</th>\n",
              "      <th>...</th>\n",
              "      <th>x55</th>\n",
              "      <th>x56</th>\n",
              "      <th>x57</th>\n",
              "      <th>x58</th>\n",
              "      <th>x59</th>\n",
              "      <th>x60</th>\n",
              "      <th>x61</th>\n",
              "      <th>x62</th>\n",
              "      <th>x63</th>\n",
              "      <th>x64</th>\n",
              "    </tr>\n",
              "  </thead>\n",
              "  <tbody>\n",
              "    <tr>\n",
              "      <th>0</th>\n",
              "      <td>0.0</td>\n",
              "      <td>0.0</td>\n",
              "      <td>0.0</td>\n",
              "      <td>5.0</td>\n",
              "      <td>13.0</td>\n",
              "      <td>9.0</td>\n",
              "      <td>1.0</td>\n",
              "      <td>0.0</td>\n",
              "      <td>0.0</td>\n",
              "      <td>0.0</td>\n",
              "      <td>...</td>\n",
              "      <td>0.0</td>\n",
              "      <td>0.0</td>\n",
              "      <td>0.0</td>\n",
              "      <td>0.0</td>\n",
              "      <td>6.0</td>\n",
              "      <td>13.0</td>\n",
              "      <td>10.0</td>\n",
              "      <td>0.0</td>\n",
              "      <td>0.0</td>\n",
              "      <td>0.0</td>\n",
              "    </tr>\n",
              "    <tr>\n",
              "      <th>1</th>\n",
              "      <td>1.0</td>\n",
              "      <td>0.0</td>\n",
              "      <td>0.0</td>\n",
              "      <td>0.0</td>\n",
              "      <td>12.0</td>\n",
              "      <td>13.0</td>\n",
              "      <td>5.0</td>\n",
              "      <td>0.0</td>\n",
              "      <td>0.0</td>\n",
              "      <td>0.0</td>\n",
              "      <td>...</td>\n",
              "      <td>0.0</td>\n",
              "      <td>0.0</td>\n",
              "      <td>0.0</td>\n",
              "      <td>0.0</td>\n",
              "      <td>0.0</td>\n",
              "      <td>11.0</td>\n",
              "      <td>16.0</td>\n",
              "      <td>10.0</td>\n",
              "      <td>0.0</td>\n",
              "      <td>0.0</td>\n",
              "    </tr>\n",
              "    <tr>\n",
              "      <th>2</th>\n",
              "      <td>2.0</td>\n",
              "      <td>0.0</td>\n",
              "      <td>0.0</td>\n",
              "      <td>0.0</td>\n",
              "      <td>4.0</td>\n",
              "      <td>15.0</td>\n",
              "      <td>12.0</td>\n",
              "      <td>0.0</td>\n",
              "      <td>0.0</td>\n",
              "      <td>0.0</td>\n",
              "      <td>...</td>\n",
              "      <td>5.0</td>\n",
              "      <td>0.0</td>\n",
              "      <td>0.0</td>\n",
              "      <td>0.0</td>\n",
              "      <td>0.0</td>\n",
              "      <td>3.0</td>\n",
              "      <td>11.0</td>\n",
              "      <td>16.0</td>\n",
              "      <td>9.0</td>\n",
              "      <td>0.0</td>\n",
              "    </tr>\n",
              "    <tr>\n",
              "      <th>3</th>\n",
              "      <td>3.0</td>\n",
              "      <td>0.0</td>\n",
              "      <td>0.0</td>\n",
              "      <td>7.0</td>\n",
              "      <td>15.0</td>\n",
              "      <td>13.0</td>\n",
              "      <td>1.0</td>\n",
              "      <td>0.0</td>\n",
              "      <td>0.0</td>\n",
              "      <td>0.0</td>\n",
              "      <td>...</td>\n",
              "      <td>9.0</td>\n",
              "      <td>0.0</td>\n",
              "      <td>0.0</td>\n",
              "      <td>0.0</td>\n",
              "      <td>7.0</td>\n",
              "      <td>13.0</td>\n",
              "      <td>13.0</td>\n",
              "      <td>9.0</td>\n",
              "      <td>0.0</td>\n",
              "      <td>0.0</td>\n",
              "    </tr>\n",
              "    <tr>\n",
              "      <th>4</th>\n",
              "      <td>4.0</td>\n",
              "      <td>0.0</td>\n",
              "      <td>0.0</td>\n",
              "      <td>0.0</td>\n",
              "      <td>1.0</td>\n",
              "      <td>11.0</td>\n",
              "      <td>0.0</td>\n",
              "      <td>0.0</td>\n",
              "      <td>0.0</td>\n",
              "      <td>0.0</td>\n",
              "      <td>...</td>\n",
              "      <td>0.0</td>\n",
              "      <td>0.0</td>\n",
              "      <td>0.0</td>\n",
              "      <td>0.0</td>\n",
              "      <td>0.0</td>\n",
              "      <td>2.0</td>\n",
              "      <td>16.0</td>\n",
              "      <td>4.0</td>\n",
              "      <td>0.0</td>\n",
              "      <td>0.0</td>\n",
              "    </tr>\n",
              "  </tbody>\n",
              "</table>\n",
              "<p>5 rows × 65 columns</p>\n",
              "</div>\n",
              "      <button class=\"colab-df-convert\" onclick=\"convertToInteractive('df-ac634da0-57ae-4e30-881a-446847e1772a')\"\n",
              "              title=\"Convert this dataframe to an interactive table.\"\n",
              "              style=\"display:none;\">\n",
              "        \n",
              "  <svg xmlns=\"http://www.w3.org/2000/svg\" height=\"24px\"viewBox=\"0 0 24 24\"\n",
              "       width=\"24px\">\n",
              "    <path d=\"M0 0h24v24H0V0z\" fill=\"none\"/>\n",
              "    <path d=\"M18.56 5.44l.94 2.06.94-2.06 2.06-.94-2.06-.94-.94-2.06-.94 2.06-2.06.94zm-11 1L8.5 8.5l.94-2.06 2.06-.94-2.06-.94L8.5 2.5l-.94 2.06-2.06.94zm10 10l.94 2.06.94-2.06 2.06-.94-2.06-.94-.94-2.06-.94 2.06-2.06.94z\"/><path d=\"M17.41 7.96l-1.37-1.37c-.4-.4-.92-.59-1.43-.59-.52 0-1.04.2-1.43.59L10.3 9.45l-7.72 7.72c-.78.78-.78 2.05 0 2.83L4 21.41c.39.39.9.59 1.41.59.51 0 1.02-.2 1.41-.59l7.78-7.78 2.81-2.81c.8-.78.8-2.07 0-2.86zM5.41 20L4 18.59l7.72-7.72 1.47 1.35L5.41 20z\"/>\n",
              "  </svg>\n",
              "      </button>\n",
              "      \n",
              "  <style>\n",
              "    .colab-df-container {\n",
              "      display:flex;\n",
              "      flex-wrap:wrap;\n",
              "      gap: 12px;\n",
              "    }\n",
              "\n",
              "    .colab-df-convert {\n",
              "      background-color: #E8F0FE;\n",
              "      border: none;\n",
              "      border-radius: 50%;\n",
              "      cursor: pointer;\n",
              "      display: none;\n",
              "      fill: #1967D2;\n",
              "      height: 32px;\n",
              "      padding: 0 0 0 0;\n",
              "      width: 32px;\n",
              "    }\n",
              "\n",
              "    .colab-df-convert:hover {\n",
              "      background-color: #E2EBFA;\n",
              "      box-shadow: 0px 1px 2px rgba(60, 64, 67, 0.3), 0px 1px 3px 1px rgba(60, 64, 67, 0.15);\n",
              "      fill: #174EA6;\n",
              "    }\n",
              "\n",
              "    [theme=dark] .colab-df-convert {\n",
              "      background-color: #3B4455;\n",
              "      fill: #D2E3FC;\n",
              "    }\n",
              "\n",
              "    [theme=dark] .colab-df-convert:hover {\n",
              "      background-color: #434B5C;\n",
              "      box-shadow: 0px 1px 3px 1px rgba(0, 0, 0, 0.15);\n",
              "      filter: drop-shadow(0px 1px 2px rgba(0, 0, 0, 0.3));\n",
              "      fill: #FFFFFF;\n",
              "    }\n",
              "  </style>\n",
              "\n",
              "      <script>\n",
              "        const buttonEl =\n",
              "          document.querySelector('#df-ac634da0-57ae-4e30-881a-446847e1772a button.colab-df-convert');\n",
              "        buttonEl.style.display =\n",
              "          google.colab.kernel.accessAllowed ? 'block' : 'none';\n",
              "\n",
              "        async function convertToInteractive(key) {\n",
              "          const element = document.querySelector('#df-ac634da0-57ae-4e30-881a-446847e1772a');\n",
              "          const dataTable =\n",
              "            await google.colab.kernel.invokeFunction('convertToInteractive',\n",
              "                                                     [key], {});\n",
              "          if (!dataTable) return;\n",
              "\n",
              "          const docLinkHtml = 'Like what you see? Visit the ' +\n",
              "            '<a target=\"_blank\" href=https://colab.research.google.com/notebooks/data_table.ipynb>data table notebook</a>'\n",
              "            + ' to learn more about interactive tables.';\n",
              "          element.innerHTML = '';\n",
              "          dataTable['output_type'] = 'display_data';\n",
              "          await google.colab.output.renderOutput(dataTable, element);\n",
              "          const docLink = document.createElement('div');\n",
              "          docLink.innerHTML = docLinkHtml;\n",
              "          element.appendChild(docLink);\n",
              "        }\n",
              "      </script>\n",
              "    </div>\n",
              "  </div>\n",
              "  "
            ]
          },
          "metadata": {},
          "execution_count": 2
        }
      ]
    },
    {
      "cell_type": "code",
      "source": [
        "#original image data is a 2D array\n",
        "X.shape"
      ],
      "metadata": {
        "colab": {
          "base_uri": "https://localhost:8080/"
        },
        "id": "0y1ARXCXRB7b",
        "outputId": "f67bd9ed-0d62-4747-91bb-d78bfff31d28"
      },
      "execution_count": 3,
      "outputs": [
        {
          "output_type": "execute_result",
          "data": {
            "text/plain": [
              "(1797, 64)"
            ]
          },
          "metadata": {},
          "execution_count": 3
        }
      ]
    },
    {
      "cell_type": "markdown",
      "source": [
        "Take the first 10 observations and reconstruct the graph:"
      ],
      "metadata": {
        "id": "ibzUy7s0RFCB"
      }
    },
    {
      "cell_type": "code",
      "source": [
        "#plot the digits using imshow from matplotlib\n",
        "plt.figure(figsize=(10,1))\n",
        "print(\"Label:{}\".format(list(y[:10])))\n",
        "for i in range(10):\n",
        "    plt.subplot(1,10,i+1)\n",
        "    plt.imshow(X[i].reshape(8,8), cmap=plt.cm.gray_r)\n",
        "plt.show()"
      ],
      "metadata": {
        "colab": {
          "base_uri": "https://localhost:8080/",
          "height": 113
        },
        "id": "oDPLoQibRCv7",
        "outputId": "dc727f5e-c3c8-44a8-be68-755818868e5f"
      },
      "execution_count": 4,
      "outputs": [
        {
          "output_type": "stream",
          "name": "stdout",
          "text": [
            "Label:[0, 1, 2, 3, 4, 5, 6, 7, 8, 9]\n"
          ]
        },
        {
          "output_type": "display_data",
          "data": {
            "text/plain": [
              "<Figure size 720x72 with 10 Axes>"
            ],
            "image/png": "[encoded data removed]"
          },
          "metadata": {
            "needs_background": "light"
          }
        }
      ]
    },
    {
      "cell_type": "markdown",
      "source": [
        "**Task 1: Apply PCA to see if we can describe the data with a smaller number of most significant features**"
      ],
      "metadata": {
        "id": "zSKYQ6n8RMfh"
      }
    },
    {
      "cell_type": "code",
      "source": [
        "#import PCA modules\n",
        "from sklearn.decomposition import PCA\n",
        "from sklearn.model_selection import train_test_split\n",
        "from mpl_toolkits.mplot3d import Axes3D\n",
        "from sklearn import datasets\n",
        "from sklearn import linear_model\n",
        "from sklearn import preprocessing\n",
        "from sklearn.metrics import r2_score"
      ],
      "metadata": {
        "id": "Z2l393OBRJad"
      },
      "execution_count": 5,
      "outputs": []
    },
    {
      "cell_type": "code",
      "source": [
        "#set target variable (y) as index\n",
        "data = data.set_index('y')"
      ],
      "metadata": {
        "id": "KPWGaGNXRQD5"
      },
      "execution_count": 6,
      "outputs": []
    },
    {
      "cell_type": "code",
      "source": [
        "#Note: do not need to standardize variables in this case as they represent pixels (placement) not values with magnitude\n",
        "scalerDigits = preprocessing.StandardScaler().fit(data)\n",
        "dataS=scalerDigits.transform(data)  "
      ],
      "metadata": {
        "id": "nfjNJcJERRi_"
      },
      "execution_count": 7,
      "outputs": []
    },
    {
      "cell_type": "code",
      "source": [
        "#Plot explained variance per number of leading PC's \n",
        "#perform PC decomposition over data\n",
        "pca = PCA(dataS.shape[1])\n",
        "dataP=pca.fit_transform(dataS)\n",
        "eigenvalues = pca.explained_variance_ratio_\n",
        "#plot explained variance over the number of components\n",
        "n=64\n",
        "plt.bar(np.arange(n), eigenvalues[:n].cumsum())\n",
        "plt.xlabel(\"Number of components\")\n",
        "plt.ylabel(\"Explained Variance\")\n",
        "plt.show()"
      ],
      "metadata": {
        "colab": {
          "base_uri": "https://localhost:8080/",
          "height": 279
        },
        "id": "-6utECnBRTNx",
        "outputId": "a87d3290-a2ba-4a94-85c1-ba5dbd3aa20b"
      },
      "execution_count": 8,
      "outputs": [
        {
          "output_type": "display_data",
          "data": {
            "text/plain": [
              "<Figure size 432x288 with 1 Axes>"
            ],
            "image/png": "[encoded data removed]"
          },
          "metadata": {
            "needs_background": "light"
          }
        }
      ]
    },
    {
      "cell_type": "markdown",
      "source": [
        "Around 20-25 leading principal components explain 80 percent of the variance in the data"
      ],
      "metadata": {
        "id": "TM3isqEzRXnq"
      }
    },
    {
      "cell_type": "markdown",
      "source": [
        "**Task 2: Now use three leading PCs to visualize the digits (different colors for different digits)**"
      ],
      "metadata": {
        "id": "XXED2sNwRZ9C"
      }
    },
    {
      "cell_type": "code",
      "source": [
        "# create Digit labels in order to plot\n",
        "Z=np.array(data.index)\n",
        "zeroInd=(Z==0) #zero\n",
        "oneInd=(Z==1) #one\n",
        "twoInd=(Z==2) #two\n",
        "threeInd=(Z==3) #three\n",
        "fourInd=(Z==4) #four\n",
        "fiveInd=(Z==5) #five\n",
        "sixInd=(Z==6) #six\n",
        "sevenInd=(Z==7) #seven\n",
        "eightInd=(Z==8) #eight\n",
        "nineInd=(Z==9) #nine\n",
        "\n",
        "#create an array of the same length as data index providing the digit number\n",
        "D=Z*0\n",
        "D[zeroInd]=0\n",
        "D[oneInd]=1\n",
        "D[twoInd]=2\n",
        "D[threeInd]=3\n",
        "D[fourInd]=4\n",
        "D[fiveInd]=5\n",
        "D[sixInd]=6\n",
        "D[sevenInd]=7\n",
        "D[eightInd]=8\n",
        "D[nineInd]=9"
      ],
      "metadata": {
        "id": "MnYCKKcIRUw9"
      },
      "execution_count": 9,
      "outputs": []
    },
    {
      "cell_type": "code",
      "source": [
        "#reapply PCA with three components so we can visualize in 3 dimensions\n",
        "pca = PCA(n_components=3)\n",
        "dataP = pca.fit_transform(dataS)"
      ],
      "metadata": {
        "id": "qLN3uSpBRenT"
      },
      "execution_count": 10,
      "outputs": []
    },
    {
      "cell_type": "code",
      "source": [
        "# use matplotlib 3D scatter plot: https://matplotlib.org/mpl_toolkits/mplot3d/tutorial.html\n",
        "\n",
        "from mpl_toolkits.mplot3d import Axes3D\n",
        "fig = plt.figure(1, figsize=(8, 6))\n",
        "ax = Axes3D(fig, elev=-150, azim=110)\n",
        "cmap=plt.cm.nipy_spectral(np.linspace(0, 1, 10))\n",
        "\n",
        "for d in range(0,10):\n",
        "    plt.plot(np.array(dataP[D==d,0]), np.array(dataP[D==d,1]), np.array(dataP[D==d,2]), \n",
        "                 'o', color=cmap[d], alpha=0.8, label=d)\n",
        "\n",
        "plt.xlabel('PC 1')\n",
        "plt.ylabel('PC 2')\n",
        "ax.set_zlabel('PC 3')\n",
        "plt.legend(['0','1','2','3','4','5','6','7','8','9'],loc='upper left');"
      ],
      "metadata": {
        "colab": {
          "base_uri": "https://localhost:8080/",
          "height": 463
        },
        "id": "_ByEgPC1RhIf",
        "outputId": "9e7e6664-29ed-4661-c11a-3cdd2509256c"
      },
      "execution_count": 11,
      "outputs": [
        {
          "output_type": "display_data",
          "data": {
            "text/plain": [
              "<Figure size 576x432 with 1 Axes>"
            ],
            "image/png": "[encoded data removed]"
          },
          "metadata": {
            "needs_background": "light"
          }
        }
      ]
    },
    {
      "cell_type": "markdown",
      "source": [
        "**Task 3: Find six examples of the pairs of digits which a) can and b) can not be clearly distinguished on a 2D plot of first two PCs (3 examples each)**"
      ],
      "metadata": {
        "id": "hgkZ58_GRj4e"
      }
    },
    {
      "cell_type": "code",
      "source": [
        "## code here\n",
        "\n",
        "colors=('gray','red','green','blue','yellow','brown')\n",
        "fig = plt.figure(figsize=(10,10))\n",
        "for d in range(0,10):\n",
        "    plt.plot(np.array(dataP[D==d,0]), np.array(dataP[D==d,1]), \n",
        "                 'o', color=cmap[d], alpha=0.8, label=d)\n",
        "plt.legend(['0','1','2','3','4','5','6','7','8','9'],loc='upper left');\n",
        "\n",
        "plt.xlabel('PC 1')\n",
        "plt.ylabel('PC 2')"
      ],
      "metadata": {
        "colab": {
          "base_uri": "https://localhost:8080/",
          "height": 623
        },
        "id": "HgFurkI8RiQz",
        "outputId": "b09b6c80-da64-49cd-a6b4-4b9bbb232c1e"
      },
      "execution_count": 12,
      "outputs": [
        {
          "output_type": "execute_result",
          "data": {
            "text/plain": [
              "Text(0, 0.5, 'PC 2')"
            ]
          },
          "metadata": {},
          "execution_count": 12
        },
        {
          "output_type": "display_data",
          "data": {
            "text/plain": [
              "<Figure size 720x720 with 1 Axes>"
            ],
            "image/png": "[encoded data removed]"
          },
          "metadata": {
            "needs_background": "light"
          }
        }
      ]
    },
    {
      "cell_type": "markdown",
      "source": [
        "Easily distinguishable: (2, 4), (2, 6), (4, 7)\n",
        "\n",
        "Not easily distinguishable: (0, 6), (8, 9), (1, 9)"
      ],
      "metadata": {
        "id": "Qs-eVm7oRoqE"
      }
    },
    {
      "cell_type": "markdown",
      "source": [
        "***2: PCA for feature engineering***"
      ],
      "metadata": {
        "id": "AZw7FYG1Rr0m"
      }
    },
    {
      "cell_type": "markdown",
      "source": [
        "Another common application of PCA is overcomming multicollinearity and overfitting in regression models. Here we'll use PCA for reducing dimensionality of a data set and improving the accuracy in the regression task."
      ],
      "metadata": {
        "id": "XO91eqe3Rvjr"
      }
    },
    {
      "cell_type": "code",
      "source": [
        "#read data\n",
        "data=pd.read_csv(\"https://raw.githubusercontent.com/CUSP2021ADS/Data/main/pca_synthetic.csv\")\n",
        "data.head()"
      ],
      "metadata": {
        "colab": {
          "base_uri": "https://localhost:8080/",
          "height": 206
        },
        "id": "gVVRMuqwRm-o",
        "outputId": "3e85b824-0f3d-42f1-b41a-51f3056cc29b"
      },
      "execution_count": 13,
      "outputs": [
        {
          "output_type": "execute_result",
          "data": {
            "text/plain": [
              "          Y         x1         x2         x3         x4         x5         x6  \\\n",
              "0  3.035437 -18.227424  30.521149 -37.494755  31.108940  -8.917930  13.177162   \n",
              "1  1.479243  31.210052   8.273238  17.545475   8.013616  -3.163515  12.632948   \n",
              "2 -1.193325  -2.427634   1.698858  -1.980364  -9.902694   9.215057   9.984092   \n",
              "3  0.634462 -10.778091  -4.718246  -4.861350  13.543559 -10.575067  25.562832   \n",
              "4 -0.125792   5.547746 -10.935812  -1.397010   1.977636 -17.475947  13.159905   \n",
              "\n",
              "          x7         x8         x9        x10        x11        x12  \\\n",
              "0  10.153335  17.521327  14.695400   7.222120   3.142381  13.754352   \n",
              "1  10.384905   7.278064  11.506060  21.150410  14.558149  15.393978   \n",
              "2   7.627307   7.701929  15.254064  15.665984   6.676761  14.504275   \n",
              "3   2.064966  12.297941   7.063591  14.787318   4.751835  16.473578   \n",
              "4  18.881544   4.986746  12.079755  13.762270   5.192296  11.656484   \n",
              "\n",
              "         x13        x14        x15  \n",
              "0   0.115685   6.263643   8.957240  \n",
              "1  13.701066  14.993476  17.993337  \n",
              "2  19.329674  11.312780  13.360359  \n",
              "3  15.697654   3.765299   8.776716  \n",
              "4  13.370774  16.536450   7.264736  "
            ],
            "text/html": [
              "\n",
              "  <div id=\"df-8716c860-3745-42a9-a401-63bafe7563e4\">\n",
              "    <div class=\"colab-df-container\">\n",
              "      <div>\n",
              "<style scoped>\n",
              "    .dataframe tbody tr th:only-of-type {\n",
              "        vertical-align: middle;\n",
              "    }\n",
              "\n",
              "    .dataframe tbody tr th {\n",
              "        vertical-align: top;\n",
              "    }\n",
              "\n",
              "    .dataframe thead th {\n",
              "        text-align: right;\n",
              "    }\n",
              "</style>\n",
              "<table border=\"1\" class=\"dataframe\">\n",
              "  <thead>\n",
              "    <tr style=\"text-align: right;\">\n",
              "      <th></th>\n",
              "      <th>Y</th>\n",
              "      <th>x1</th>\n",
              "      <th>x2</th>\n",
              "      <th>x3</th>\n",
              "      <th>x4</th>\n",
              "      <th>x5</th>\n",
              "      <th>x6</th>\n",
              "      <th>x7</th>\n",
              "      <th>x8</th>\n",
              "      <th>x9</th>\n",
              "      <th>x10</th>\n",
              "      <th>x11</th>\n",
              "      <th>x12</th>\n",
              "      <th>x13</th>\n",
              "      <th>x14</th>\n",
              "      <th>x15</th>\n",
              "    </tr>\n",
              "  </thead>\n",
              "  <tbody>\n",
              "    <tr>\n",
              "      <th>0</th>\n",
              "      <td>3.035437</td>\n",
              "      <td>-18.227424</td>\n",
              "      <td>30.521149</td>\n",
              "      <td>-37.494755</td>\n",
              "      <td>31.108940</td>\n",
              "      <td>-8.917930</td>\n",
              "      <td>13.177162</td>\n",
              "      <td>10.153335</td>\n",
              "      <td>17.521327</td>\n",
              "      <td>14.695400</td>\n",
              "      <td>7.222120</td>\n",
              "      <td>3.142381</td>\n",
              "      <td>13.754352</td>\n",
              "      <td>0.115685</td>\n",
              "      <td>6.263643</td>\n",
              "      <td>8.957240</td>\n",
              "    </tr>\n",
              "    <tr>\n",
              "      <th>1</th>\n",
              "      <td>1.479243</td>\n",
              "      <td>31.210052</td>\n",
              "      <td>8.273238</td>\n",
              "      <td>17.545475</td>\n",
              "      <td>8.013616</td>\n",
              "      <td>-3.163515</td>\n",
              "      <td>12.632948</td>\n",
              "      <td>10.384905</td>\n",
              "      <td>7.278064</td>\n",
              "      <td>11.506060</td>\n",
              "      <td>21.150410</td>\n",
              "      <td>14.558149</td>\n",
              "      <td>15.393978</td>\n",
              "      <td>13.701066</td>\n",
              "      <td>14.993476</td>\n",
              "      <td>17.993337</td>\n",
              "    </tr>\n",
              "    <tr>\n",
              "      <th>2</th>\n",
              "      <td>-1.193325</td>\n",
              "      <td>-2.427634</td>\n",
              "      <td>1.698858</td>\n",
              "      <td>-1.980364</td>\n",
              "      <td>-9.902694</td>\n",
              "      <td>9.215057</td>\n",
              "      <td>9.984092</td>\n",
              "      <td>7.627307</td>\n",
              "      <td>7.701929</td>\n",
              "      <td>15.254064</td>\n",
              "      <td>15.665984</td>\n",
              "      <td>6.676761</td>\n",
              "      <td>14.504275</td>\n",
              "      <td>19.329674</td>\n",
              "      <td>11.312780</td>\n",
              "      <td>13.360359</td>\n",
              "    </tr>\n",
              "    <tr>\n",
              "      <th>3</th>\n",
              "      <td>0.634462</td>\n",
              "      <td>-10.778091</td>\n",
              "      <td>-4.718246</td>\n",
              "      <td>-4.861350</td>\n",
              "      <td>13.543559</td>\n",
              "      <td>-10.575067</td>\n",
              "      <td>25.562832</td>\n",
              "      <td>2.064966</td>\n",
              "      <td>12.297941</td>\n",
              "      <td>7.063591</td>\n",
              "      <td>14.787318</td>\n",
              "      <td>4.751835</td>\n",
              "      <td>16.473578</td>\n",
              "      <td>15.697654</td>\n",
              "      <td>3.765299</td>\n",
              "      <td>8.776716</td>\n",
              "    </tr>\n",
              "    <tr>\n",
              "      <th>4</th>\n",
              "      <td>-0.125792</td>\n",
              "      <td>5.547746</td>\n",
              "      <td>-10.935812</td>\n",
              "      <td>-1.397010</td>\n",
              "      <td>1.977636</td>\n",
              "      <td>-17.475947</td>\n",
              "      <td>13.159905</td>\n",
              "      <td>18.881544</td>\n",
              "      <td>4.986746</td>\n",
              "      <td>12.079755</td>\n",
              "      <td>13.762270</td>\n",
              "      <td>5.192296</td>\n",
              "      <td>11.656484</td>\n",
              "      <td>13.370774</td>\n",
              "      <td>16.536450</td>\n",
              "      <td>7.264736</td>\n",
              "    </tr>\n",
              "  </tbody>\n",
              "</table>\n",
              "</div>\n",
              "      <button class=\"colab-df-convert\" onclick=\"convertToInteractive('df-8716c860-3745-42a9-a401-63bafe7563e4')\"\n",
              "              title=\"Convert this dataframe to an interactive table.\"\n",
              "              style=\"display:none;\">\n",
              "        \n",
              "  <svg xmlns=\"http://www.w3.org/2000/svg\" height=\"24px\"viewBox=\"0 0 24 24\"\n",
              "       width=\"24px\">\n",
              "    <path d=\"M0 0h24v24H0V0z\" fill=\"none\"/>\n",
              "    <path d=\"M18.56 5.44l.94 2.06.94-2.06 2.06-.94-2.06-.94-.94-2.06-.94 2.06-2.06.94zm-11 1L8.5 8.5l.94-2.06 2.06-.94-2.06-.94L8.5 2.5l-.94 2.06-2.06.94zm10 10l.94 2.06.94-2.06 2.06-.94-2.06-.94-.94-2.06-.94 2.06-2.06.94z\"/><path d=\"M17.41 7.96l-1.37-1.37c-.4-.4-.92-.59-1.43-.59-.52 0-1.04.2-1.43.59L10.3 9.45l-7.72 7.72c-.78.78-.78 2.05 0 2.83L4 21.41c.39.39.9.59 1.41.59.51 0 1.02-.2 1.41-.59l7.78-7.78 2.81-2.81c.8-.78.8-2.07 0-2.86zM5.41 20L4 18.59l7.72-7.72 1.47 1.35L5.41 20z\"/>\n",
              "  </svg>\n",
              "      </button>\n",
              "      \n",
              "  <style>\n",
              "    .colab-df-container {\n",
              "      display:flex;\n",
              "      flex-wrap:wrap;\n",
              "      gap: 12px;\n",
              "    }\n",
              "\n",
              "    .colab-df-convert {\n",
              "      background-color: #E8F0FE;\n",
              "      border: none;\n",
              "      border-radius: 50%;\n",
              "      cursor: pointer;\n",
              "      display: none;\n",
              "      fill: #1967D2;\n",
              "      height: 32px;\n",
              "      padding: 0 0 0 0;\n",
              "      width: 32px;\n",
              "    }\n",
              "\n",
              "    .colab-df-convert:hover {\n",
              "      background-color: #E2EBFA;\n",
              "      box-shadow: 0px 1px 2px rgba(60, 64, 67, 0.3), 0px 1px 3px 1px rgba(60, 64, 67, 0.15);\n",
              "      fill: #174EA6;\n",
              "    }\n",
              "\n",
              "    [theme=dark] .colab-df-convert {\n",
              "      background-color: #3B4455;\n",
              "      fill: #D2E3FC;\n",
              "    }\n",
              "\n",
              "    [theme=dark] .colab-df-convert:hover {\n",
              "      background-color: #434B5C;\n",
              "      box-shadow: 0px 1px 3px 1px rgba(0, 0, 0, 0.15);\n",
              "      filter: drop-shadow(0px 1px 2px rgba(0, 0, 0, 0.3));\n",
              "      fill: #FFFFFF;\n",
              "    }\n",
              "  </style>\n",
              "\n",
              "      <script>\n",
              "        const buttonEl =\n",
              "          document.querySelector('#df-8716c860-3745-42a9-a401-63bafe7563e4 button.colab-df-convert');\n",
              "        buttonEl.style.display =\n",
              "          google.colab.kernel.accessAllowed ? 'block' : 'none';\n",
              "\n",
              "        async function convertToInteractive(key) {\n",
              "          const element = document.querySelector('#df-8716c860-3745-42a9-a401-63bafe7563e4');\n",
              "          const dataTable =\n",
              "            await google.colab.kernel.invokeFunction('convertToInteractive',\n",
              "                                                     [key], {});\n",
              "          if (!dataTable) return;\n",
              "\n",
              "          const docLinkHtml = 'Like what you see? Visit the ' +\n",
              "            '<a target=\"_blank\" href=https://colab.research.google.com/notebooks/data_table.ipynb>data table notebook</a>'\n",
              "            + ' to learn more about interactive tables.';\n",
              "          element.innerHTML = '';\n",
              "          dataTable['output_type'] = 'display_data';\n",
              "          await google.colab.output.renderOutput(dataTable, element);\n",
              "          const docLink = document.createElement('div');\n",
              "          docLink.innerHTML = docLinkHtml;\n",
              "          element.appendChild(docLink);\n",
              "        }\n",
              "      </script>\n",
              "    </div>\n",
              "  </div>\n",
              "  "
            ]
          },
          "metadata": {},
          "execution_count": 13
        }
      ]
    },
    {
      "cell_type": "markdown",
      "source": [
        "**Task 1: Run a linear regression with 'Y' as the target and x1-x15 as regressors and report out of sample R2 score**"
      ],
      "metadata": {
        "id": "VvqRplBWRzl3"
      }
    },
    {
      "cell_type": "markdown",
      "source": [
        "Split the data into training and test (choose 70:30 split) and report out of sample score with test data. Also comment on the significance of the regressors (based on p-values)"
      ],
      "metadata": {
        "id": "BiBXrx7eR2J_"
      }
    },
    {
      "cell_type": "code",
      "source": [
        "dataX = data.iloc[:,1:16]\n",
        "Y = data.Y\n",
        "lm=sm.OLS(Y,sm.add_constant(dataX)).fit()\n",
        "print(lm.summary())"
      ],
      "metadata": {
        "colab": {
          "base_uri": "https://localhost:8080/"
        },
        "id": "7s4XPjTpRxkS",
        "outputId": "6b4ea489-54c3-4dad-f25e-0fd5c9fb00c8"
      },
      "execution_count": 14,
      "outputs": [
        {
          "output_type": "stream",
          "name": "stdout",
          "text": [
            "                            OLS Regression Results                            \n",
            "==============================================================================\n",
            "Dep. Variable:                      Y   R-squared:                       0.845\n",
            "Model:                            OLS   Adj. R-squared:                  0.776\n",
            "Method:                 Least Squares   F-statistic:                     12.33\n",
            "Date:                Sat, 04 Jun 2022   Prob (F-statistic):           1.20e-09\n",
            "Time:                        10:34:25   Log-Likelihood:                -53.727\n",
            "No. Observations:                  50   AIC:                             139.5\n",
            "Df Residuals:                      34   BIC:                             170.0\n",
            "Df Model:                          15                                         \n",
            "Covariance Type:            nonrobust                                         \n",
            "==============================================================================\n",
            "                 coef    std err          t      P>|t|      [0.025      0.975]\n",
            "------------------------------------------------------------------------------\n",
            "const        -10.2459      2.386     -4.295      0.000     -15.094      -5.398\n",
            "x1            15.6581      3.192      4.906      0.000       9.172      22.145\n",
            "x2           -23.3199      4.768     -4.891      0.000     -33.010     -13.630\n",
            "x3           -19.2838      3.929     -4.907      0.000     -27.269     -11.298\n",
            "x4            15.6327      3.188      4.904      0.000       9.154      22.112\n",
            "x5            22.2402      4.554      4.884      0.000      12.986      31.495\n",
            "x6            -0.0093      0.021     -0.438      0.664      -0.052       0.034\n",
            "x7            -0.0107      0.024     -0.448      0.657      -0.059       0.038\n",
            "x8            -0.0879      0.033     -2.645      0.012      -0.156      -0.020\n",
            "x9             0.0709      0.031      2.279      0.029       0.008       0.134\n",
            "x10           -0.0290      0.029     -1.017      0.316      -0.087       0.029\n",
            "x11           -0.0310      0.025     -1.251      0.220      -0.081       0.019\n",
            "x12            0.0666      0.027      2.502      0.017       0.013       0.121\n",
            "x13           -0.0397      0.027     -1.456      0.155      -0.095       0.016\n",
            "x14           -0.0606      0.029     -2.061      0.047      -0.120      -0.001\n",
            "x15            0.0312      0.028      1.097      0.281      -0.027       0.089\n",
            "==============================================================================\n",
            "Omnibus:                        0.981   Durbin-Watson:                   2.289\n",
            "Prob(Omnibus):                  0.612   Jarque-Bera (JB):                0.464\n",
            "Skew:                          -0.217   Prob(JB):                        0.793\n",
            "Kurtosis:                       3.184   Cond. No.                     2.63e+03\n",
            "==============================================================================\n",
            "\n",
            "Warnings:\n",
            "[1] Standard Errors assume that the covariance matrix of the errors is correctly specified.\n",
            "[2] The condition number is large, 2.63e+03. This might indicate that there are\n",
            "strong multicollinearity or other numerical problems.\n"
          ]
        }
      ]
    },
    {
      "cell_type": "code",
      "source": [
        "## report mean out-of-sample R2 score\n",
        "np.random.seed(0)\n",
        "\n",
        "R_IS=[]; R_OS=[] #lists for recording in-sample (training) and out-of-sample (test) R2\n",
        "n=20 #number of runs\n",
        "for i in range(n):\n",
        "    X_train, X_test, y_train, y_test = train_test_split(sm.add_constant(data.iloc[:,1:16]),Y,test_size=0.3) #randomly split data into training (70%) and test (30%)\n",
        "    res=sm.OLS(y_train,X_train).fit()\n",
        "    R_IS.append(res.rsquared)   \n",
        "    y_pred=res.predict(X_test)\n",
        "    R_OS.append(r2_score(y_test,y_pred))\n",
        "    \n",
        "\n",
        "print(\"IS R-squared is %.3f+-%.3f\"%(np.mean(R_IS),np.std(R_IS)))\n",
        "print(\"OS R-squared is %.3f+-%.3f\"%(np.mean(R_OS),np.std(R_OS)))"
      ],
      "metadata": {
        "colab": {
          "base_uri": "https://localhost:8080/"
        },
        "id": "WrBvZm46R9E7",
        "outputId": "85c59391-4fb9-49f8-aaf4-086748773a07"
      },
      "execution_count": 15,
      "outputs": [
        {
          "output_type": "stream",
          "name": "stdout",
          "text": [
            "IS R-squared is 0.871+-0.037\n",
            "OS R-squared is 0.447+-0.292\n"
          ]
        }
      ]
    },
    {
      "cell_type": "markdown",
      "source": [
        "OS R2 significantly less than IS R2: suggest overfitting"
      ],
      "metadata": {
        "id": "gc870oejSEwB"
      }
    },
    {
      "cell_type": "markdown",
      "source": [
        "**Task 2: Try PCA - use a few leading principal components as regressors and see if they will perform better in the regression**"
      ],
      "metadata": {
        "id": "GXc4qe2JSK53"
      }
    },
    {
      "cell_type": "markdown",
      "source": [
        "You can choose the number of PCs by either checking explained variance or by trying out different numbers and choosing one that works best.\n",
        "\n",
        "Split the data into training and test and report mean test accuracy."
      ],
      "metadata": {
        "id": "k-WhWdgeSOdZ"
      }
    },
    {
      "cell_type": "code",
      "source": [
        "## code here\n",
        "#standardize data before trying PCA\n",
        "scalerData = preprocessing.StandardScaler().fit(dataX)\n",
        "dataS=scalerData.transform(dataX)   "
      ],
      "metadata": {
        "id": "X95ZBP_lSM9B"
      },
      "execution_count": 16,
      "outputs": []
    },
    {
      "cell_type": "code",
      "source": [
        "## plot explained variance barplot and comment on the appropriate number of eigenvectors based on that\n",
        "pca = PCA(dataS.shape[1])\n",
        "dataP=pca.fit_transform(dataS)\n",
        "eigenvalues = pca.explained_variance_ratio_\n",
        "#plot explained variance over the number of components\n",
        "n=15\n",
        "plt.bar(np.arange(n), eigenvalues[:n].cumsum())\n",
        "plt.xlabel(\"Number of components\")\n",
        "plt.ylabel(\"Explained Variance\")\n",
        "plt.show()"
      ],
      "metadata": {
        "colab": {
          "base_uri": "https://localhost:8080/",
          "height": 279
        },
        "id": "5FNkFE-NSSn0",
        "outputId": "dc276233-1ce6-4790-d033-10e4ac8ebca8"
      },
      "execution_count": 18,
      "outputs": [
        {
          "output_type": "display_data",
          "data": {
            "text/plain": [
              "<Figure size 432x288 with 1 Axes>"
            ],
            "image/png": "[encoded data removed]"
          },
          "metadata": {
            "needs_background": "light"
          }
        }
      ]
    },
    {
      "cell_type": "markdown",
      "source": [
        "Around 8 components explain for 80% of the variation in the data."
      ],
      "metadata": {
        "id": "4xEDhgBaSWqn"
      }
    },
    {
      "cell_type": "code",
      "source": [
        "## run linear regression again but with 8 PCs\n",
        "np.random.seed(0)\n",
        "# Apply cross-validation to diagnose model for overfitting\n",
        "R_IS=[]; R_OS=[] #lists for recording in-sample (training) and out-of-sample (test) R2\n",
        "n=20 #number of runs\n",
        "for i in range(n):\n",
        "    X_train, X_test, y_train, y_test = train_test_split(sm.add_constant(data.iloc[:,1:16]),Y,test_size=0.3) #randomly split data into training (70%) and test (30%)\n",
        "    #now apply PCA to the training data\n",
        "    scaler = preprocessing.StandardScaler().fit(X_train) #introduce a scaler first as it is important to scale data before PCA!\n",
        "    pca = PCA(8) #take only 3 leading principal components to get enough data but avoid overfitting\n",
        "    P_train=pca.fit_transform(scaler.transform(X_train)) #get principal components for the scaled training sample\n",
        "    res=sm.OLS(y_train,sm.add_constant(P_train)).fit() #fit the regression over \n",
        "    #and apply the same scaling and rotation (PCA) transform we learned for training sample to the test sample\n",
        "    #this is important that we learn scaling and PCA transform from the training sample only rather than from both - training and test\n",
        "    #as this is part of the principle component regression we need to train; and all training should happen over the training set\n",
        "    P_test=pca.transform(scaler.transform(X_test))\n",
        "    y_pred=np.asarray(res.predict(sm.add_constant(P_test)))\n",
        "    \n",
        "    R_IS.append(res.rsquared)\n",
        "    R_OS.append(r2_score(y_test,y_pred))\n",
        "#print(\"IS R-squared is %.3f+-%.3f\"%(np.mean(R_IS),np.std(R_IS)))\n",
        "#print(\"OS R-squared is %.3f+-%.3f\"%(np.mean(R_OS),np.std(R_OS)))"
      ],
      "metadata": {
        "id": "lCgVPoy2SUJt"
      },
      "execution_count": 19,
      "outputs": []
    },
    {
      "cell_type": "code",
      "source": [
        "## report out of sample mean R2 score\n",
        "print(\"OS R-squared is %.3f+-%.3f\"%(np.mean(R_OS),np.std(R_OS)))"
      ],
      "metadata": {
        "colab": {
          "base_uri": "https://localhost:8080/"
        },
        "id": "5wMo8lspSZMZ",
        "outputId": "d275d9d2-b01c-4dc2-d0db-3f253902f66b"
      },
      "execution_count": 20,
      "outputs": [
        {
          "output_type": "stream",
          "name": "stdout",
          "text": [
            "OS R-squared is -0.013+-0.412\n"
          ]
        }
      ]
    },
    {
      "cell_type": "markdown",
      "source": [
        "It seems PCA increase the R2 value by some amount plus reduces the complexity of model (we now have just 8 features compared to 15 bofore).\n",
        "> Important Note: Due to the low sample size of above data, we can have varying R2 scores due to random splits of traing and testing samples."
      ],
      "metadata": {
        "id": "AIG_A7-RSg0Q"
      }
    },
    {
      "cell_type": "markdown",
      "source": [
        "***3: Modeling mean income with 311 complaint patterns***"
      ],
      "metadata": {
        "id": "kCn34JiESpF-"
      }
    },
    {
      "cell_type": "markdown",
      "source": [
        "We'll use 311 complaints data set to model the mean income of zip codes in NYC. We will also check if using PCA in this case improves the performance as compared to just the linear model."
      ],
      "metadata": {
        "id": "cLiUP-4gSzY2"
      }
    },
    {
      "cell_type": "code",
      "source": [
        "#load the income data\n",
        "dataIncome=pd.read_csv(\"https://raw.githubusercontent.com/CUSP2021ADS/Data/main/MeanZIP.csv\",index_col=0)\n",
        "dataIncome=dataIncome.apply(pd.to_numeric, errors='coerce')\n",
        "dataIncome=dataIncome.loc[dataIncome.Mean>0]\n",
        "dataIncome.head()"
      ],
      "metadata": {
        "colab": {
          "base_uri": "https://localhost:8080/",
          "height": 237
        },
        "id": "rRQSkzb1SmuI",
        "outputId": "6af79fb6-4803-4b5c-f0ec-a12b826ac526"
      },
      "execution_count": 21,
      "outputs": [
        {
          "output_type": "execute_result",
          "data": {
            "text/plain": [
              "          Median        Mean    Pop\n",
              "Zip                                \n",
              "1001  56662.5735  66687.7509  16445\n",
              "1002  49853.4177  75062.6343  28069\n",
              "1003  28462.0000  35121.0000   8491\n",
              "1005  75423.0000  82442.0000   4798\n",
              "1007  79076.3540  85801.9750  12962"
            ],
            "text/html": [
              "\n",
              "  <div id=\"df-ce169b97-7b9e-40fc-8bf8-b9a5d1230f23\">\n",
              "    <div class=\"colab-df-container\">\n",
              "      <div>\n",
              "<style scoped>\n",
              "    .dataframe tbody tr th:only-of-type {\n",
              "        vertical-align: middle;\n",
              "    }\n",
              "\n",
              "    .dataframe tbody tr th {\n",
              "        vertical-align: top;\n",
              "    }\n",
              "\n",
              "    .dataframe thead th {\n",
              "        text-align: right;\n",
              "    }\n",
              "</style>\n",
              "<table border=\"1\" class=\"dataframe\">\n",
              "  <thead>\n",
              "    <tr style=\"text-align: right;\">\n",
              "      <th></th>\n",
              "      <th>Median</th>\n",
              "      <th>Mean</th>\n",
              "      <th>Pop</th>\n",
              "    </tr>\n",
              "    <tr>\n",
              "      <th>Zip</th>\n",
              "      <th></th>\n",
              "      <th></th>\n",
              "      <th></th>\n",
              "    </tr>\n",
              "  </thead>\n",
              "  <tbody>\n",
              "    <tr>\n",
              "      <th>1001</th>\n",
              "      <td>56662.5735</td>\n",
              "      <td>66687.7509</td>\n",
              "      <td>16445</td>\n",
              "    </tr>\n",
              "    <tr>\n",
              "      <th>1002</th>\n",
              "      <td>49853.4177</td>\n",
              "      <td>75062.6343</td>\n",
              "      <td>28069</td>\n",
              "    </tr>\n",
              "    <tr>\n",
              "      <th>1003</th>\n",
              "      <td>28462.0000</td>\n",
              "      <td>35121.0000</td>\n",
              "      <td>8491</td>\n",
              "    </tr>\n",
              "    <tr>\n",
              "      <th>1005</th>\n",
              "      <td>75423.0000</td>\n",
              "      <td>82442.0000</td>\n",
              "      <td>4798</td>\n",
              "    </tr>\n",
              "    <tr>\n",
              "      <th>1007</th>\n",
              "      <td>79076.3540</td>\n",
              "      <td>85801.9750</td>\n",
              "      <td>12962</td>\n",
              "    </tr>\n",
              "  </tbody>\n",
              "</table>\n",
              "</div>\n",
              "      <button class=\"colab-df-convert\" onclick=\"convertToInteractive('df-ce169b97-7b9e-40fc-8bf8-b9a5d1230f23')\"\n",
              "              title=\"Convert this dataframe to an interactive table.\"\n",
              "              style=\"display:none;\">\n",
              "        \n",
              "  <svg xmlns=\"http://www.w3.org/2000/svg\" height=\"24px\"viewBox=\"0 0 24 24\"\n",
              "       width=\"24px\">\n",
              "    <path d=\"M0 0h24v24H0V0z\" fill=\"none\"/>\n",
              "    <path d=\"M18.56 5.44l.94 2.06.94-2.06 2.06-.94-2.06-.94-.94-2.06-.94 2.06-2.06.94zm-11 1L8.5 8.5l.94-2.06 2.06-.94-2.06-.94L8.5 2.5l-.94 2.06-2.06.94zm10 10l.94 2.06.94-2.06 2.06-.94-2.06-.94-.94-2.06-.94 2.06-2.06.94z\"/><path d=\"M17.41 7.96l-1.37-1.37c-.4-.4-.92-.59-1.43-.59-.52 0-1.04.2-1.43.59L10.3 9.45l-7.72 7.72c-.78.78-.78 2.05 0 2.83L4 21.41c.39.39.9.59 1.41.59.51 0 1.02-.2 1.41-.59l7.78-7.78 2.81-2.81c.8-.78.8-2.07 0-2.86zM5.41 20L4 18.59l7.72-7.72 1.47 1.35L5.41 20z\"/>\n",
              "  </svg>\n",
              "      </button>\n",
              "      \n",
              "  <style>\n",
              "    .colab-df-container {\n",
              "      display:flex;\n",
              "      flex-wrap:wrap;\n",
              "      gap: 12px;\n",
              "    }\n",
              "\n",
              "    .colab-df-convert {\n",
              "      background-color: #E8F0FE;\n",
              "      border: none;\n",
              "      border-radius: 50%;\n",
              "      cursor: pointer;\n",
              "      display: none;\n",
              "      fill: #1967D2;\n",
              "      height: 32px;\n",
              "      padding: 0 0 0 0;\n",
              "      width: 32px;\n",
              "    }\n",
              "\n",
              "    .colab-df-convert:hover {\n",
              "      background-color: #E2EBFA;\n",
              "      box-shadow: 0px 1px 2px rgba(60, 64, 67, 0.3), 0px 1px 3px 1px rgba(60, 64, 67, 0.15);\n",
              "      fill: #174EA6;\n",
              "    }\n",
              "\n",
              "    [theme=dark] .colab-df-convert {\n",
              "      background-color: #3B4455;\n",
              "      fill: #D2E3FC;\n",
              "    }\n",
              "\n",
              "    [theme=dark] .colab-df-convert:hover {\n",
              "      background-color: #434B5C;\n",
              "      box-shadow: 0px 1px 3px 1px rgba(0, 0, 0, 0.15);\n",
              "      filter: drop-shadow(0px 1px 2px rgba(0, 0, 0, 0.3));\n",
              "      fill: #FFFFFF;\n",
              "    }\n",
              "  </style>\n",
              "\n",
              "      <script>\n",
              "        const buttonEl =\n",
              "          document.querySelector('#df-ce169b97-7b9e-40fc-8bf8-b9a5d1230f23 button.colab-df-convert');\n",
              "        buttonEl.style.display =\n",
              "          google.colab.kernel.accessAllowed ? 'block' : 'none';\n",
              "\n",
              "        async function convertToInteractive(key) {\n",
              "          const element = document.querySelector('#df-ce169b97-7b9e-40fc-8bf8-b9a5d1230f23');\n",
              "          const dataTable =\n",
              "            await google.colab.kernel.invokeFunction('convertToInteractive',\n",
              "                                                     [key], {});\n",
              "          if (!dataTable) return;\n",
              "\n",
              "          const docLinkHtml = 'Like what you see? Visit the ' +\n",
              "            '<a target=\"_blank\" href=https://colab.research.google.com/notebooks/data_table.ipynb>data table notebook</a>'\n",
              "            + ' to learn more about interactive tables.';\n",
              "          element.innerHTML = '';\n",
              "          dataTable['output_type'] = 'display_data';\n",
              "          await google.colab.output.renderOutput(dataTable, element);\n",
              "          const docLink = document.createElement('div');\n",
              "          docLink.innerHTML = docLinkHtml;\n",
              "          element.appendChild(docLink);\n",
              "        }\n",
              "      </script>\n",
              "    </div>\n",
              "  </div>\n",
              "  "
            ]
          },
          "metadata": {},
          "execution_count": 21
        }
      ]
    },
    {
      "cell_type": "code",
      "source": [
        "## 311 data\n",
        "data311 = pd.read_csv('https://raw.githubusercontent.com/CUSP2021ADS/Data/main/aggr311.csv' , index_col=0 )\n",
        "data311.Zip=pd.to_numeric(data311.Zip,errors='coerce')\n",
        "data311=data311.loc[(data311.Zip>=10000)&(data311.Zip<11500)] #take only NYC zip codes\n",
        "data311=pd.pivot_table(data311,index='Zip',columns='Complain',values='Count',fill_value=0)\n",
        "Total311=data311.sum(axis=1) #total 311 activity per zip code\n",
        "data311=data311.div(data311.sum(axis=1), axis=0) #normalize activity of various cathegories within zip code by total\n",
        "data311=data311.loc[Total311>100] #keep only those zip codes having sufficient activity\n",
        "data311.head()"
      ],
      "metadata": {
        "colab": {
          "base_uri": "https://localhost:8080/",
          "height": 383
        },
        "id": "oIDxB4A5S54i",
        "outputId": "b563b9ab-fe00-46ef-bf1f-46e1fb42c70a"
      },
      "execution_count": 22,
      "outputs": [
        {
          "output_type": "execute_result",
          "data": {
            "text/plain": [
              "Complain  APPLIANCE  Adopt-A-Basket  Air Quality  Animal Abuse  \\\n",
              "Zip                                                              \n",
              "10000.0    0.000000        0.000000     0.008772           0.0   \n",
              "10001.0    0.000000        0.000146     0.013179           0.0   \n",
              "10002.0    0.001330        0.000000     0.007095           0.0   \n",
              "10003.0    0.001331        0.000089     0.012690           0.0   \n",
              "10004.0    0.000000        0.000000     0.009740           0.0   \n",
              "\n",
              "Complain  Animal Facility - No Permit  Animal in a Park  Asbestos  \\\n",
              "Zip                                                                 \n",
              "10000.0                      0.000000          0.008772  0.000000   \n",
              "10001.0                      0.000000          0.000146  0.002929   \n",
              "10002.0                      0.000000          0.001862  0.001596   \n",
              "10003.0                      0.000177          0.003905  0.002130   \n",
              "10004.0                      0.000000          0.002597  0.001948   \n",
              "\n",
              "Complain  BEST/Site Safety  Beach/Pool/Sauna Complaint  Bike Rack Condition  \\\n",
              "Zip                                                                           \n",
              "10000.0           0.000000                    0.000000             0.000000   \n",
              "10001.0           0.005272                    0.000146             0.000146   \n",
              "10002.0           0.001774                    0.000177             0.000532   \n",
              "10003.0           0.001154                    0.000177             0.000177   \n",
              "10004.0           0.000649                    0.000000             0.000649   \n",
              "\n",
              "Complain  ...  Unsanitary Pigeon Condition  Urinating in Public  Vacant Lot  \\\n",
              "Zip       ...                                                                 \n",
              "10000.0   ...                     0.000000             0.000000    0.000000   \n",
              "10001.0   ...                     0.000439             0.000000    0.000293   \n",
              "10002.0   ...                     0.000443             0.000089    0.000355   \n",
              "10003.0   ...                     0.000621             0.000976    0.000177   \n",
              "10004.0   ...                     0.000649             0.000649    0.000000   \n",
              "\n",
              "Complain   Vending  Violation of Park Rules  Water Conservation  \\\n",
              "Zip                                                               \n",
              "10000.0   0.070175                 0.070175            0.000000   \n",
              "10001.0   0.007468                 0.000732            0.000732   \n",
              "10002.0   0.002394                 0.001242            0.000887   \n",
              "10003.0   0.004792                 0.002218            0.001065   \n",
              "10004.0   0.010390                 0.013636            0.000000   \n",
              "\n",
              "Complain  Water Quality  Water System  Window Guard  X-Ray Machine/Equipment  \n",
              "Zip                                                                           \n",
              "10000.0        0.000000      0.000000           0.0                      0.0  \n",
              "10001.0        0.000293      0.053595           0.0                      0.0  \n",
              "10002.0        0.000621      0.028734           0.0                      0.0  \n",
              "10003.0        0.000444      0.028219           0.0                      0.0  \n",
              "10004.0        0.000000      0.024026           0.0                      0.0  \n",
              "\n",
              "[5 rows x 162 columns]"
            ],
            "text/html": [
              "\n",
              "  <div id=\"df-402cbc20-41fa-4a17-8e6d-4ed763591063\">\n",
              "    <div class=\"colab-df-container\">\n",
              "      <div>\n",
              "<style scoped>\n",
              "    .dataframe tbody tr th:only-of-type {\n",
              "        vertical-align: middle;\n",
              "    }\n",
              "\n",
              "    .dataframe tbody tr th {\n",
              "        vertical-align: top;\n",
              "    }\n",
              "\n",
              "    .dataframe thead th {\n",
              "        text-align: right;\n",
              "    }\n",
              "</style>\n",
              "<table border=\"1\" class=\"dataframe\">\n",
              "  <thead>\n",
              "    <tr style=\"text-align: right;\">\n",
              "      <th>Complain</th>\n",
              "      <th>APPLIANCE</th>\n",
              "      <th>Adopt-A-Basket</th>\n",
              "      <th>Air Quality</th>\n",
              "      <th>Animal Abuse</th>\n",
              "      <th>Animal Facility - No Permit</th>\n",
              "      <th>Animal in a Park</th>\n",
              "      <th>Asbestos</th>\n",
              "      <th>BEST/Site Safety</th>\n",
              "      <th>Beach/Pool/Sauna Complaint</th>\n",
              "      <th>Bike Rack Condition</th>\n",
              "      <th>...</th>\n",
              "      <th>Unsanitary Pigeon Condition</th>\n",
              "      <th>Urinating in Public</th>\n",
              "      <th>Vacant Lot</th>\n",
              "      <th>Vending</th>\n",
              "      <th>Violation of Park Rules</th>\n",
              "      <th>Water Conservation</th>\n",
              "      <th>Water Quality</th>\n",
              "      <th>Water System</th>\n",
              "      <th>Window Guard</th>\n",
              "      <th>X-Ray Machine/Equipment</th>\n",
              "    </tr>\n",
              "    <tr>\n",
              "      <th>Zip</th>\n",
              "      <th></th>\n",
              "      <th></th>\n",
              "      <th></th>\n",
              "      <th></th>\n",
              "      <th></th>\n",
              "      <th></th>\n",
              "      <th></th>\n",
              "      <th></th>\n",
              "      <th></th>\n",
              "      <th></th>\n",
              "      <th></th>\n",
              "      <th></th>\n",
              "      <th></th>\n",
              "      <th></th>\n",
              "      <th></th>\n",
              "      <th></th>\n",
              "      <th></th>\n",
              "      <th></th>\n",
              "      <th></th>\n",
              "      <th></th>\n",
              "      <th></th>\n",
              "    </tr>\n",
              "  </thead>\n",
              "  <tbody>\n",
              "    <tr>\n",
              "      <th>10000.0</th>\n",
              "      <td>0.000000</td>\n",
              "      <td>0.000000</td>\n",
              "      <td>0.008772</td>\n",
              "      <td>0.0</td>\n",
              "      <td>0.000000</td>\n",
              "      <td>0.008772</td>\n",
              "      <td>0.000000</td>\n",
              "      <td>0.000000</td>\n",
              "      <td>0.000000</td>\n",
              "      <td>0.000000</td>\n",
              "      <td>...</td>\n",
              "      <td>0.000000</td>\n",
              "      <td>0.000000</td>\n",
              "      <td>0.000000</td>\n",
              "      <td>0.070175</td>\n",
              "      <td>0.070175</td>\n",
              "      <td>0.000000</td>\n",
              "      <td>0.000000</td>\n",
              "      <td>0.000000</td>\n",
              "      <td>0.0</td>\n",
              "      <td>0.0</td>\n",
              "    </tr>\n",
              "    <tr>\n",
              "      <th>10001.0</th>\n",
              "      <td>0.000000</td>\n",
              "      <td>0.000146</td>\n",
              "      <td>0.013179</td>\n",
              "      <td>0.0</td>\n",
              "      <td>0.000000</td>\n",
              "      <td>0.000146</td>\n",
              "      <td>0.002929</td>\n",
              "      <td>0.005272</td>\n",
              "      <td>0.000146</td>\n",
              "      <td>0.000146</td>\n",
              "      <td>...</td>\n",
              "      <td>0.000439</td>\n",
              "      <td>0.000000</td>\n",
              "      <td>0.000293</td>\n",
              "      <td>0.007468</td>\n",
              "      <td>0.000732</td>\n",
              "      <td>0.000732</td>\n",
              "      <td>0.000293</td>\n",
              "      <td>0.053595</td>\n",
              "      <td>0.0</td>\n",
              "      <td>0.0</td>\n",
              "    </tr>\n",
              "    <tr>\n",
              "      <th>10002.0</th>\n",
              "      <td>0.001330</td>\n",
              "      <td>0.000000</td>\n",
              "      <td>0.007095</td>\n",
              "      <td>0.0</td>\n",
              "      <td>0.000000</td>\n",
              "      <td>0.001862</td>\n",
              "      <td>0.001596</td>\n",
              "      <td>0.001774</td>\n",
              "      <td>0.000177</td>\n",
              "      <td>0.000532</td>\n",
              "      <td>...</td>\n",
              "      <td>0.000443</td>\n",
              "      <td>0.000089</td>\n",
              "      <td>0.000355</td>\n",
              "      <td>0.002394</td>\n",
              "      <td>0.001242</td>\n",
              "      <td>0.000887</td>\n",
              "      <td>0.000621</td>\n",
              "      <td>0.028734</td>\n",
              "      <td>0.0</td>\n",
              "      <td>0.0</td>\n",
              "    </tr>\n",
              "    <tr>\n",
              "      <th>10003.0</th>\n",
              "      <td>0.001331</td>\n",
              "      <td>0.000089</td>\n",
              "      <td>0.012690</td>\n",
              "      <td>0.0</td>\n",
              "      <td>0.000177</td>\n",
              "      <td>0.003905</td>\n",
              "      <td>0.002130</td>\n",
              "      <td>0.001154</td>\n",
              "      <td>0.000177</td>\n",
              "      <td>0.000177</td>\n",
              "      <td>...</td>\n",
              "      <td>0.000621</td>\n",
              "      <td>0.000976</td>\n",
              "      <td>0.000177</td>\n",
              "      <td>0.004792</td>\n",
              "      <td>0.002218</td>\n",
              "      <td>0.001065</td>\n",
              "      <td>0.000444</td>\n",
              "      <td>0.028219</td>\n",
              "      <td>0.0</td>\n",
              "      <td>0.0</td>\n",
              "    </tr>\n",
              "    <tr>\n",
              "      <th>10004.0</th>\n",
              "      <td>0.000000</td>\n",
              "      <td>0.000000</td>\n",
              "      <td>0.009740</td>\n",
              "      <td>0.0</td>\n",
              "      <td>0.000000</td>\n",
              "      <td>0.002597</td>\n",
              "      <td>0.001948</td>\n",
              "      <td>0.000649</td>\n",
              "      <td>0.000000</td>\n",
              "      <td>0.000649</td>\n",
              "      <td>...</td>\n",
              "      <td>0.000649</td>\n",
              "      <td>0.000649</td>\n",
              "      <td>0.000000</td>\n",
              "      <td>0.010390</td>\n",
              "      <td>0.013636</td>\n",
              "      <td>0.000000</td>\n",
              "      <td>0.000000</td>\n",
              "      <td>0.024026</td>\n",
              "      <td>0.0</td>\n",
              "      <td>0.0</td>\n",
              "    </tr>\n",
              "  </tbody>\n",
              "</table>\n",
              "<p>5 rows × 162 columns</p>\n",
              "</div>\n",
              "      <button class=\"colab-df-convert\" onclick=\"convertToInteractive('df-402cbc20-41fa-4a17-8e6d-4ed763591063')\"\n",
              "              title=\"Convert this dataframe to an interactive table.\"\n",
              "              style=\"display:none;\">\n",
              "        \n",
              "  <svg xmlns=\"http://www.w3.org/2000/svg\" height=\"24px\"viewBox=\"0 0 24 24\"\n",
              "       width=\"24px\">\n",
              "    <path d=\"M0 0h24v24H0V0z\" fill=\"none\"/>\n",
              "    <path d=\"M18.56 5.44l.94 2.06.94-2.06 2.06-.94-2.06-.94-.94-2.06-.94 2.06-2.06.94zm-11 1L8.5 8.5l.94-2.06 2.06-.94-2.06-.94L8.5 2.5l-.94 2.06-2.06.94zm10 10l.94 2.06.94-2.06 2.06-.94-2.06-.94-.94-2.06-.94 2.06-2.06.94z\"/><path d=\"M17.41 7.96l-1.37-1.37c-.4-.4-.92-.59-1.43-.59-.52 0-1.04.2-1.43.59L10.3 9.45l-7.72 7.72c-.78.78-.78 2.05 0 2.83L4 21.41c.39.39.9.59 1.41.59.51 0 1.02-.2 1.41-.59l7.78-7.78 2.81-2.81c.8-.78.8-2.07 0-2.86zM5.41 20L4 18.59l7.72-7.72 1.47 1.35L5.41 20z\"/>\n",
              "  </svg>\n",
              "      </button>\n",
              "      \n",
              "  <style>\n",
              "    .colab-df-container {\n",
              "      display:flex;\n",
              "      flex-wrap:wrap;\n",
              "      gap: 12px;\n",
              "    }\n",
              "\n",
              "    .colab-df-convert {\n",
              "      background-color: #E8F0FE;\n",
              "      border: none;\n",
              "      border-radius: 50%;\n",
              "      cursor: pointer;\n",
              "      display: none;\n",
              "      fill: #1967D2;\n",
              "      height: 32px;\n",
              "      padding: 0 0 0 0;\n",
              "      width: 32px;\n",
              "    }\n",
              "\n",
              "    .colab-df-convert:hover {\n",
              "      background-color: #E2EBFA;\n",
              "      box-shadow: 0px 1px 2px rgba(60, 64, 67, 0.3), 0px 1px 3px 1px rgba(60, 64, 67, 0.15);\n",
              "      fill: #174EA6;\n",
              "    }\n",
              "\n",
              "    [theme=dark] .colab-df-convert {\n",
              "      background-color: #3B4455;\n",
              "      fill: #D2E3FC;\n",
              "    }\n",
              "\n",
              "    [theme=dark] .colab-df-convert:hover {\n",
              "      background-color: #434B5C;\n",
              "      box-shadow: 0px 1px 3px 1px rgba(0, 0, 0, 0.15);\n",
              "      filter: drop-shadow(0px 1px 2px rgba(0, 0, 0, 0.3));\n",
              "      fill: #FFFFFF;\n",
              "    }\n",
              "  </style>\n",
              "\n",
              "      <script>\n",
              "        const buttonEl =\n",
              "          document.querySelector('#df-402cbc20-41fa-4a17-8e6d-4ed763591063 button.colab-df-convert');\n",
              "        buttonEl.style.display =\n",
              "          google.colab.kernel.accessAllowed ? 'block' : 'none';\n",
              "\n",
              "        async function convertToInteractive(key) {\n",
              "          const element = document.querySelector('#df-402cbc20-41fa-4a17-8e6d-4ed763591063');\n",
              "          const dataTable =\n",
              "            await google.colab.kernel.invokeFunction('convertToInteractive',\n",
              "                                                     [key], {});\n",
              "          if (!dataTable) return;\n",
              "\n",
              "          const docLinkHtml = 'Like what you see? Visit the ' +\n",
              "            '<a target=\"_blank\" href=https://colab.research.google.com/notebooks/data_table.ipynb>data table notebook</a>'\n",
              "            + ' to learn more about interactive tables.';\n",
              "          element.innerHTML = '';\n",
              "          dataTable['output_type'] = 'display_data';\n",
              "          await google.colab.output.renderOutput(dataTable, element);\n",
              "          const docLink = document.createElement('div');\n",
              "          docLink.innerHTML = docLinkHtml;\n",
              "          element.appendChild(docLink);\n",
              "        }\n",
              "      </script>\n",
              "    </div>\n",
              "  </div>\n",
              "  "
            ]
          },
          "metadata": {},
          "execution_count": 22
        }
      ]
    },
    {
      "cell_type": "code",
      "source": [
        "#merge income data with 311\n",
        "DataIncome1=dataIncome.merge(data311,left_index=True,right_index=True)\n",
        "DataIncome1.head()"
      ],
      "metadata": {
        "colab": {
          "base_uri": "https://localhost:8080/",
          "height": 383
        },
        "id": "7tS3ZMiZS8qa",
        "outputId": "d1e1843c-c75f-4469-e61d-9c08f6714af3"
      },
      "execution_count": 23,
      "outputs": [
        {
          "output_type": "execute_result",
          "data": {
            "text/plain": [
              "              Median         Mean    Pop  APPLIANCE  Adopt-A-Basket  \\\n",
              "Zip                                                                   \n",
              "10001.0   71244.6100  123112.7764  17678   0.000000        0.000146   \n",
              "10002.0   30843.9574   46258.6118  70878   0.001330        0.000000   \n",
              "10003.0   89998.5339  139330.9968  53609   0.001331        0.000089   \n",
              "10004.0  110183.6857  156682.7615   1271   0.000000        0.000000   \n",
              "10005.0  115133.2855  163762.6601   1517   0.000000        0.000000   \n",
              "\n",
              "         Air Quality  Animal Abuse  Animal Facility - No Permit  \\\n",
              "Zip                                                               \n",
              "10001.0     0.013179           0.0                     0.000000   \n",
              "10002.0     0.007095           0.0                     0.000000   \n",
              "10003.0     0.012690           0.0                     0.000177   \n",
              "10004.0     0.009740           0.0                     0.000000   \n",
              "10005.0     0.008219           0.0                     0.000000   \n",
              "\n",
              "         Animal in a Park  Asbestos  ...  Unsanitary Pigeon Condition  \\\n",
              "Zip                                  ...                                \n",
              "10001.0          0.000146  0.002929  ...                     0.000439   \n",
              "10002.0          0.001862  0.001596  ...                     0.000443   \n",
              "10003.0          0.003905  0.002130  ...                     0.000621   \n",
              "10004.0          0.002597  0.001948  ...                     0.000649   \n",
              "10005.0          0.002192  0.000548  ...                     0.000000   \n",
              "\n",
              "         Urinating in Public  Vacant Lot   Vending  Violation of Park Rules  \\\n",
              "Zip                                                                           \n",
              "10001.0             0.000000    0.000293  0.007468                 0.000732   \n",
              "10002.0             0.000089    0.000355  0.002394                 0.001242   \n",
              "10003.0             0.000976    0.000177  0.004792                 0.002218   \n",
              "10004.0             0.000649    0.000000  0.010390                 0.013636   \n",
              "10005.0             0.000000    0.000000  0.013699                 0.000000   \n",
              "\n",
              "         Water Conservation  Water Quality  Water System  Window Guard  \\\n",
              "Zip                                                                      \n",
              "10001.0            0.000732       0.000293      0.053595           0.0   \n",
              "10002.0            0.000887       0.000621      0.028734           0.0   \n",
              "10003.0            0.001065       0.000444      0.028219           0.0   \n",
              "10004.0            0.000000       0.000000      0.024026           0.0   \n",
              "10005.0            0.000548       0.000000      0.019726           0.0   \n",
              "\n",
              "         X-Ray Machine/Equipment  \n",
              "Zip                               \n",
              "10001.0                      0.0  \n",
              "10002.0                      0.0  \n",
              "10003.0                      0.0  \n",
              "10004.0                      0.0  \n",
              "10005.0                      0.0  \n",
              "\n",
              "[5 rows x 165 columns]"
            ],
            "text/html": [
              "\n",
              "  <div id=\"df-4dee4c01-6e89-499c-bab7-633ce7b10b65\">\n",
              "    <div class=\"colab-df-container\">\n",
              "      <div>\n",
              "<style scoped>\n",
              "    .dataframe tbody tr th:only-of-type {\n",
              "        vertical-align: middle;\n",
              "    }\n",
              "\n",
              "    .dataframe tbody tr th {\n",
              "        vertical-align: top;\n",
              "    }\n",
              "\n",
              "    .dataframe thead th {\n",
              "        text-align: right;\n",
              "    }\n",
              "</style>\n",
              "<table border=\"1\" class=\"dataframe\">\n",
              "  <thead>\n",
              "    <tr style=\"text-align: right;\">\n",
              "      <th></th>\n",
              "      <th>Median</th>\n",
              "      <th>Mean</th>\n",
              "      <th>Pop</th>\n",
              "      <th>APPLIANCE</th>\n",
              "      <th>Adopt-A-Basket</th>\n",
              "      <th>Air Quality</th>\n",
              "      <th>Animal Abuse</th>\n",
              "      <th>Animal Facility - No Permit</th>\n",
              "      <th>Animal in a Park</th>\n",
              "      <th>Asbestos</th>\n",
              "      <th>...</th>\n",
              "      <th>Unsanitary Pigeon Condition</th>\n",
              "      <th>Urinating in Public</th>\n",
              "      <th>Vacant Lot</th>\n",
              "      <th>Vending</th>\n",
              "      <th>Violation of Park Rules</th>\n",
              "      <th>Water Conservation</th>\n",
              "      <th>Water Quality</th>\n",
              "      <th>Water System</th>\n",
              "      <th>Window Guard</th>\n",
              "      <th>X-Ray Machine/Equipment</th>\n",
              "    </tr>\n",
              "    <tr>\n",
              "      <th>Zip</th>\n",
              "      <th></th>\n",
              "      <th></th>\n",
              "      <th></th>\n",
              "      <th></th>\n",
              "      <th></th>\n",
              "      <th></th>\n",
              "      <th></th>\n",
              "      <th></th>\n",
              "      <th></th>\n",
              "      <th></th>\n",
              "      <th></th>\n",
              "      <th></th>\n",
              "      <th></th>\n",
              "      <th></th>\n",
              "      <th></th>\n",
              "      <th></th>\n",
              "      <th></th>\n",
              "      <th></th>\n",
              "      <th></th>\n",
              "      <th></th>\n",
              "      <th></th>\n",
              "    </tr>\n",
              "  </thead>\n",
              "  <tbody>\n",
              "    <tr>\n",
              "      <th>10001.0</th>\n",
              "      <td>71244.6100</td>\n",
              "      <td>123112.7764</td>\n",
              "      <td>17678</td>\n",
              "      <td>0.000000</td>\n",
              "      <td>0.000146</td>\n",
              "      <td>0.013179</td>\n",
              "      <td>0.0</td>\n",
              "      <td>0.000000</td>\n",
              "      <td>0.000146</td>\n",
              "      <td>0.002929</td>\n",
              "      <td>...</td>\n",
              "      <td>0.000439</td>\n",
              "      <td>0.000000</td>\n",
              "      <td>0.000293</td>\n",
              "      <td>0.007468</td>\n",
              "      <td>0.000732</td>\n",
              "      <td>0.000732</td>\n",
              "      <td>0.000293</td>\n",
              "      <td>0.053595</td>\n",
              "      <td>0.0</td>\n",
              "      <td>0.0</td>\n",
              "    </tr>\n",
              "    <tr>\n",
              "      <th>10002.0</th>\n",
              "      <td>30843.9574</td>\n",
              "      <td>46258.6118</td>\n",
              "      <td>70878</td>\n",
              "      <td>0.001330</td>\n",
              "      <td>0.000000</td>\n",
              "      <td>0.007095</td>\n",
              "      <td>0.0</td>\n",
              "      <td>0.000000</td>\n",
              "      <td>0.001862</td>\n",
              "      <td>0.001596</td>\n",
              "      <td>...</td>\n",
              "      <td>0.000443</td>\n",
              "      <td>0.000089</td>\n",
              "      <td>0.000355</td>\n",
              "      <td>0.002394</td>\n",
              "      <td>0.001242</td>\n",
              "      <td>0.000887</td>\n",
              "      <td>0.000621</td>\n",
              "      <td>0.028734</td>\n",
              "      <td>0.0</td>\n",
              "      <td>0.0</td>\n",
              "    </tr>\n",
              "    <tr>\n",
              "      <th>10003.0</th>\n",
              "      <td>89998.5339</td>\n",
              "      <td>139330.9968</td>\n",
              "      <td>53609</td>\n",
              "      <td>0.001331</td>\n",
              "      <td>0.000089</td>\n",
              "      <td>0.012690</td>\n",
              "      <td>0.0</td>\n",
              "      <td>0.000177</td>\n",
              "      <td>0.003905</td>\n",
              "      <td>0.002130</td>\n",
              "      <td>...</td>\n",
              "      <td>0.000621</td>\n",
              "      <td>0.000976</td>\n",
              "      <td>0.000177</td>\n",
              "      <td>0.004792</td>\n",
              "      <td>0.002218</td>\n",
              "      <td>0.001065</td>\n",
              "      <td>0.000444</td>\n",
              "      <td>0.028219</td>\n",
              "      <td>0.0</td>\n",
              "      <td>0.0</td>\n",
              "    </tr>\n",
              "    <tr>\n",
              "      <th>10004.0</th>\n",
              "      <td>110183.6857</td>\n",
              "      <td>156682.7615</td>\n",
              "      <td>1271</td>\n",
              "      <td>0.000000</td>\n",
              "      <td>0.000000</td>\n",
              "      <td>0.009740</td>\n",
              "      <td>0.0</td>\n",
              "      <td>0.000000</td>\n",
              "      <td>0.002597</td>\n",
              "      <td>0.001948</td>\n",
              "      <td>...</td>\n",
              "      <td>0.000649</td>\n",
              "      <td>0.000649</td>\n",
              "      <td>0.000000</td>\n",
              "      <td>0.010390</td>\n",
              "      <td>0.013636</td>\n",
              "      <td>0.000000</td>\n",
              "      <td>0.000000</td>\n",
              "      <td>0.024026</td>\n",
              "      <td>0.0</td>\n",
              "      <td>0.0</td>\n",
              "    </tr>\n",
              "    <tr>\n",
              "      <th>10005.0</th>\n",
              "      <td>115133.2855</td>\n",
              "      <td>163762.6601</td>\n",
              "      <td>1517</td>\n",
              "      <td>0.000000</td>\n",
              "      <td>0.000000</td>\n",
              "      <td>0.008219</td>\n",
              "      <td>0.0</td>\n",
              "      <td>0.000000</td>\n",
              "      <td>0.002192</td>\n",
              "      <td>0.000548</td>\n",
              "      <td>...</td>\n",
              "      <td>0.000000</td>\n",
              "      <td>0.000000</td>\n",
              "      <td>0.000000</td>\n",
              "      <td>0.013699</td>\n",
              "      <td>0.000000</td>\n",
              "      <td>0.000548</td>\n",
              "      <td>0.000000</td>\n",
              "      <td>0.019726</td>\n",
              "      <td>0.0</td>\n",
              "      <td>0.0</td>\n",
              "    </tr>\n",
              "  </tbody>\n",
              "</table>\n",
              "<p>5 rows × 165 columns</p>\n",
              "</div>\n",
              "      <button class=\"colab-df-convert\" onclick=\"convertToInteractive('df-4dee4c01-6e89-499c-bab7-633ce7b10b65')\"\n",
              "              title=\"Convert this dataframe to an interactive table.\"\n",
              "              style=\"display:none;\">\n",
              "        \n",
              "  <svg xmlns=\"http://www.w3.org/2000/svg\" height=\"24px\"viewBox=\"0 0 24 24\"\n",
              "       width=\"24px\">\n",
              "    <path d=\"M0 0h24v24H0V0z\" fill=\"none\"/>\n",
              "    <path d=\"M18.56 5.44l.94 2.06.94-2.06 2.06-.94-2.06-.94-.94-2.06-.94 2.06-2.06.94zm-11 1L8.5 8.5l.94-2.06 2.06-.94-2.06-.94L8.5 2.5l-.94 2.06-2.06.94zm10 10l.94 2.06.94-2.06 2.06-.94-2.06-.94-.94-2.06-.94 2.06-2.06.94z\"/><path d=\"M17.41 7.96l-1.37-1.37c-.4-.4-.92-.59-1.43-.59-.52 0-1.04.2-1.43.59L10.3 9.45l-7.72 7.72c-.78.78-.78 2.05 0 2.83L4 21.41c.39.39.9.59 1.41.59.51 0 1.02-.2 1.41-.59l7.78-7.78 2.81-2.81c.8-.78.8-2.07 0-2.86zM5.41 20L4 18.59l7.72-7.72 1.47 1.35L5.41 20z\"/>\n",
              "  </svg>\n",
              "      </button>\n",
              "      \n",
              "  <style>\n",
              "    .colab-df-container {\n",
              "      display:flex;\n",
              "      flex-wrap:wrap;\n",
              "      gap: 12px;\n",
              "    }\n",
              "\n",
              "    .colab-df-convert {\n",
              "      background-color: #E8F0FE;\n",
              "      border: none;\n",
              "      border-radius: 50%;\n",
              "      cursor: pointer;\n",
              "      display: none;\n",
              "      fill: #1967D2;\n",
              "      height: 32px;\n",
              "      padding: 0 0 0 0;\n",
              "      width: 32px;\n",
              "    }\n",
              "\n",
              "    .colab-df-convert:hover {\n",
              "      background-color: #E2EBFA;\n",
              "      box-shadow: 0px 1px 2px rgba(60, 64, 67, 0.3), 0px 1px 3px 1px rgba(60, 64, 67, 0.15);\n",
              "      fill: #174EA6;\n",
              "    }\n",
              "\n",
              "    [theme=dark] .colab-df-convert {\n",
              "      background-color: #3B4455;\n",
              "      fill: #D2E3FC;\n",
              "    }\n",
              "\n",
              "    [theme=dark] .colab-df-convert:hover {\n",
              "      background-color: #434B5C;\n",
              "      box-shadow: 0px 1px 3px 1px rgba(0, 0, 0, 0.15);\n",
              "      filter: drop-shadow(0px 1px 2px rgba(0, 0, 0, 0.3));\n",
              "      fill: #FFFFFF;\n",
              "    }\n",
              "  </style>\n",
              "\n",
              "      <script>\n",
              "        const buttonEl =\n",
              "          document.querySelector('#df-4dee4c01-6e89-499c-bab7-633ce7b10b65 button.colab-df-convert');\n",
              "        buttonEl.style.display =\n",
              "          google.colab.kernel.accessAllowed ? 'block' : 'none';\n",
              "\n",
              "        async function convertToInteractive(key) {\n",
              "          const element = document.querySelector('#df-4dee4c01-6e89-499c-bab7-633ce7b10b65');\n",
              "          const dataTable =\n",
              "            await google.colab.kernel.invokeFunction('convertToInteractive',\n",
              "                                                     [key], {});\n",
              "          if (!dataTable) return;\n",
              "\n",
              "          const docLinkHtml = 'Like what you see? Visit the ' +\n",
              "            '<a target=\"_blank\" href=https://colab.research.google.com/notebooks/data_table.ipynb>data table notebook</a>'\n",
              "            + ' to learn more about interactive tables.';\n",
              "          element.innerHTML = '';\n",
              "          dataTable['output_type'] = 'display_data';\n",
              "          await google.colab.output.renderOutput(dataTable, element);\n",
              "          const docLink = document.createElement('div');\n",
              "          docLink.innerHTML = docLinkHtml;\n",
              "          element.appendChild(docLink);\n",
              "        }\n",
              "      </script>\n",
              "    </div>\n",
              "  </div>\n",
              "  "
            ]
          },
          "metadata": {},
          "execution_count": 23
        }
      ]
    },
    {
      "cell_type": "markdown",
      "source": [
        "**Task 1: Using 'Mean' as target variable, and 311 complaints as regressors, run a linear regression model and report out of sample (test) accuracy after cross validation**"
      ],
      "metadata": {
        "id": "HxVhtrsmS_ka"
      }
    },
    {
      "cell_type": "code",
      "source": [
        "np.random.seed(0)\n",
        "# Apply cross-validation to diagnose model for overfitting\n",
        "X = DataIncome1.iloc[:,3:]\n",
        "Y = DataIncome1.Mean\n",
        "R_IS=[]; R_OS=[] #lists for recording in-sample (training) and out-of-sample (test) R2\n",
        "n=20 #number of runs\n",
        "for i in range(n):\n",
        "    X_train, X_test, y_train, y_test = train_test_split(sm.add_constant(X),Y,test_size=0.3) #randomly split data into training (70%) and test (30%)\n",
        "    res=sm.OLS(y_train,X_train).fit()\n",
        "    R_IS.append(res.rsquared)   \n",
        "    y_pred=res.predict(X_test)\n",
        "    R_OS.append(r2_score(y_test,y_pred))\n",
        "    \n",
        "    #R_OS.append(1-((np.asarray(res.predict(X_test))-y_test)**2).sum()/((y_test-np.mean(y_test))**2).sum())\n",
        "print(\"IS R-squared is %.3f+-%.3f\"%(np.mean(R_IS),np.std(R_IS)))\n",
        "print(\"OS R-squared is %.3f+-%.3f\"%(np.mean(R_OS),np.std(R_OS)))"
      ],
      "metadata": {
        "colab": {
          "base_uri": "https://localhost:8080/"
        },
        "id": "RTXqpMkDS-Un",
        "outputId": "0a3191c9-e6a8-478f-e785-d606085a2558"
      },
      "execution_count": 24,
      "outputs": [
        {
          "output_type": "stream",
          "name": "stdout",
          "text": [
            "IS R-squared is 1.000+-0.000\n",
            "OS R-squared is -3.139+-3.129\n"
          ]
        }
      ]
    },
    {
      "cell_type": "markdown",
      "source": [
        "IS R2 is 1 and OS R2 is negative, suggest overfitting."
      ],
      "metadata": {
        "id": "Kj8gwO6oTDWv"
      }
    },
    {
      "cell_type": "markdown",
      "source": [
        "**Task 2: Now analyze performance using PCA depending on the number N of leading PCs to take.**"
      ],
      "metadata": {
        "id": "NlpEmAdcVh18"
      }
    },
    {
      "cell_type": "code",
      "source": [
        "# apply PCA first for whole data\n",
        "#Note: no need to standardize data first as it is already normalized\n",
        "\n",
        "#then apply PCA\n",
        "pca = PCA(X.shape[1])\n",
        "dataP=pca.fit_transform(X)\n",
        "eigenvalues = pca.explained_variance_ratio_"
      ],
      "metadata": {
        "id": "3jBxSfF_TByI"
      },
      "execution_count": 25,
      "outputs": []
    },
    {
      "cell_type": "code",
      "source": [
        "## plot explained variance barplot and comment on the appropriate number of eigenvectors based on that\n",
        "n=X.shape[1]\n",
        "plt.bar(np.arange(n), eigenvalues[:n].cumsum())\n",
        "plt.xlabel(\"Number of components\")\n",
        "plt.ylabel(\"Explained Variance\")\n",
        "plt.show()"
      ],
      "metadata": {
        "colab": {
          "base_uri": "https://localhost:8080/",
          "height": 279
        },
        "id": "NHlyHXYZVlVW",
        "outputId": "d2795ae9-8ebb-4af3-9f07-4f4c871e5f3a"
      },
      "execution_count": 26,
      "outputs": [
        {
          "output_type": "display_data",
          "data": {
            "text/plain": [
              "<Figure size 432x288 with 1 Axes>"
            ],
            "image/png": "[encoded data removed]"
          },
          "metadata": {
            "needs_background": "light"
          }
        }
      ]
    },
    {
      "cell_type": "code",
      "source": [
        "## take a closer look with less components\n",
        "n=20\n",
        "plt.bar(np.arange(n), eigenvalues[:n].cumsum())\n",
        "plt.xlabel(\"Number of components\")\n",
        "plt.ylabel(\"Explained Variance\")\n",
        "plt.show()"
      ],
      "metadata": {
        "colab": {
          "base_uri": "https://localhost:8080/",
          "height": 279
        },
        "id": "BcjLCkD_VmNI",
        "outputId": "55dc0228-010a-4791-eb89-46e97afd1c65"
      },
      "execution_count": 27,
      "outputs": [
        {
          "output_type": "display_data",
          "data": {
            "text/plain": [
              "<Figure size 432x288 with 1 Axes>"
            ],
            "image/png": "[encoded data removed]"
          },
          "metadata": {
            "needs_background": "light"
          }
        }
      ]
    },
    {
      "cell_type": "markdown",
      "source": [
        "Just 5 components explain 80% variance in the data."
      ],
      "metadata": {
        "id": "HdXxkAXKVpU9"
      }
    },
    {
      "cell_type": "code",
      "source": [
        "## train a linear model based on above N PCs and report out of sample accuracy (with cross-validation)\n",
        "\n",
        "np.random.seed(0)\n",
        "# Apply cross-validation to diagnose model for overfitting\n",
        "\n",
        "X = DataIncome1.iloc[:,3:]\n",
        "Y = DataIncome1.Mean\n",
        "R_IS=[]; R_OS=[] #lists for recording in-sample (training) and out-of-sample (test) R2\n",
        "n=20 #number of runs\n",
        "for i in range(n):\n",
        "    X_train, X_test, y_train, y_test = train_test_split(X,Y,test_size=0.3) #randomly split data into training (70%) and test (30%)\n",
        "    #now apply PCA to the training data\n",
        "    scaler = preprocessing.StandardScaler().fit(X_train) #introduce a scaler first as it is important to scale data before PCA!\n",
        "    pca = PCA(5) #take only 5 leading principal components to get enough data but avoid overfitting\n",
        "    P_train=pca.fit_transform(scaler.transform(X_train)) #get principal components for the scaled training sample\n",
        "    res=sm.OLS(y_train,sm.add_constant(P_train)).fit() #fit the regression over \n",
        "\n",
        "    P_test=pca.transform(scaler.transform(X_test))\n",
        "    y_pred=np.asarray(res.predict(sm.add_constant(P_test)))\n",
        "    \n",
        "    R_IS.append(res.rsquared)\n",
        "    R_OS.append(r2_score(y_test,y_pred))\n",
        "print(\"IS R-squared is %.3f+-%.3f\"%(np.mean(R_IS),np.std(R_IS)))\n",
        "print(\"OS R-squared is %.3f+-%.3f\"%(np.mean(R_OS),np.std(R_OS)))"
      ],
      "metadata": {
        "colab": {
          "base_uri": "https://localhost:8080/"
        },
        "id": "mCBOH0BSVptd",
        "outputId": "f8444fae-321d-47d3-ca01-9bea3caab4f8"
      },
      "execution_count": 29,
      "outputs": [
        {
          "output_type": "stream",
          "name": "stdout",
          "text": [
            "IS R-squared is 0.647+-0.028\n",
            "OS R-squared is 0.541+-0.139\n"
          ]
        }
      ]
    },
    {
      "cell_type": "markdown",
      "source": [
        "OS R2 significantly increases with PCA"
      ],
      "metadata": {
        "id": "CQIGnnSrV1HQ"
      }
    },
    {
      "cell_type": "markdown",
      "source": [
        "**Task 3: Try implementing Lasso regression (feature selection) over all the PCs.**"
      ],
      "metadata": {
        "id": "qQOOIF39V3NR"
      }
    },
    {
      "cell_type": "markdown",
      "source": [
        "Use alpha=10000 as the regularization parameter. Report out of sample mean R2 score by splitting data into train and test"
      ],
      "metadata": {
        "id": "9vMRMG19V4JU"
      }
    },
    {
      "cell_type": "code",
      "source": [
        "X_train, X_test, y_train, y_test = train_test_split(X,Y,test_size=0.3)\n",
        "\n",
        "pca = PCA(X_train.shape[0])\n",
        "P_train=pca.fit_transform(X_train)\n",
        "P_test=pca.transform(X_test)\n",
        "\n",
        "Lasso=linear_model.Lasso(fit_intercept=True, alpha=10000)\n",
        "Lasso.fit(P_train,y_train)\n",
        "YPred_OS=Lasso.predict(P_test)\n",
        "print(\"The OS R-squared of Lasso is: {0}\".format(r2_score(y_test,YPred_OS)))"
      ],
      "metadata": {
        "colab": {
          "base_uri": "https://localhost:8080/"
        },
        "id": "cfIW-nRjVw98",
        "outputId": "8cf895d9-aae9-46b0-ca97-a35baed5f92e"
      },
      "execution_count": 59,
      "outputs": [
        {
          "output_type": "stream",
          "name": "stdout",
          "text": [
            "The OS R-squared of Lasso is: -0.06755531461671471\n"
          ]
        }
      ]
    },
    {
      "cell_type": "markdown",
      "source": [
        "Linear model with Lasso does not give any good R2 score."
      ],
      "metadata": {
        "id": "QdwEeflnWOwS"
      }
    },
    {
      "cell_type": "markdown",
      "source": [
        "**Task 4: Implement cross-validation for Lasso PCA regression above with further splitting the training sample into training and validation and tuning the parameter over the validation sample**"
      ],
      "metadata": {
        "id": "pvcohT89WRUB"
      }
    },
    {
      "cell_type": "code",
      "source": [
        "np.random.seed(0)\n",
        "\n",
        "X_train, X_test, y_train, y_test = train_test_split(X,Y,test_size=0.3)\n",
        "X_train, X_valid, y_train, y_valid = train_test_split(X_train,y_train,test_size=0.2)\n",
        "\n",
        "r2_val = []\n",
        "\n",
        "for alpha in np.linspace(10,1000,200):\n",
        "    \n",
        "    pca = PCA(X_train.shape[0])\n",
        "    P_train=pca.fit_transform(X_train)\n",
        "    P_val=pca.transform(X_valid)\n",
        "    \n",
        "    Lasso=linear_model.Lasso(fit_intercept=True, alpha=alpha)\n",
        "    Lasso.fit(P_train,y_train)\n",
        "    YPred_OS=Lasso.predict(P_val)\n",
        "    \n",
        "    r2_val.append(r2_score(y_valid,YPred_OS))"
      ],
      "metadata": {
        "id": "aKNTqWsYWSZX"
      },
      "execution_count": 60,
      "outputs": []
    },
    {
      "cell_type": "code",
      "source": [
        "plt.plot(np.linspace(10,1000,200), r2_val)\n",
        "plt.xlabel('alpha')\n",
        "plt.ylabel('validation r2')"
      ],
      "metadata": {
        "colab": {
          "base_uri": "https://localhost:8080/",
          "height": 296
        },
        "id": "5eIP-lpwWUVc",
        "outputId": "a97b6f0f-45f7-4862-d010-d40e9bd25e6c"
      },
      "execution_count": 61,
      "outputs": [
        {
          "output_type": "execute_result",
          "data": {
            "text/plain": [
              "Text(0, 0.5, 'validation r2')"
            ]
          },
          "metadata": {},
          "execution_count": 61
        },
        {
          "output_type": "display_data",
          "data": {
            "text/plain": [
              "<Figure size 432x288 with 1 Axes>"
            ],
            "image/png": "[encoded data removed]"
          },
          "metadata": {
            "needs_background": "light"
          }
        }
      ]
    },
    {
      "cell_type": "code",
      "source": [
        "print('best alpha:', np.linspace(10,1000,200)[np.argmax(r2_val)])"
      ],
      "metadata": {
        "colab": {
          "base_uri": "https://localhost:8080/"
        },
        "id": "fk9MpxCdWXJc",
        "outputId": "8b4a80eb-99a8-4381-91e6-acea6d71952b"
      },
      "execution_count": 62,
      "outputs": [
        {
          "output_type": "stream",
          "name": "stdout",
          "text": [
            "best alpha: 208.99497487437185\n"
          ]
        }
      ]
    },
    {
      "cell_type": "code",
      "source": [
        "# test accuracy\n",
        "\n",
        "P_test = pca.transform(X_test)\n",
        "\n",
        "Lasso=linear_model.Lasso(fit_intercept=True, alpha=208.99)\n",
        "Lasso.fit(P_train,y_train)\n",
        "YPred_OS=Lasso.predict(P_test)\n",
        "    \n",
        "print(r2_score(y_test,YPred_OS))"
      ],
      "metadata": {
        "colab": {
          "base_uri": "https://localhost:8080/"
        },
        "id": "p1gR0iPGWZOF",
        "outputId": "03d30dda-bc82-4232-97a2-24e7832d3338"
      },
      "execution_count": 63,
      "outputs": [
        {
          "output_type": "stream",
          "name": "stdout",
          "text": [
            "0.7801247628531063\n"
          ]
        }
      ]
    },
    {
      "cell_type": "markdown",
      "source": [
        "OS R-squared performs much better after tuning parameter alpha"
      ],
      "metadata": {
        "id": "5HJeLBVMWbRT"
      }
    }
  ]
}