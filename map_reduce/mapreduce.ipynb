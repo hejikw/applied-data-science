{
  "nbformat": 4,
  "nbformat_minor": 0,
  "metadata": {
    "colab": {
      "name": "mapreduce.ipynb",
      "provenance": []
    },
    "kernelspec": {
      "name": "python3",
      "display_name": "Python 3"
    },
    "language_info": {
      "name": "python"
    }
  },
  "cells": [
    {
      "cell_type": "markdown",
      "source": [
        "Map Reduce"
      ],
      "metadata": {
        "id": "2xD4P_B-9cEs"
      }
    },
    {
      "cell_type": "code",
      "source": [
        "import pandas as pd\n",
        "import csv\n",
        "from functools import reduce\n",
        "from multiprocessing import Pool"
      ],
      "metadata": {
        "id": "PAvhUTh09krb"
      },
      "execution_count": 1,
      "outputs": []
    },
    {
      "cell_type": "code",
      "execution_count": 2,
      "metadata": {
        "colab": {
          "base_uri": "https://localhost:8080/"
        },
        "id": "OHQ6oBzn9Xur",
        "outputId": "8146edbb-6f36-4ed6-a0bc-7244df32876f"
      },
      "outputs": [
        {
          "output_type": "stream",
          "name": "stdout",
          "text": [
            "--2022-06-04 09:05:33--  https://github.com/CUSP2021ADS/Data/raw/main/housingSalseSample.csv\n",
            "Resolving github.com (github.com)... 140.82.113.4\n",
            "Connecting to github.com (github.com)|140.82.113.4|:443... connected.\n",
            "HTTP request sent, awaiting response... 302 Found\n",
            "Location: https://raw.githubusercontent.com/CUSP2021ADS/Data/main/housingSalseSample.csv [following]\n",
            "--2022-06-04 09:05:33--  https://raw.githubusercontent.com/CUSP2021ADS/Data/main/housingSalseSample.csv\n",
            "Resolving raw.githubusercontent.com (raw.githubusercontent.com)... 185.199.108.133, 185.199.109.133, 185.199.110.133, ...\n",
            "Connecting to raw.githubusercontent.com (raw.githubusercontent.com)|185.199.108.133|:443... connected.\n",
            "HTTP request sent, awaiting response... 200 OK\n",
            "Length: 6167298 (5.9M) [text/plain]\n",
            "Saving to: ‘housingSalseSample.csv’\n",
            "\n",
            "housingSalseSample. 100%[===================>]   5.88M  --.-KB/s    in 0.02s   \n",
            "\n",
            "2022-06-04 09:05:33 (255 MB/s) - ‘housingSalseSample.csv’ saved [6167298/6167298]\n",
            "\n"
          ]
        }
      ],
      "source": [
        "!wget -O housingSalseSample.csv https://github.com/CUSP2021ADS/Data/raw/main/housingSalseSample.csv"
      ]
    },
    {
      "cell_type": "code",
      "source": [
        "house = pd.read_csv('housingSalseSample.csv')\n",
        "house.head()"
      ],
      "metadata": {
        "colab": {
          "base_uri": "https://localhost:8080/",
          "height": 206
        },
        "id": "nljhZpcx92Xw",
        "outputId": "0d0f2a0a-7eab-43f7-ec66-c5042d051354"
      },
      "execution_count": 4,
      "outputs": [
        {
          "output_type": "execute_result",
          "data": {
            "text/plain": [
              "   BOROUGH  BLOCK   LOT                       BUILDING CLASS CATEGORY  \\\n",
              "0        1   1170  1010  17  CONDOPS                                    \n",
              "1        4   1275    45  10  COOPS - ELEVATOR APARTMENTS                \n",
              "2        3   5746    58  03  THREE FAMILY DWELLINGS                     \n",
              "3        4   2086    50  10  COOPS - ELEVATOR APARTMENTS                \n",
              "4        4   5028     7  10  COOPS - ELEVATOR APARTMENTS                \n",
              "\n",
              "                                     ADDRESS  ZIP CODE  GROSS SQUARE FEET  \\\n",
              "0  200 WEST 79TH STREET, 7P                    10024.0                0.0   \n",
              "1  35-35 75TH STREET, 304                      11372.0                0.0   \n",
              "2  1249 65TH   STREET                          11219.0             3861.0   \n",
              "3  97-07 63 ROAD, 8F                           11374.0                0.0   \n",
              "4  38-15 149TH   STREET, 1F                    11354.0                0.0   \n",
              "\n",
              "   YEAR BUILT  SALE PRICE   SALE DATE  \n",
              "0      1975.0      551000  2011-07-28  \n",
              "1      1941.0      338000  2011-05-20  \n",
              "2      1910.0     1250000  2014-12-04  \n",
              "3      1955.0      253000  2016-03-09  \n",
              "4      1955.0           0  2016-12-30  "
            ],
            "text/html": [
              "\n",
              "  <div id=\"df-22d29c81-b46a-4b38-8972-c7c5dc83858a\">\n",
              "    <div class=\"colab-df-container\">\n",
              "      <div>\n",
              "<style scoped>\n",
              "    .dataframe tbody tr th:only-of-type {\n",
              "        vertical-align: middle;\n",
              "    }\n",
              "\n",
              "    .dataframe tbody tr th {\n",
              "        vertical-align: top;\n",
              "    }\n",
              "\n",
              "    .dataframe thead th {\n",
              "        text-align: right;\n",
              "    }\n",
              "</style>\n",
              "<table border=\"1\" class=\"dataframe\">\n",
              "  <thead>\n",
              "    <tr style=\"text-align: right;\">\n",
              "      <th></th>\n",
              "      <th>BOROUGH</th>\n",
              "      <th>BLOCK</th>\n",
              "      <th>LOT</th>\n",
              "      <th>BUILDING CLASS CATEGORY</th>\n",
              "      <th>ADDRESS</th>\n",
              "      <th>ZIP CODE</th>\n",
              "      <th>GROSS SQUARE FEET</th>\n",
              "      <th>YEAR BUILT</th>\n",
              "      <th>SALE PRICE</th>\n",
              "      <th>SALE DATE</th>\n",
              "    </tr>\n",
              "  </thead>\n",
              "  <tbody>\n",
              "    <tr>\n",
              "      <th>0</th>\n",
              "      <td>1</td>\n",
              "      <td>1170</td>\n",
              "      <td>1010</td>\n",
              "      <td>17  CONDOPS</td>\n",
              "      <td>200 WEST 79TH STREET, 7P</td>\n",
              "      <td>10024.0</td>\n",
              "      <td>0.0</td>\n",
              "      <td>1975.0</td>\n",
              "      <td>551000</td>\n",
              "      <td>2011-07-28</td>\n",
              "    </tr>\n",
              "    <tr>\n",
              "      <th>1</th>\n",
              "      <td>4</td>\n",
              "      <td>1275</td>\n",
              "      <td>45</td>\n",
              "      <td>10  COOPS - ELEVATOR APARTMENTS</td>\n",
              "      <td>35-35 75TH STREET, 304</td>\n",
              "      <td>11372.0</td>\n",
              "      <td>0.0</td>\n",
              "      <td>1941.0</td>\n",
              "      <td>338000</td>\n",
              "      <td>2011-05-20</td>\n",
              "    </tr>\n",
              "    <tr>\n",
              "      <th>2</th>\n",
              "      <td>3</td>\n",
              "      <td>5746</td>\n",
              "      <td>58</td>\n",
              "      <td>03  THREE FAMILY DWELLINGS</td>\n",
              "      <td>1249 65TH   STREET</td>\n",
              "      <td>11219.0</td>\n",
              "      <td>3861.0</td>\n",
              "      <td>1910.0</td>\n",
              "      <td>1250000</td>\n",
              "      <td>2014-12-04</td>\n",
              "    </tr>\n",
              "    <tr>\n",
              "      <th>3</th>\n",
              "      <td>4</td>\n",
              "      <td>2086</td>\n",
              "      <td>50</td>\n",
              "      <td>10  COOPS - ELEVATOR APARTMENTS</td>\n",
              "      <td>97-07 63 ROAD, 8F</td>\n",
              "      <td>11374.0</td>\n",
              "      <td>0.0</td>\n",
              "      <td>1955.0</td>\n",
              "      <td>253000</td>\n",
              "      <td>2016-03-09</td>\n",
              "    </tr>\n",
              "    <tr>\n",
              "      <th>4</th>\n",
              "      <td>4</td>\n",
              "      <td>5028</td>\n",
              "      <td>7</td>\n",
              "      <td>10  COOPS - ELEVATOR APARTMENTS</td>\n",
              "      <td>38-15 149TH   STREET, 1F</td>\n",
              "      <td>11354.0</td>\n",
              "      <td>0.0</td>\n",
              "      <td>1955.0</td>\n",
              "      <td>0</td>\n",
              "      <td>2016-12-30</td>\n",
              "    </tr>\n",
              "  </tbody>\n",
              "</table>\n",
              "</div>\n",
              "      <button class=\"colab-df-convert\" onclick=\"convertToInteractive('df-22d29c81-b46a-4b38-8972-c7c5dc83858a')\"\n",
              "              title=\"Convert this dataframe to an interactive table.\"\n",
              "              style=\"display:none;\">\n",
              "        \n",
              "  <svg xmlns=\"http://www.w3.org/2000/svg\" height=\"24px\"viewBox=\"0 0 24 24\"\n",
              "       width=\"24px\">\n",
              "    <path d=\"M0 0h24v24H0V0z\" fill=\"none\"/>\n",
              "    <path d=\"M18.56 5.44l.94 2.06.94-2.06 2.06-.94-2.06-.94-.94-2.06-.94 2.06-2.06.94zm-11 1L8.5 8.5l.94-2.06 2.06-.94-2.06-.94L8.5 2.5l-.94 2.06-2.06.94zm10 10l.94 2.06.94-2.06 2.06-.94-2.06-.94-.94-2.06-.94 2.06-2.06.94z\"/><path d=\"M17.41 7.96l-1.37-1.37c-.4-.4-.92-.59-1.43-.59-.52 0-1.04.2-1.43.59L10.3 9.45l-7.72 7.72c-.78.78-.78 2.05 0 2.83L4 21.41c.39.39.9.59 1.41.59.51 0 1.02-.2 1.41-.59l7.78-7.78 2.81-2.81c.8-.78.8-2.07 0-2.86zM5.41 20L4 18.59l7.72-7.72 1.47 1.35L5.41 20z\"/>\n",
              "  </svg>\n",
              "      </button>\n",
              "      \n",
              "  <style>\n",
              "    .colab-df-container {\n",
              "      display:flex;\n",
              "      flex-wrap:wrap;\n",
              "      gap: 12px;\n",
              "    }\n",
              "\n",
              "    .colab-df-convert {\n",
              "      background-color: #E8F0FE;\n",
              "      border: none;\n",
              "      border-radius: 50%;\n",
              "      cursor: pointer;\n",
              "      display: none;\n",
              "      fill: #1967D2;\n",
              "      height: 32px;\n",
              "      padding: 0 0 0 0;\n",
              "      width: 32px;\n",
              "    }\n",
              "\n",
              "    .colab-df-convert:hover {\n",
              "      background-color: #E2EBFA;\n",
              "      box-shadow: 0px 1px 2px rgba(60, 64, 67, 0.3), 0px 1px 3px 1px rgba(60, 64, 67, 0.15);\n",
              "      fill: #174EA6;\n",
              "    }\n",
              "\n",
              "    [theme=dark] .colab-df-convert {\n",
              "      background-color: #3B4455;\n",
              "      fill: #D2E3FC;\n",
              "    }\n",
              "\n",
              "    [theme=dark] .colab-df-convert:hover {\n",
              "      background-color: #434B5C;\n",
              "      box-shadow: 0px 1px 3px 1px rgba(0, 0, 0, 0.15);\n",
              "      filter: drop-shadow(0px 1px 2px rgba(0, 0, 0, 0.3));\n",
              "      fill: #FFFFFF;\n",
              "    }\n",
              "  </style>\n",
              "\n",
              "      <script>\n",
              "        const buttonEl =\n",
              "          document.querySelector('#df-22d29c81-b46a-4b38-8972-c7c5dc83858a button.colab-df-convert');\n",
              "        buttonEl.style.display =\n",
              "          google.colab.kernel.accessAllowed ? 'block' : 'none';\n",
              "\n",
              "        async function convertToInteractive(key) {\n",
              "          const element = document.querySelector('#df-22d29c81-b46a-4b38-8972-c7c5dc83858a');\n",
              "          const dataTable =\n",
              "            await google.colab.kernel.invokeFunction('convertToInteractive',\n",
              "                                                     [key], {});\n",
              "          if (!dataTable) return;\n",
              "\n",
              "          const docLinkHtml = 'Like what you see? Visit the ' +\n",
              "            '<a target=\"_blank\" href=https://colab.research.google.com/notebooks/data_table.ipynb>data table notebook</a>'\n",
              "            + ' to learn more about interactive tables.';\n",
              "          element.innerHTML = '';\n",
              "          dataTable['output_type'] = 'display_data';\n",
              "          await google.colab.output.renderOutput(dataTable, element);\n",
              "          const docLink = document.createElement('div');\n",
              "          docLink.innerHTML = docLinkHtml;\n",
              "          element.appendChild(docLink);\n",
              "        }\n",
              "      </script>\n",
              "    </div>\n",
              "  </div>\n",
              "  "
            ]
          },
          "metadata": {},
          "execution_count": 4
        }
      ]
    },
    {
      "cell_type": "code",
      "source": [
        "from functools import reduce\n",
        "import csv\n",
        "\n",
        "def returnInfo(record):\n",
        "    return(record['ZIP CODE'],record['GROSS SQUARE FEET'],record['SALE PRICE'])\n",
        "\n",
        "def sum_sqft_price(result,record):\n",
        "    zipcode, sqft, price = record[0], record[1], record[2]\n",
        "    if zipcode not in result:\n",
        "        result[zipcode] = (float(sqft),float(price))\n",
        "    else:\n",
        "        result[zipcode] = (result[zipcode][0]+float(sqft),result[zipcode][1]+float(price))\n",
        "    return result"
      ],
      "metadata": {
        "id": "Z_NZaFIq9n1F"
      },
      "execution_count": 3,
      "outputs": []
    },
    {
      "cell_type": "code",
      "source": [
        "with open('housingSalseSample.csv', 'r') as fi:\n",
        "    reader = csv.DictReader(fi)\n",
        "\n",
        "    output = sorted(map(lambda x: [int(float(x[0])),round(x[1],2)],\n",
        "                 map(lambda x: (x[0],x[1][1]/x[1][0]),\n",
        "                 list(reduce(sum_sqft_price,\n",
        "                             filter(lambda x: float(x[1])>500 and float(x[2])>100000,\n",
        "                                    filter(lambda x: len(x[0])*len(x[1])*len(x[2])>0, \n",
        "                                           list(map(returnInfo,reader)))),{}).items()))), key = lambda x: x[1])"
      ],
      "metadata": {
        "id": "OAgxKYIC9vXV"
      },
      "execution_count": 5,
      "outputs": []
    },
    {
      "cell_type": "code",
      "source": [
        "'''grading function\n",
        "please pass your output into this function and upload the generated csv file \n",
        "together with your notebook to your GitHub repo'''\n",
        "\n",
        "def grading(output):\n",
        "    import pandas as pd\n",
        "    pd.DataFrame(output,columns=['zipcode','price']).to_csv('output1.csv',index=False)\n",
        "\n",
        "grading(output)"
      ],
      "metadata": {
        "id": "dvYN8mZt98wP"
      },
      "execution_count": 6,
      "outputs": []
    },
    {
      "cell_type": "code",
      "source": [
        "from google.colab import files\n",
        "files.download('output1.csv') "
      ],
      "metadata": {
        "colab": {
          "base_uri": "https://localhost:8080/",
          "height": 17
        },
        "id": "V6Y88F67-rmp",
        "outputId": "2785ce2d-ecb2-4f4c-e367-15f76e88ccae"
      },
      "execution_count": 8,
      "outputs": [
        {
          "output_type": "display_data",
          "data": {
            "text/plain": [
              "<IPython.core.display.Javascript object>"
            ],
            "application/javascript": [
              "\n",
              "    async function download(id, filename, size) {\n",
              "      if (!google.colab.kernel.accessAllowed) {\n",
              "        return;\n",
              "      }\n",
              "      const div = document.createElement('div');\n",
              "      const label = document.createElement('label');\n",
              "      label.textContent = `Downloading \"${filename}\": `;\n",
              "      div.appendChild(label);\n",
              "      const progress = document.createElement('progress');\n",
              "      progress.max = size;\n",
              "      div.appendChild(progress);\n",
              "      document.body.appendChild(div);\n",
              "\n",
              "      const buffers = [];\n",
              "      let downloaded = 0;\n",
              "\n",
              "      const channel = await google.colab.kernel.comms.open(id);\n",
              "      // Send a message to notify the kernel that we're ready.\n",
              "      channel.send({})\n",
              "\n",
              "      for await (const message of channel.messages) {\n",
              "        // Send a message to notify the kernel that we're ready.\n",
              "        channel.send({})\n",
              "        if (message.buffers) {\n",
              "          for (const buffer of message.buffers) {\n",
              "            buffers.push(buffer);\n",
              "            downloaded += buffer.byteLength;\n",
              "            progress.value = downloaded;\n",
              "          }\n",
              "        }\n",
              "      }\n",
              "      const blob = new Blob(buffers, {type: 'application/binary'});\n",
              "      const a = document.createElement('a');\n",
              "      a.href = window.URL.createObjectURL(blob);\n",
              "      a.download = filename;\n",
              "      div.appendChild(a);\n",
              "      a.click();\n",
              "      div.remove();\n",
              "    }\n",
              "  "
            ]
          },
          "metadata": {}
        },
        {
          "output_type": "display_data",
          "data": {
            "text/plain": [
              "<IPython.core.display.Javascript object>"
            ],
            "application/javascript": [
              "download(\"download_9704adb0-edfd-4b4c-8205-c7b3a5612e15\", \"output1.csv\", 2324)"
            ]
          },
          "metadata": {}
        }
      ]
    },
    {
      "cell_type": "markdown",
      "source": [
        "Multiprocessing and Chunk"
      ],
      "metadata": {
        "id": "fn17B90m-BZQ"
      }
    },
    {
      "cell_type": "code",
      "source": [
        "!wget -O ADSSession6Task2Data.csv https://raw.githubusercontent.com/CUSP2021ADS/Data/main/ADSSession6Task2Data.csv"
      ],
      "metadata": {
        "colab": {
          "base_uri": "https://localhost:8080/"
        },
        "id": "_l-egH579_31",
        "outputId": "358fb5b1-1e05-41d7-d38c-6b09def9eac8"
      },
      "execution_count": 9,
      "outputs": [
        {
          "output_type": "stream",
          "name": "stdout",
          "text": [
            "--2022-06-04 09:11:31--  https://raw.githubusercontent.com/CUSP2021ADS/Data/main/ADSSession6Task2Data.csv\n",
            "Resolving raw.githubusercontent.com (raw.githubusercontent.com)... 185.199.108.133, 185.199.110.133, 185.199.109.133, ...\n",
            "Connecting to raw.githubusercontent.com (raw.githubusercontent.com)|185.199.108.133|:443... connected.\n",
            "HTTP request sent, awaiting response... 200 OK\n",
            "Length: 279369 (273K) [text/plain]\n",
            "Saving to: ‘ADSSession6Task2Data.csv’\n",
            "\n",
            "\rADSSession6Task2Dat   0%[                    ]       0  --.-KB/s               \rADSSession6Task2Dat 100%[===================>] 272.82K  --.-KB/s    in 0.005s  \n",
            "\n",
            "2022-06-04 09:11:31 (56.1 MB/s) - ‘ADSSession6Task2Data.csv’ saved [279369/279369]\n",
            "\n"
          ]
        }
      ]
    },
    {
      "cell_type": "code",
      "source": [
        "from multiprocessing import Pool\n",
        "\n",
        "def returnValue(record):\n",
        "    return (record['Type'],record['Value'],record['Select'])\n",
        "\n",
        "    \n",
        "def sumValue(result,record): #add rides from a new record to the dictionary accumilating type-origin-destination-time ridership\n",
        "    if str(record[2]) == '1':\n",
        "        result[record[0]] = result.get(record[0],0) + float(record[1])\n",
        "\n",
        "    return result"
      ],
      "metadata": {
        "id": "iu9tu5YQ--ox"
      },
      "execution_count": 10,
      "outputs": []
    },
    {
      "cell_type": "code",
      "source": [
        "with open('ADSSession6Task2Data.csv', 'r') as fi:\n",
        "    reader = csv.DictReader(fi)\n",
        "    chunk = []\n",
        "    result = []\n",
        "    # read 100000 rows in each chunk\n",
        "    chunksize = 1000\n",
        "    pool = Pool(8)\n",
        "    for i, line in enumerate(reader):\n",
        "        if (i % chunksize == 0 and i > 0):\n",
        "            chunkOutput = reduce(sumValue,\n",
        "                        pool.map(returnValue,chunk),\n",
        "                        {}).items()\n",
        "            result += chunkOutput\n",
        "            chunk = []\n",
        "            \n",
        "        chunk.append(line)\n",
        "        \n",
        "    chunkOutput = reduce(sumValue,\n",
        "            pool.map(returnValue,chunk),\n",
        "            {}).items()\n",
        "    result += chunkOutput\n",
        "    pool.close()"
      ],
      "metadata": {
        "id": "4nI1dapg_F-F"
      },
      "execution_count": 11,
      "outputs": []
    },
    {
      "cell_type": "code",
      "source": [
        "def lastReducer(finalRecord,record):\n",
        "    finalRecord[record[0]] = finalRecord.get(record[0],0) + float(record[1])\n",
        "    return finalRecord\n",
        "\n",
        "output = list(reduce(lastReducer,result,{}).items())\n",
        "output"
      ],
      "metadata": {
        "colab": {
          "base_uri": "https://localhost:8080/"
        },
        "id": "DHD5U35p_U64",
        "outputId": "ad111792-0b17-4c3f-b8de-071d7dcb2427"
      },
      "execution_count": 12,
      "outputs": [
        {
          "output_type": "execute_result",
          "data": {
            "text/plain": [
              "[('3', 294.32549925839936),\n",
              " ('0', 306.7099300824752),\n",
              " ('1', 316.7932728146583),\n",
              " ('9', 291.68146927692595),\n",
              " ('6', 302.75696574193273),\n",
              " ('7', 280.6029945361827),\n",
              " ('8', 274.5970828385255),\n",
              " ('5', 302.4264220421208),\n",
              " ('4', 320.753814015207),\n",
              " ('2', 286.0854868555854)]"
            ]
          },
          "metadata": {},
          "execution_count": 12
        }
      ]
    },
    {
      "cell_type": "code",
      "source": [
        "'''grading function\n",
        "please pass your output into this function and upload the generated csv file \n",
        "together with your notebook to your GitHub repo'''\n",
        "\n",
        "def grading(output):\n",
        "    import pandas as pd\n",
        "    pd.DataFrame(output,columns=['Type','Value']).to_csv('output2.csv',index=False)\n",
        "\n",
        "grading(output)"
      ],
      "metadata": {
        "id": "1jzkYg0-_W8s"
      },
      "execution_count": 13,
      "outputs": []
    },
    {
      "cell_type": "code",
      "source": [
        "from google.colab import files\n",
        "files.download('output2.csv') "
      ],
      "metadata": {
        "colab": {
          "base_uri": "https://localhost:8080/",
          "height": 17
        },
        "id": "JN3Azi9w_aS6",
        "outputId": "df1144d1-d3b7-448a-f305-ae32cc083441"
      },
      "execution_count": 14,
      "outputs": [
        {
          "output_type": "display_data",
          "data": {
            "text/plain": [
              "<IPython.core.display.Javascript object>"
            ],
            "application/javascript": [
              "\n",
              "    async function download(id, filename, size) {\n",
              "      if (!google.colab.kernel.accessAllowed) {\n",
              "        return;\n",
              "      }\n",
              "      const div = document.createElement('div');\n",
              "      const label = document.createElement('label');\n",
              "      label.textContent = `Downloading \"${filename}\": `;\n",
              "      div.appendChild(label);\n",
              "      const progress = document.createElement('progress');\n",
              "      progress.max = size;\n",
              "      div.appendChild(progress);\n",
              "      document.body.appendChild(div);\n",
              "\n",
              "      const buffers = [];\n",
              "      let downloaded = 0;\n",
              "\n",
              "      const channel = await google.colab.kernel.comms.open(id);\n",
              "      // Send a message to notify the kernel that we're ready.\n",
              "      channel.send({})\n",
              "\n",
              "      for await (const message of channel.messages) {\n",
              "        // Send a message to notify the kernel that we're ready.\n",
              "        channel.send({})\n",
              "        if (message.buffers) {\n",
              "          for (const buffer of message.buffers) {\n",
              "            buffers.push(buffer);\n",
              "            downloaded += buffer.byteLength;\n",
              "            progress.value = downloaded;\n",
              "          }\n",
              "        }\n",
              "      }\n",
              "      const blob = new Blob(buffers, {type: 'application/binary'});\n",
              "      const a = document.createElement('a');\n",
              "      a.href = window.URL.createObjectURL(blob);\n",
              "      a.download = filename;\n",
              "      div.appendChild(a);\n",
              "      a.click();\n",
              "      div.remove();\n",
              "    }\n",
              "  "
            ]
          },
          "metadata": {}
        },
        {
          "output_type": "display_data",
          "data": {
            "text/plain": [
              "<IPython.core.display.Javascript object>"
            ],
            "application/javascript": [
              "download(\"download_f743ac8d-cc71-4113-9388-ed2f00008a70\", \"output2.csv\", 213)"
            ]
          },
          "metadata": {}
        }
      ]
    }
  ]
}