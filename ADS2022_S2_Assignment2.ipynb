{
  "nbformat": 4,
  "nbformat_minor": 0,
  "metadata": {
    "colab": {
      "name": "ADS2022_S2_Assignment2.ipynb",
      "provenance": []
    },
    "kernelspec": {
      "name": "python3",
      "display_name": "Python 3"
    },
    "language_info": {
      "name": "python"
    }
  },
  "cells": [
    {
      "cell_type": "code",
      "source": [
        "import pandas as pd\n",
        "import csv\n",
        "from functools import reduce\n",
        "from multiprocessing import Pool"
      ],
      "metadata": {
        "id": "ysJe6L92IPy3"
      },
      "execution_count": 463,
      "outputs": []
    },
    {
      "cell_type": "code",
      "execution_count": 464,
      "metadata": {
        "id": "4dmkzgg1zfTh",
        "colab": {
          "base_uri": "https://localhost:8080/"
        },
        "outputId": "0122f82c-bdd2-4d70-8983-7367fc668ba5"
      },
      "outputs": [
        {
          "output_type": "stream",
          "name": "stdout",
          "text": [
            "--2022-02-14 16:02:40--  https://github.com/CUSP2022ADS/Data/raw/main/housingSalseSample.csv\n",
            "Resolving github.com (github.com)... 192.30.255.113\n",
            "Connecting to github.com (github.com)|192.30.255.113|:443... connected.\n",
            "HTTP request sent, awaiting response... 302 Found\n",
            "Location: https://raw.githubusercontent.com/CUSP2022ADS/Data/main/housingSalseSample.csv [following]\n",
            "--2022-02-14 16:02:40--  https://raw.githubusercontent.com/CUSP2022ADS/Data/main/housingSalseSample.csv\n",
            "Resolving raw.githubusercontent.com (raw.githubusercontent.com)... 185.199.108.133, 185.199.109.133, 185.199.110.133, ...\n",
            "Connecting to raw.githubusercontent.com (raw.githubusercontent.com)|185.199.108.133|:443... connected.\n",
            "HTTP request sent, awaiting response... 200 OK\n",
            "Length: 6167298 (5.9M) [text/plain]\n",
            "Saving to: ‘housingSalseSample.csv’\n",
            "\n",
            "housingSalseSample. 100%[===================>]   5.88M  --.-KB/s    in 0.06s   \n",
            "\n",
            "2022-02-14 16:02:41 (94.8 MB/s) - ‘housingSalseSample.csv’ saved [6167298/6167298]\n",
            "\n"
          ]
        }
      ],
      "source": [
        "!wget -O housingSalseSample.csv https://github.com/CUSP2022ADS/Data/raw/main/housingSalseSample.csv"
      ]
    },
    {
      "cell_type": "code",
      "source": [
        "house = pd.read_csv('housingSalseSample.csv')\n",
        "house.head()"
      ],
      "metadata": {
        "colab": {
          "base_uri": "https://localhost:8080/",
          "height": 206
        },
        "id": "s2KXp4LGCNnN",
        "outputId": "1514a14a-4917-4160-9dc6-d48416c303bc"
      },
      "execution_count": 546,
      "outputs": [
        {
          "output_type": "execute_result",
          "data": {
            "text/html": [
              "\n",
              "  <div id=\"df-03162b8c-3459-4bfc-802a-3c46875fd1fe\">\n",
              "    <div class=\"colab-df-container\">\n",
              "      <div>\n",
              "<style scoped>\n",
              "    .dataframe tbody tr th:only-of-type {\n",
              "        vertical-align: middle;\n",
              "    }\n",
              "\n",
              "    .dataframe tbody tr th {\n",
              "        vertical-align: top;\n",
              "    }\n",
              "\n",
              "    .dataframe thead th {\n",
              "        text-align: right;\n",
              "    }\n",
              "</style>\n",
              "<table border=\"1\" class=\"dataframe\">\n",
              "  <thead>\n",
              "    <tr style=\"text-align: right;\">\n",
              "      <th></th>\n",
              "      <th>BOROUGH</th>\n",
              "      <th>BLOCK</th>\n",
              "      <th>LOT</th>\n",
              "      <th>BUILDING CLASS CATEGORY</th>\n",
              "      <th>ADDRESS</th>\n",
              "      <th>ZIP CODE</th>\n",
              "      <th>GROSS SQUARE FEET</th>\n",
              "      <th>YEAR BUILT</th>\n",
              "      <th>SALE PRICE</th>\n",
              "      <th>SALE DATE</th>\n",
              "    </tr>\n",
              "  </thead>\n",
              "  <tbody>\n",
              "    <tr>\n",
              "      <th>0</th>\n",
              "      <td>1</td>\n",
              "      <td>1170</td>\n",
              "      <td>1010</td>\n",
              "      <td>17  CONDOPS</td>\n",
              "      <td>200 WEST 79TH STREET, 7P</td>\n",
              "      <td>10,024.00</td>\n",
              "      <td>0.00</td>\n",
              "      <td>1,975.00</td>\n",
              "      <td>551000</td>\n",
              "      <td>2011-07-28</td>\n",
              "    </tr>\n",
              "    <tr>\n",
              "      <th>1</th>\n",
              "      <td>4</td>\n",
              "      <td>1275</td>\n",
              "      <td>45</td>\n",
              "      <td>10  COOPS - ELEVATOR APARTMENTS</td>\n",
              "      <td>35-35 75TH STREET, 304</td>\n",
              "      <td>11,372.00</td>\n",
              "      <td>0.00</td>\n",
              "      <td>1,941.00</td>\n",
              "      <td>338000</td>\n",
              "      <td>2011-05-20</td>\n",
              "    </tr>\n",
              "    <tr>\n",
              "      <th>2</th>\n",
              "      <td>3</td>\n",
              "      <td>5746</td>\n",
              "      <td>58</td>\n",
              "      <td>03  THREE FAMILY DWELLINGS</td>\n",
              "      <td>1249 65TH   STREET</td>\n",
              "      <td>11,219.00</td>\n",
              "      <td>3,861.00</td>\n",
              "      <td>1,910.00</td>\n",
              "      <td>1250000</td>\n",
              "      <td>2014-12-04</td>\n",
              "    </tr>\n",
              "    <tr>\n",
              "      <th>3</th>\n",
              "      <td>4</td>\n",
              "      <td>2086</td>\n",
              "      <td>50</td>\n",
              "      <td>10  COOPS - ELEVATOR APARTMENTS</td>\n",
              "      <td>97-07 63 ROAD, 8F</td>\n",
              "      <td>11,374.00</td>\n",
              "      <td>0.00</td>\n",
              "      <td>1,955.00</td>\n",
              "      <td>253000</td>\n",
              "      <td>2016-03-09</td>\n",
              "    </tr>\n",
              "    <tr>\n",
              "      <th>4</th>\n",
              "      <td>4</td>\n",
              "      <td>5028</td>\n",
              "      <td>7</td>\n",
              "      <td>10  COOPS - ELEVATOR APARTMENTS</td>\n",
              "      <td>38-15 149TH   STREET, 1F</td>\n",
              "      <td>11,354.00</td>\n",
              "      <td>0.00</td>\n",
              "      <td>1,955.00</td>\n",
              "      <td>0</td>\n",
              "      <td>2016-12-30</td>\n",
              "    </tr>\n",
              "  </tbody>\n",
              "</table>\n",
              "</div>\n",
              "      <button class=\"colab-df-convert\" onclick=\"convertToInteractive('df-03162b8c-3459-4bfc-802a-3c46875fd1fe')\"\n",
              "              title=\"Convert this dataframe to an interactive table.\"\n",
              "              style=\"display:none;\">\n",
              "        \n",
              "  <svg xmlns=\"http://www.w3.org/2000/svg\" height=\"24px\"viewBox=\"0 0 24 24\"\n",
              "       width=\"24px\">\n",
              "    <path d=\"M0 0h24v24H0V0z\" fill=\"none\"/>\n",
              "    <path d=\"M18.56 5.44l.94 2.06.94-2.06 2.06-.94-2.06-.94-.94-2.06-.94 2.06-2.06.94zm-11 1L8.5 8.5l.94-2.06 2.06-.94-2.06-.94L8.5 2.5l-.94 2.06-2.06.94zm10 10l.94 2.06.94-2.06 2.06-.94-2.06-.94-.94-2.06-.94 2.06-2.06.94z\"/><path d=\"M17.41 7.96l-1.37-1.37c-.4-.4-.92-.59-1.43-.59-.52 0-1.04.2-1.43.59L10.3 9.45l-7.72 7.72c-.78.78-.78 2.05 0 2.83L4 21.41c.39.39.9.59 1.41.59.51 0 1.02-.2 1.41-.59l7.78-7.78 2.81-2.81c.8-.78.8-2.07 0-2.86zM5.41 20L4 18.59l7.72-7.72 1.47 1.35L5.41 20z\"/>\n",
              "  </svg>\n",
              "      </button>\n",
              "      \n",
              "  <style>\n",
              "    .colab-df-container {\n",
              "      display:flex;\n",
              "      flex-wrap:wrap;\n",
              "      gap: 12px;\n",
              "    }\n",
              "\n",
              "    .colab-df-convert {\n",
              "      background-color: #E8F0FE;\n",
              "      border: none;\n",
              "      border-radius: 50%;\n",
              "      cursor: pointer;\n",
              "      display: none;\n",
              "      fill: #1967D2;\n",
              "      height: 32px;\n",
              "      padding: 0 0 0 0;\n",
              "      width: 32px;\n",
              "    }\n",
              "\n",
              "    .colab-df-convert:hover {\n",
              "      background-color: #E2EBFA;\n",
              "      box-shadow: 0px 1px 2px rgba(60, 64, 67, 0.3), 0px 1px 3px 1px rgba(60, 64, 67, 0.15);\n",
              "      fill: #174EA6;\n",
              "    }\n",
              "\n",
              "    [theme=dark] .colab-df-convert {\n",
              "      background-color: #3B4455;\n",
              "      fill: #D2E3FC;\n",
              "    }\n",
              "\n",
              "    [theme=dark] .colab-df-convert:hover {\n",
              "      background-color: #434B5C;\n",
              "      box-shadow: 0px 1px 3px 1px rgba(0, 0, 0, 0.15);\n",
              "      filter: drop-shadow(0px 1px 2px rgba(0, 0, 0, 0.3));\n",
              "      fill: #FFFFFF;\n",
              "    }\n",
              "  </style>\n",
              "\n",
              "      <script>\n",
              "        const buttonEl =\n",
              "          document.querySelector('#df-03162b8c-3459-4bfc-802a-3c46875fd1fe button.colab-df-convert');\n",
              "        buttonEl.style.display =\n",
              "          google.colab.kernel.accessAllowed ? 'block' : 'none';\n",
              "\n",
              "        async function convertToInteractive(key) {\n",
              "          const element = document.querySelector('#df-03162b8c-3459-4bfc-802a-3c46875fd1fe');\n",
              "          const dataTable =\n",
              "            await google.colab.kernel.invokeFunction('convertToInteractive',\n",
              "                                                     [key], {});\n",
              "          if (!dataTable) return;\n",
              "\n",
              "          const docLinkHtml = 'Like what you see? Visit the ' +\n",
              "            '<a target=\"_blank\" href=https://colab.research.google.com/notebooks/data_table.ipynb>data table notebook</a>'\n",
              "            + ' to learn more about interactive tables.';\n",
              "          element.innerHTML = '';\n",
              "          dataTable['output_type'] = 'display_data';\n",
              "          await google.colab.output.renderOutput(dataTable, element);\n",
              "          const docLink = document.createElement('div');\n",
              "          docLink.innerHTML = docLinkHtml;\n",
              "          element.appendChild(docLink);\n",
              "        }\n",
              "      </script>\n",
              "    </div>\n",
              "  </div>\n",
              "  "
            ],
            "text/plain": [
              "   BOROUGH  BLOCK   LOT  ... YEAR BUILT SALE PRICE   SALE DATE\n",
              "0        1   1170  1010  ...   1,975.00     551000  2011-07-28\n",
              "1        4   1275    45  ...   1,941.00     338000  2011-05-20\n",
              "2        3   5746    58  ...   1,910.00    1250000  2014-12-04\n",
              "3        4   2086    50  ...   1,955.00     253000  2016-03-09\n",
              "4        4   5028     7  ...   1,955.00          0  2016-12-30\n",
              "\n",
              "[5 rows x 10 columns]"
            ]
          },
          "metadata": {},
          "execution_count": 546
        }
      ]
    },
    {
      "cell_type": "code",
      "source": [
        "def returnInfo(record): #extract necessary fields from a data record (raw)\n",
        "    return (record['ZIP CODE'],record['GROSS SQUARE FEET'],record['SALE PRICE'])\n",
        "\n",
        "def filterRec(record):\n",
        "    size = record[1]\n",
        "    price = record[2]\n",
        "    if size > '500' and price > '100000':\n",
        "        return True\n",
        "    else:\n",
        "        return False\n",
        "\n",
        "def groupZip(result,record):\n",
        "    zip = record[0]\n",
        "    price = record[2]\n",
        "    result[(zip)] = result.get(zip,0) + float(price)\n",
        "    return result\n",
        "\n",
        "def avgPrice(record):\n",
        "    zip = record[0]\n",
        "    price = [record[1]]\n",
        "    avg = sum(price) / len(price)\n",
        "    return (zip, avg)"
      ],
      "metadata": {
        "id": "to0P8Y35IdP2"
      },
      "execution_count": 547,
      "outputs": []
    },
    {
      "cell_type": "code",
      "source": [
        "with open('housingSalseSample.csv', 'r') as data:\n",
        "    reader = csv.DictReader(data)\n",
        "    output1 = list(map(returnInfo,reader))\n",
        "output1[:5]"
      ],
      "metadata": {
        "colab": {
          "base_uri": "https://localhost:8080/"
        },
        "id": "aR6dSyuL2COc",
        "outputId": "4e81c4ab-2a91-4630-eb0d-e6a40574610b"
      },
      "execution_count": 549,
      "outputs": [
        {
          "output_type": "execute_result",
          "data": {
            "text/plain": [
              "[('10024.0', '0.0', '551000'),\n",
              " ('11372.0', '0.0', '338000'),\n",
              " ('11219.0', '3861.0', '1250000'),\n",
              " ('11374.0', '0.0', '253000'),\n",
              " ('11354.0', '0.0', '0')]"
            ]
          },
          "metadata": {},
          "execution_count": 549
        }
      ]
    },
    {
      "cell_type": "code",
      "source": [
        "output2 = list(filter(filterRec, output1))\n",
        "output2[:5]"
      ],
      "metadata": {
        "colab": {
          "base_uri": "https://localhost:8080/"
        },
        "id": "6T6Nk8T02KKL",
        "outputId": "e7583aa8-2fc1-43bb-d2bf-edb18775931f"
      },
      "execution_count": 550,
      "outputs": [
        {
          "output_type": "execute_result",
          "data": {
            "text/plain": [
              "[('11214.0', '5054.0', '2000000'),\n",
              " ('10024.0', '5301.0', '4550000'),\n",
              " ('11215.0', '7660.0', '10775000'),\n",
              " ('11236.0', '896.0', '425000'),\n",
              " ('11217.0', '69998.0', '52200000')]"
            ]
          },
          "metadata": {},
          "execution_count": 550
        }
      ]
    },
    {
      "cell_type": "code",
      "source": [
        "#output3 = list(reduce(groupZip,output2,{}).items())\n",
        "#output3[:5]"
      ],
      "metadata": {
        "id": "nOwimrZwD7YQ"
      },
      "execution_count": 551,
      "outputs": []
    },
    {
      "cell_type": "code",
      "source": [
        "#output4 = list(map(avgPrice,output3))\n",
        "#output4[:5]"
      ],
      "metadata": {
        "id": "6wVvLxWDHUXZ"
      },
      "execution_count": 552,
      "outputs": []
    },
    {
      "cell_type": "code",
      "source": [
        "#with open('housingSalseSample.csv', 'r') as data: #with a given dataset\n",
        "#    reader = csv.DictReader(data) #line-by-line data reader\n",
        "#    output = list(map(lambda x: (x[0],x[1]), #convert to tuples\n",
        "#                      map(avgPrice,\n",
        "#                          list(reduce(groupZip,\n",
        "#                                      filter(filterRec,map(returnInfo,reader) #extract necessary fields from the records\n",
        "#                                             ),\n",
        "#                                      ),\n",
        "#                               {}).items()))) #initial value for the dictionary - {}"
      ],
      "metadata": {
        "id": "1A_9591L3s28"
      },
      "execution_count": 553,
      "outputs": []
    },
    {
      "cell_type": "code",
      "source": [
        "df = pd.DataFrame.from_records(output2, columns = ['zip','size','price'])\n",
        "df = df.drop(columns=['size'])\n",
        "df = df.astype({'price': float})\n",
        "gdf = df.groupby('zip')[['price']].mean().reset_index()\n",
        "ndf = gdf.rename(columns={'price':'avgprice'})\n",
        "fdf = ndf.round({'avgprice': 2})\n",
        "fdf.head()\n",
        "records = fdf.to_records(index=False)\n",
        "output3 = list(records)\n",
        "output3[:5]"
      ],
      "metadata": {
        "colab": {
          "base_uri": "https://localhost:8080/"
        },
        "id": "mC6oegvWaExg",
        "outputId": "a9fde313-9e00-42d6-ca40-6a5be409cb80"
      },
      "execution_count": 554,
      "outputs": [
        {
          "output_type": "execute_result",
          "data": {
            "text/plain": [
              "[('10001.0', 49613816.),\n",
              " ('10002.0', 3989431.81),\n",
              " ('10003.0', 5160787.79),\n",
              " ('10004.0', 2023333.5),\n",
              " ('10005.0', 859285.71)]"
            ]
          },
          "metadata": {},
          "execution_count": 554
        }
      ]
    },
    {
      "cell_type": "code",
      "source": [
        "output = list(map(lambda x: (x[0],x[1]), output3))"
      ],
      "metadata": {
        "id": "8J55yPynLCRg"
      },
      "execution_count": 560,
      "outputs": []
    },
    {
      "cell_type": "code",
      "source": [
        "def grading(output):\n",
        "    import pandas as pd\n",
        "    pd.DataFrame(output,columns=['zipcode','price']).to_csv('output1.csv',index=False)\n",
        "\n",
        "grading(output)"
      ],
      "metadata": {
        "id": "_ZLunKilJSyw"
      },
      "execution_count": 561,
      "outputs": []
    },
    {
      "cell_type": "code",
      "source": [
        "from google.colab import files\n",
        "files.download('output1.csv')"
      ],
      "metadata": {
        "colab": {
          "base_uri": "https://localhost:8080/",
          "height": 17
        },
        "id": "lE4mIlYJJ3xb",
        "outputId": "6e1398c2-cb85-40b9-dfaf-9e8ea9653252"
      },
      "execution_count": 562,
      "outputs": [
        {
          "output_type": "display_data",
          "data": {
            "application/javascript": [
              "\n",
              "    async function download(id, filename, size) {\n",
              "      if (!google.colab.kernel.accessAllowed) {\n",
              "        return;\n",
              "      }\n",
              "      const div = document.createElement('div');\n",
              "      const label = document.createElement('label');\n",
              "      label.textContent = `Downloading \"${filename}\": `;\n",
              "      div.appendChild(label);\n",
              "      const progress = document.createElement('progress');\n",
              "      progress.max = size;\n",
              "      div.appendChild(progress);\n",
              "      document.body.appendChild(div);\n",
              "\n",
              "      const buffers = [];\n",
              "      let downloaded = 0;\n",
              "\n",
              "      const channel = await google.colab.kernel.comms.open(id);\n",
              "      // Send a message to notify the kernel that we're ready.\n",
              "      channel.send({})\n",
              "\n",
              "      for await (const message of channel.messages) {\n",
              "        // Send a message to notify the kernel that we're ready.\n",
              "        channel.send({})\n",
              "        if (message.buffers) {\n",
              "          for (const buffer of message.buffers) {\n",
              "            buffers.push(buffer);\n",
              "            downloaded += buffer.byteLength;\n",
              "            progress.value = downloaded;\n",
              "          }\n",
              "        }\n",
              "      }\n",
              "      const blob = new Blob(buffers, {type: 'application/binary'});\n",
              "      const a = document.createElement('a');\n",
              "      a.href = window.URL.createObjectURL(blob);\n",
              "      a.download = filename;\n",
              "      div.appendChild(a);\n",
              "      a.click();\n",
              "      div.remove();\n",
              "    }\n",
              "  "
            ],
            "text/plain": [
              "<IPython.core.display.Javascript object>"
            ]
          },
          "metadata": {}
        },
        {
          "output_type": "display_data",
          "data": {
            "application/javascript": [
              "download(\"download_d54cbb90-711d-44e9-802c-eeebf7df8159\", \"output1.csv\", 3172)"
            ],
            "text/plain": [
              "<IPython.core.display.Javascript object>"
            ]
          },
          "metadata": {}
        }
      ]
    },
    {
      "cell_type": "code",
      "source": [
        "!wget -O ADSSession2Task2Data.csv https://raw.githubusercontent.com/CUSP2022ADS/Data/main/ADSSession2Task2Data.csv"
      ],
      "metadata": {
        "colab": {
          "base_uri": "https://localhost:8080/"
        },
        "id": "DlNYIi4sJcuS",
        "outputId": "068f173d-ce57-4df0-d6f0-19ebc40c33a7"
      },
      "execution_count": 538,
      "outputs": [
        {
          "output_type": "stream",
          "name": "stdout",
          "text": [
            "--2022-02-14 16:51:52--  https://raw.githubusercontent.com/CUSP2022ADS/Data/main/ADSSession2Task2Data.csv\n",
            "Resolving raw.githubusercontent.com (raw.githubusercontent.com)... 185.199.108.133, 185.199.111.133, 185.199.109.133, ...\n",
            "Connecting to raw.githubusercontent.com (raw.githubusercontent.com)|185.199.108.133|:443... connected.\n",
            "HTTP request sent, awaiting response... 200 OK\n",
            "Length: 279369 (273K) [text/plain]\n",
            "Saving to: ‘ADSSession2Task2Data.csv’\n",
            "\n",
            "\rADSSession2Task2Dat   0%[                    ]       0  --.-KB/s               \rADSSession2Task2Dat 100%[===================>] 272.82K  --.-KB/s    in 0.02s   \n",
            "\n",
            "2022-02-14 16:51:52 (15.3 MB/s) - ‘ADSSession2Task2Data.csv’ saved [279369/279369]\n",
            "\n"
          ]
        }
      ]
    },
    {
      "cell_type": "code",
      "source": [
        "with open('housingSalseSample.csv', 'r') as fi:\n",
        "    reader = csv.DictReader(fi)\n",
        "    chunk = []\n",
        "    result = []\n",
        "    # read 100000 rows in each chunk\n",
        "    chunksize = 100000\n",
        "    pool = Pool(8)\n",
        "    for i, line in enumerate(reader):\n",
        "        \n",
        "        if (i % chunksize == 0 and i > 0):\n",
        "            # MapReduce function for rows in one chunk\n",
        "            output = list(pool.map(avgPrice,\n",
        "                         reduce(groupZip,\n",
        "                             pool.map(returnInfo,chunk)\n",
        "                            ),\n",
        "                         {}).items())\n",
        "            result += output\n",
        "            chunk = []\n",
        "            \n",
        "        \n",
        "        # add lines to chunk, and when the index\n",
        "        # is 100000, 200000, etc, stop adding new lines\n",
        "        # and start MapReduce functions\n",
        "        chunk.append(line)\n",
        "        \n",
        "    # MapReduce function for the last chunk\n",
        "    output = list(pool.map(avgPrice,\n",
        "                         reduce(groupZip,\n",
        "                             pool.map(returnInfo,chunk)\n",
        "                            ),\n",
        "                         {}).items())\n",
        "    result += output\n",
        "    pool.close()"
      ],
      "metadata": {
        "id": "FH-nMBJYLrb5"
      },
      "execution_count": null,
      "outputs": []
    },
    {
      "cell_type": "code",
      "source": [
        "def grading(output):\n",
        "    import pandas as pd\n",
        "    pd.DataFrame(output,columns=['Type','Value']).to_csv('output2.csv',index=False)\n",
        "\n",
        "grading(output)"
      ],
      "metadata": {
        "id": "Y9IMs0MfMOfj"
      },
      "execution_count": null,
      "outputs": []
    }
  ]
}